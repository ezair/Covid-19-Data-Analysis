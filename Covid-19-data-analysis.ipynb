{
  "nbformat": 4,
  "nbformat_minor": 0,
  "metadata": {
    "colab": {
      "name": "Final Project Notebook",
      "provenance": [],
      "collapsed_sections": [],
      "authorship_tag": "ABX9TyOXRDpMHrDAlI/hhJQQMxS7",
      "include_colab_link": true
    },
    "kernelspec": {
      "display_name": "R",
      "name": "ir"
    }
  },
  "cells": [
    {
      "cell_type": "markdown",
      "metadata": {
        "id": "view-in-github",
        "colab_type": "text"
      },
      "source": [
        "<a href=\"https://colab.research.google.com/github/ezair/Covid-19-Data-Analysis/blob/master/Covid-19-data-analysis.ipynb\" target=\"_parent\"><img src=\"https://colab.research.google.com/assets/colab-badge.svg\" alt=\"Open In Colab\"/></a>"
      ]
    },
    {
      "cell_type": "markdown",
      "metadata": {
        "id": "Sbtdh-GCHqvn"
      },
      "source": [
        "# Covid-19 Data Analysis"
      ]
    },
    {
      "cell_type": "markdown",
      "metadata": {
        "id": "NMB2gvNcsMCO"
      },
      "source": [
        "Date: 02.26.2021\n",
        "\n",
        "Eric Alexander Zair\n",
        "\n",
        "Introduction To Data Science\n",
        "\n",
        "Syracuse University \n",
        "\n",
        "Winter 2021\n"
      ]
    },
    {
      "cell_type": "markdown",
      "metadata": {
        "id": "EPRIGZ_mHhqv"
      },
      "source": [
        "## Overview"
      ]
    },
    {
      "cell_type": "markdown",
      "metadata": {
        "id": "ojd8hwJAHfIn"
      },
      "source": [
        "The goal of this project is analyze a dataset containing information about covid-19 cases and deaths by US states. The dataset I am using for analysis can be found here: https://data.cdc.gov/api/views/9mfq-cb36/rows.csv. Using this dataset I will be able to take a look at the correlation between covid-19 deaths and covid-19 case for a given state and during a specific time period. The end goal is to see if we can get an idea of what states are doing a “good” job at handling covid-19 as well as cluster the data to figure out what states are similar with respect to covid. We can then determine what states are “good”, “average”, or “bad” with respect to the pandemic. This will be done using K-means clustering. If I have enough time I will also consider looking into time series forecasting on the covid case case count per state and see if I can factor in a dataset containing information on if a vaccine is out during a certain time period."
      ]
    },
    {
      "cell_type": "markdown",
      "metadata": {
        "id": "zqotZ1ALiNcw"
      },
      "source": [
        "### Goals"
      ]
    },
    {
      "cell_type": "markdown",
      "metadata": {
        "id": "6Qv9DaLaiRiW"
      },
      "source": [
        "⦁\tWhat state has the most covid cases?\n",
        "\n",
        "⦁\tWhat state has the most covid deaths?\n",
        "\n",
        "⦁\tWhat state has the least covid deaths?\n",
        "\n",
        "⦁\tWhat state has the least covid deaths?\n",
        "\n",
        "⦁\tIs there a pattern between deaths and states that we can find without the need for 3rd party data such as age and pre-existing conditions of victims.\n",
        "\n",
        "⦁\tConstruct visualizations (where possible) to display the above metrics.\n",
        "⦁\tFind out the mean and standard deviation of each state with respect to covid-19.\n",
        "\n",
        "⦁\tCompare state population to covid cases.\n",
        "\n",
        "⦁\tCompare state population to covid deaths.\n",
        "\n",
        "⦁\tCreate a metric to represent the efficiency of a state with respect to covid-19.\n",
        "\n",
        "⦁\tRun K-Means cluster on the dataset to figure out which states are most similar in regards to covid-19 related metrics."
      ]
    },
    {
      "cell_type": "code",
      "metadata": {
        "id": "CI_TQ9DTr4II",
        "colab": {
          "base_uri": "https://localhost:8080/"
        },
        "outputId": "79cf22a8-0d38-4859-c729-faf8ecf31e4c"
      },
      "source": [
        "# Install all required 3rd party packages.\n",
        "install.packages('usdata')\n",
        "install.packages('ggplot2')\n",
        "install.packages('dplyr')\n",
        "\n",
        "# # Some additional clustering packages.\n",
        "# pkgs <- c(\"factoextra\",  \"NbClust\")\n",
        "# install.packages(pkgs)"
      ],
      "execution_count": null,
      "outputs": [
        {
          "output_type": "stream",
          "text": [
            "Installing package into ‘/usr/local/lib/R/site-library’\n",
            "(as ‘lib’ is unspecified)\n",
            "\n",
            "Installing package into ‘/usr/local/lib/R/site-library’\n",
            "(as ‘lib’ is unspecified)\n",
            "\n",
            "Installing package into ‘/usr/local/lib/R/site-library’\n",
            "(as ‘lib’ is unspecified)\n",
            "\n"
          ],
          "name": "stderr"
        }
      ]
    },
    {
      "cell_type": "code",
      "metadata": {
        "id": "_JTLrKgefEnC"
      },
      "source": [
        "# This is the project that we will be running analysis on.\n",
        "covid19_dataset <- 'https://data.cdc.gov/api/views/9mfq-cb36/rows.csv'"
      ],
      "execution_count": null,
      "outputs": []
    },
    {
      "cell_type": "markdown",
      "metadata": {
        "id": "AAVfJe7iwfnX"
      },
      "source": [
        "More detailed information about this dataset can be found at https://healthdata.gov/dataset/united-states-covid-19-cases-and-deaths-state-over-time"
      ]
    },
    {
      "cell_type": "code",
      "metadata": {
        "id": "pYPlQ-LcshPt"
      },
      "source": [
        "# Load in the dataset.\n",
        "df <- read.csv(covid19_dataset)"
      ],
      "execution_count": null,
      "outputs": []
    },
    {
      "cell_type": "markdown",
      "metadata": {
        "id": "lDRZNg5nsmxO"
      },
      "source": [
        "## Explore the dataset"
      ]
    },
    {
      "cell_type": "markdown",
      "metadata": {
        "id": "XHYuKDLZs3dJ"
      },
      "source": [
        "First let's take a look at the number of rows and columns in our dataset."
      ]
    },
    {
      "cell_type": "code",
      "metadata": {
        "id": "MnoInvdPs3Lu",
        "colab": {
          "base_uri": "https://localhost:8080/"
        },
        "outputId": "d0be90e0-f239-4ab4-9d24-72ad5faa55a2"
      },
      "source": [
        "df_dims <- dim(df)\n",
        "cat(\"There are\", df_dims[1], \"rows in the dataset.\\n\")\n",
        "cat(\"There are\", df_dims[2], \"columns in the dataset.\\n\")"
      ],
      "execution_count": null,
      "outputs": [
        {
          "output_type": "stream",
          "text": [
            "There are 25740 rows in the dataset.\n",
            "There are 15 columns in the dataset.\n"
          ],
          "name": "stdout"
        }
      ]
    },
    {
      "cell_type": "markdown",
      "metadata": {
        "id": "gCK5UZqLt_mM"
      },
      "source": [
        "Now let's take a look at what columns we are dealing with in this dataset.\n"
      ]
    },
    {
      "cell_type": "code",
      "metadata": {
        "id": "gNn8qQlit_Uq",
        "colab": {
          "base_uri": "https://localhost:8080/"
        },
        "outputId": "74e2692b-082e-405d-cbf6-3a2b83f2484b"
      },
      "source": [
        "list_of_cols_in_df <- colnames(df)\n",
        "for (i in 1:length(list_of_cols_in_df)) {\n",
        "    cat(\"Column\", i, \"-\", list_of_cols_in_df[i], \"\\n\")\n",
        "}"
      ],
      "execution_count": null,
      "outputs": [
        {
          "output_type": "stream",
          "text": [
            "Column 1 - submission_date \n",
            "Column 2 - state \n",
            "Column 3 - tot_cases \n",
            "Column 4 - conf_cases \n",
            "Column 5 - prob_cases \n",
            "Column 6 - new_case \n",
            "Column 7 - pnew_case \n",
            "Column 8 - tot_death \n",
            "Column 9 - conf_death \n",
            "Column 10 - prob_death \n",
            "Column 11 - new_death \n",
            "Column 12 - pnew_death \n",
            "Column 13 - created_at \n",
            "Column 14 - consent_cases \n",
            "Column 15 - consent_deaths \n"
          ],
          "name": "stdout"
        }
      ]
    },
    {
      "cell_type": "markdown",
      "metadata": {
        "id": "gV_D1K00va8E"
      },
      "source": [
        "Let's take a better look at the data frame to understand the type of each column and what an individual vector entry (row) looks like."
      ]
    },
    {
      "cell_type": "code",
      "metadata": {
        "id": "pWUJBiYuvqf1",
        "colab": {
          "base_uri": "https://localhost:8080/",
          "height": 562
        },
        "outputId": "4131f3b4-b4e0-4d2e-ea3f-a112866c50d3"
      },
      "source": [
        "head(df, 15)"
      ],
      "execution_count": null,
      "outputs": [
        {
          "output_type": "display_data",
          "data": {
            "text/plain": [
              "   submission_date state tot_cases conf_cases prob_cases new_case pnew_case\n",
              "1  12/08/2020      OK    205999    171497     34502         0       0      \n",
              "2  08/29/2020      SD     12942        NA        NA       425       0      \n",
              "3  04/14/2020      UT      2453        NA        NA        61      NA      \n",
              "4  02/26/2020      UT         0        NA        NA         0      NA      \n",
              "5  03/05/2020      GA         2        NA        NA        -5      NA      \n",
              "6  05/04/2020      WV      1224      1224         0        29       0      \n",
              "7  04/16/2020      PA     27735     27545       190      1245     190      \n",
              "8  05/05/2020      GA     28196     28182        14       602       1      \n",
              "9  08/23/2020      TN    143937    141000      2937      1854      38      \n",
              "10 05/16/2020      AS         0        NA        NA         0       0      \n",
              "11 09/08/2020      PW         0        NA        NA         0       0      \n",
              "12 04/05/2020      WV       324        NA        NA        42      NA      \n",
              "13 03/24/2021      HI     28045        NA        NA        55       0      \n",
              "14 05/04/2020      MP        14        14         0         0       0      \n",
              "15 06/07/2020      PW         0        NA        NA         0       0      \n",
              "   tot_death conf_death prob_death new_death pnew_death created_at            \n",
              "1  1752      1680       72          0         0         12/09/2020 02:45:40 PM\n",
              "2   167       165        2          2         0         08/30/2020 02:49:52 PM\n",
              "3    20        NA       NA          2        NA         04/13/2020 04:22:39 PM\n",
              "4     0        NA       NA          0        NA         03/26/2020 04:22:39 PM\n",
              "5     0        NA       NA          0        NA         03/26/2020 04:22:39 PM\n",
              "6    50        NA       NA          0         0         05/05/2020 05:25:08 PM\n",
              "7   707        NA       NA         60         6         04/16/2020 04:22:39 PM\n",
              "8  1258      1258        0         47         0         05/06/2020 12:23:08 PM\n",
              "9  1567      1527       40          4         0         08/24/2020 01:54:34 PM\n",
              "10    0        NA       NA          0         0         05/17/2020 03:27:46 PM\n",
              "11    0        NA       NA          0         0         09/09/2020 01:47:50 PM\n",
              "12    3        NA       NA          1        NA         04/04/2020 04:22:39 PM\n",
              "13  454        NA       NA          3         0         03/25/2021 02:25:23 PM\n",
              "14    2         2        0          0         0         05/05/2020 05:25:08 PM\n",
              "15    0        NA       NA          0         0         06/08/2020 02:55:08 PM\n",
              "   consent_cases consent_deaths\n",
              "1  Agree         Agree         \n",
              "2  N/A           Agree         \n",
              "3  Agree         Agree         \n",
              "4  Agree         Agree         \n",
              "5  Agree         Agree         \n",
              "6  Agree         Not agree     \n",
              "7  Agree         Not agree     \n",
              "8  Agree         Agree         \n",
              "9  Agree         Agree         \n",
              "10                             \n",
              "11                             \n",
              "12 Agree         Not agree     \n",
              "13 Not agree     Not agree     \n",
              "14 Agree         Agree         \n",
              "15                             "
            ],
            "text/latex": "A data.frame: 15 × 15\n\\begin{tabular}{r|lllllllllllllll}\n  & submission\\_date & state & tot\\_cases & conf\\_cases & prob\\_cases & new\\_case & pnew\\_case & tot\\_death & conf\\_death & prob\\_death & new\\_death & pnew\\_death & created\\_at & consent\\_cases & consent\\_deaths\\\\\n  & <chr> & <chr> & <int> & <int> & <int> & <int> & <int> & <int> & <int> & <int> & <int> & <int> & <chr> & <chr> & <chr>\\\\\n\\hline\n\t1 & 12/08/2020 & OK & 205999 & 171497 & 34502 &    0 &   0 & 1752 & 1680 & 72 &  0 &  0 & 12/09/2020 02:45:40 PM & Agree     & Agree    \\\\\n\t2 & 08/29/2020 & SD &  12942 &     NA &    NA &  425 &   0 &  167 &  165 &  2 &  2 &  0 & 08/30/2020 02:49:52 PM & N/A       & Agree    \\\\\n\t3 & 04/14/2020 & UT &   2453 &     NA &    NA &   61 &  NA &   20 &   NA & NA &  2 & NA & 04/13/2020 04:22:39 PM & Agree     & Agree    \\\\\n\t4 & 02/26/2020 & UT &      0 &     NA &    NA &    0 &  NA &    0 &   NA & NA &  0 & NA & 03/26/2020 04:22:39 PM & Agree     & Agree    \\\\\n\t5 & 03/05/2020 & GA &      2 &     NA &    NA &   -5 &  NA &    0 &   NA & NA &  0 & NA & 03/26/2020 04:22:39 PM & Agree     & Agree    \\\\\n\t6 & 05/04/2020 & WV &   1224 &   1224 &     0 &   29 &   0 &   50 &   NA & NA &  0 &  0 & 05/05/2020 05:25:08 PM & Agree     & Not agree\\\\\n\t7 & 04/16/2020 & PA &  27735 &  27545 &   190 & 1245 & 190 &  707 &   NA & NA & 60 &  6 & 04/16/2020 04:22:39 PM & Agree     & Not agree\\\\\n\t8 & 05/05/2020 & GA &  28196 &  28182 &    14 &  602 &   1 & 1258 & 1258 &  0 & 47 &  0 & 05/06/2020 12:23:08 PM & Agree     & Agree    \\\\\n\t9 & 08/23/2020 & TN & 143937 & 141000 &  2937 & 1854 &  38 & 1567 & 1527 & 40 &  4 &  0 & 08/24/2020 01:54:34 PM & Agree     & Agree    \\\\\n\t10 & 05/16/2020 & AS &      0 &     NA &    NA &    0 &   0 &    0 &   NA & NA &  0 &  0 & 05/17/2020 03:27:46 PM &           &          \\\\\n\t11 & 09/08/2020 & PW &      0 &     NA &    NA &    0 &   0 &    0 &   NA & NA &  0 &  0 & 09/09/2020 01:47:50 PM &           &          \\\\\n\t12 & 04/05/2020 & WV &    324 &     NA &    NA &   42 &  NA &    3 &   NA & NA &  1 & NA & 04/04/2020 04:22:39 PM & Agree     & Not agree\\\\\n\t13 & 03/24/2021 & HI &  28045 &     NA &    NA &   55 &   0 &  454 &   NA & NA &  3 &  0 & 03/25/2021 02:25:23 PM & Not agree & Not agree\\\\\n\t14 & 05/04/2020 & MP &     14 &     14 &     0 &    0 &   0 &    2 &    2 &  0 &  0 &  0 & 05/05/2020 05:25:08 PM & Agree     & Agree    \\\\\n\t15 & 06/07/2020 & PW &      0 &     NA &    NA &    0 &   0 &    0 &   NA & NA &  0 &  0 & 06/08/2020 02:55:08 PM &           &          \\\\\n\\end{tabular}\n",
            "text/markdown": "\nA data.frame: 15 × 15\n\n| <!--/--> | submission_date &lt;chr&gt; | state &lt;chr&gt; | tot_cases &lt;int&gt; | conf_cases &lt;int&gt; | prob_cases &lt;int&gt; | new_case &lt;int&gt; | pnew_case &lt;int&gt; | tot_death &lt;int&gt; | conf_death &lt;int&gt; | prob_death &lt;int&gt; | new_death &lt;int&gt; | pnew_death &lt;int&gt; | created_at &lt;chr&gt; | consent_cases &lt;chr&gt; | consent_deaths &lt;chr&gt; |\n|---|---|---|---|---|---|---|---|---|---|---|---|---|---|---|---|\n| 1 | 12/08/2020 | OK | 205999 | 171497 | 34502 |    0 |   0 | 1752 | 1680 | 72 |  0 |  0 | 12/09/2020 02:45:40 PM | Agree     | Agree     |\n| 2 | 08/29/2020 | SD |  12942 |     NA |    NA |  425 |   0 |  167 |  165 |  2 |  2 |  0 | 08/30/2020 02:49:52 PM | N/A       | Agree     |\n| 3 | 04/14/2020 | UT |   2453 |     NA |    NA |   61 |  NA |   20 |   NA | NA |  2 | NA | 04/13/2020 04:22:39 PM | Agree     | Agree     |\n| 4 | 02/26/2020 | UT |      0 |     NA |    NA |    0 |  NA |    0 |   NA | NA |  0 | NA | 03/26/2020 04:22:39 PM | Agree     | Agree     |\n| 5 | 03/05/2020 | GA |      2 |     NA |    NA |   -5 |  NA |    0 |   NA | NA |  0 | NA | 03/26/2020 04:22:39 PM | Agree     | Agree     |\n| 6 | 05/04/2020 | WV |   1224 |   1224 |     0 |   29 |   0 |   50 |   NA | NA |  0 |  0 | 05/05/2020 05:25:08 PM | Agree     | Not agree |\n| 7 | 04/16/2020 | PA |  27735 |  27545 |   190 | 1245 | 190 |  707 |   NA | NA | 60 |  6 | 04/16/2020 04:22:39 PM | Agree     | Not agree |\n| 8 | 05/05/2020 | GA |  28196 |  28182 |    14 |  602 |   1 | 1258 | 1258 |  0 | 47 |  0 | 05/06/2020 12:23:08 PM | Agree     | Agree     |\n| 9 | 08/23/2020 | TN | 143937 | 141000 |  2937 | 1854 |  38 | 1567 | 1527 | 40 |  4 |  0 | 08/24/2020 01:54:34 PM | Agree     | Agree     |\n| 10 | 05/16/2020 | AS |      0 |     NA |    NA |    0 |   0 |    0 |   NA | NA |  0 |  0 | 05/17/2020 03:27:46 PM | <!----> | <!----> |\n| 11 | 09/08/2020 | PW |      0 |     NA |    NA |    0 |   0 |    0 |   NA | NA |  0 |  0 | 09/09/2020 01:47:50 PM | <!----> | <!----> |\n| 12 | 04/05/2020 | WV |    324 |     NA |    NA |   42 |  NA |    3 |   NA | NA |  1 | NA | 04/04/2020 04:22:39 PM | Agree     | Not agree |\n| 13 | 03/24/2021 | HI |  28045 |     NA |    NA |   55 |   0 |  454 |   NA | NA |  3 |  0 | 03/25/2021 02:25:23 PM | Not agree | Not agree |\n| 14 | 05/04/2020 | MP |     14 |     14 |     0 |    0 |   0 |    2 |    2 |  0 |  0 |  0 | 05/05/2020 05:25:08 PM | Agree     | Agree     |\n| 15 | 06/07/2020 | PW |      0 |     NA |    NA |    0 |   0 |    0 |   NA | NA |  0 |  0 | 06/08/2020 02:55:08 PM | <!----> | <!----> |\n\n",
            "text/html": [
              "<table class=\"dataframe\">\n",
              "<caption>A data.frame: 15 × 15</caption>\n",
              "<thead>\n",
              "\t<tr><th></th><th scope=col>submission_date</th><th scope=col>state</th><th scope=col>tot_cases</th><th scope=col>conf_cases</th><th scope=col>prob_cases</th><th scope=col>new_case</th><th scope=col>pnew_case</th><th scope=col>tot_death</th><th scope=col>conf_death</th><th scope=col>prob_death</th><th scope=col>new_death</th><th scope=col>pnew_death</th><th scope=col>created_at</th><th scope=col>consent_cases</th><th scope=col>consent_deaths</th></tr>\n",
              "\t<tr><th></th><th scope=col>&lt;chr&gt;</th><th scope=col>&lt;chr&gt;</th><th scope=col>&lt;int&gt;</th><th scope=col>&lt;int&gt;</th><th scope=col>&lt;int&gt;</th><th scope=col>&lt;int&gt;</th><th scope=col>&lt;int&gt;</th><th scope=col>&lt;int&gt;</th><th scope=col>&lt;int&gt;</th><th scope=col>&lt;int&gt;</th><th scope=col>&lt;int&gt;</th><th scope=col>&lt;int&gt;</th><th scope=col>&lt;chr&gt;</th><th scope=col>&lt;chr&gt;</th><th scope=col>&lt;chr&gt;</th></tr>\n",
              "</thead>\n",
              "<tbody>\n",
              "\t<tr><th scope=row>1</th><td>12/08/2020</td><td>OK</td><td>205999</td><td>171497</td><td>34502</td><td>   0</td><td>  0</td><td>1752</td><td>1680</td><td>72</td><td> 0</td><td> 0</td><td>12/09/2020 02:45:40 PM</td><td>Agree    </td><td>Agree    </td></tr>\n",
              "\t<tr><th scope=row>2</th><td>08/29/2020</td><td>SD</td><td> 12942</td><td>    NA</td><td>   NA</td><td> 425</td><td>  0</td><td> 167</td><td> 165</td><td> 2</td><td> 2</td><td> 0</td><td>08/30/2020 02:49:52 PM</td><td>N/A      </td><td>Agree    </td></tr>\n",
              "\t<tr><th scope=row>3</th><td>04/14/2020</td><td>UT</td><td>  2453</td><td>    NA</td><td>   NA</td><td>  61</td><td> NA</td><td>  20</td><td>  NA</td><td>NA</td><td> 2</td><td>NA</td><td>04/13/2020 04:22:39 PM</td><td>Agree    </td><td>Agree    </td></tr>\n",
              "\t<tr><th scope=row>4</th><td>02/26/2020</td><td>UT</td><td>     0</td><td>    NA</td><td>   NA</td><td>   0</td><td> NA</td><td>   0</td><td>  NA</td><td>NA</td><td> 0</td><td>NA</td><td>03/26/2020 04:22:39 PM</td><td>Agree    </td><td>Agree    </td></tr>\n",
              "\t<tr><th scope=row>5</th><td>03/05/2020</td><td>GA</td><td>     2</td><td>    NA</td><td>   NA</td><td>  -5</td><td> NA</td><td>   0</td><td>  NA</td><td>NA</td><td> 0</td><td>NA</td><td>03/26/2020 04:22:39 PM</td><td>Agree    </td><td>Agree    </td></tr>\n",
              "\t<tr><th scope=row>6</th><td>05/04/2020</td><td>WV</td><td>  1224</td><td>  1224</td><td>    0</td><td>  29</td><td>  0</td><td>  50</td><td>  NA</td><td>NA</td><td> 0</td><td> 0</td><td>05/05/2020 05:25:08 PM</td><td>Agree    </td><td>Not agree</td></tr>\n",
              "\t<tr><th scope=row>7</th><td>04/16/2020</td><td>PA</td><td> 27735</td><td> 27545</td><td>  190</td><td>1245</td><td>190</td><td> 707</td><td>  NA</td><td>NA</td><td>60</td><td> 6</td><td>04/16/2020 04:22:39 PM</td><td>Agree    </td><td>Not agree</td></tr>\n",
              "\t<tr><th scope=row>8</th><td>05/05/2020</td><td>GA</td><td> 28196</td><td> 28182</td><td>   14</td><td> 602</td><td>  1</td><td>1258</td><td>1258</td><td> 0</td><td>47</td><td> 0</td><td>05/06/2020 12:23:08 PM</td><td>Agree    </td><td>Agree    </td></tr>\n",
              "\t<tr><th scope=row>9</th><td>08/23/2020</td><td>TN</td><td>143937</td><td>141000</td><td> 2937</td><td>1854</td><td> 38</td><td>1567</td><td>1527</td><td>40</td><td> 4</td><td> 0</td><td>08/24/2020 01:54:34 PM</td><td>Agree    </td><td>Agree    </td></tr>\n",
              "\t<tr><th scope=row>10</th><td>05/16/2020</td><td>AS</td><td>     0</td><td>    NA</td><td>   NA</td><td>   0</td><td>  0</td><td>   0</td><td>  NA</td><td>NA</td><td> 0</td><td> 0</td><td>05/17/2020 03:27:46 PM</td><td>         </td><td>         </td></tr>\n",
              "\t<tr><th scope=row>11</th><td>09/08/2020</td><td>PW</td><td>     0</td><td>    NA</td><td>   NA</td><td>   0</td><td>  0</td><td>   0</td><td>  NA</td><td>NA</td><td> 0</td><td> 0</td><td>09/09/2020 01:47:50 PM</td><td>         </td><td>         </td></tr>\n",
              "\t<tr><th scope=row>12</th><td>04/05/2020</td><td>WV</td><td>   324</td><td>    NA</td><td>   NA</td><td>  42</td><td> NA</td><td>   3</td><td>  NA</td><td>NA</td><td> 1</td><td>NA</td><td>04/04/2020 04:22:39 PM</td><td>Agree    </td><td>Not agree</td></tr>\n",
              "\t<tr><th scope=row>13</th><td>03/24/2021</td><td>HI</td><td> 28045</td><td>    NA</td><td>   NA</td><td>  55</td><td>  0</td><td> 454</td><td>  NA</td><td>NA</td><td> 3</td><td> 0</td><td>03/25/2021 02:25:23 PM</td><td>Not agree</td><td>Not agree</td></tr>\n",
              "\t<tr><th scope=row>14</th><td>05/04/2020</td><td>MP</td><td>    14</td><td>    14</td><td>    0</td><td>   0</td><td>  0</td><td>   2</td><td>   2</td><td> 0</td><td> 0</td><td> 0</td><td>05/05/2020 05:25:08 PM</td><td>Agree    </td><td>Agree    </td></tr>\n",
              "\t<tr><th scope=row>15</th><td>06/07/2020</td><td>PW</td><td>     0</td><td>    NA</td><td>   NA</td><td>   0</td><td>  0</td><td>   0</td><td>  NA</td><td>NA</td><td> 0</td><td> 0</td><td>06/08/2020 02:55:08 PM</td><td>         </td><td>         </td></tr>\n",
              "</tbody>\n",
              "</table>\n"
            ]
          },
          "metadata": {
            "tags": []
          }
        }
      ]
    },
    {
      "cell_type": "markdown",
      "metadata": {
        "id": "YkiRJ0kszH7G"
      },
      "source": [
        "To better understand the data we will take state from the dataset and get all records that are associated with it.\n",
        "\n",
        "We will then take a look at the tot_cases associated in decending order."
      ]
    },
    {
      "cell_type": "code",
      "metadata": {
        "id": "kzVY2CK3zHwK",
        "colab": {
          "base_uri": "https://localhost:8080/",
          "height": 717
        },
        "outputId": "5e7d7555-1f0d-4903-96c7-a9de05807025"
      },
      "source": [
        "# Get only results from florida.\n",
        "df_florida <- df[which(df$state == 'FL'),]\n",
        "\n",
        "# Sort the florida df by total cases (tot_cases) in decreasing order.\n",
        "df_florida <- df_florida[order(df_florida$tot_cases, decreasing = TRUE),]\n",
        "\n",
        "# View the new df we have.\n",
        "head(df_florida, 20)"
      ],
      "execution_count": null,
      "outputs": [
        {
          "output_type": "display_data",
          "data": {
            "text/plain": [
              "      submission_date state tot_cases conf_cases prob_cases new_case pnew_case\n",
              "1895  03/25/2021      FL    1989922   NA         NA         5648     1643     \n",
              "4493  03/24/2021      FL    1984274   NA         NA         5034     1988     \n",
              "2566  03/23/2021      FL    1979240   NA         NA         5189     1613     \n",
              "2853  03/22/2021      FL    1974051   NA         NA         2780      920     \n",
              "4302  03/21/2021      FL    1971271   NA         NA         3899     1223     \n",
              "25656 03/20/2021      FL    1967372   NA         NA         5012     1291     \n",
              "2347  03/19/2021      FL    1962360   NA         NA         5046     1419     \n",
              "877   03/18/2021      FL    1957314   NA         NA         4993     -222     \n",
              "24320 03/17/2021      FL    1952321   NA         NA         4487     1401     \n",
              "21099 03/16/2021      FL    1947834   NA         NA         4699     1731     \n",
              "5000  03/15/2021      FL    1943135   NA         NA         2755      404     \n",
              "2187  03/14/2021      FL    1940380   NA         NA         3592      829     \n",
              "24255 03/13/2021      FL    1936788   NA         NA         5175     1231     \n",
              "2255  03/12/2021      FL    1931613   NA         NA         5119     1762     \n",
              "3896  03/11/2021      FL    1926494   NA         NA         4946     1585     \n",
              "3774  03/10/2021      FL    1921548   NA         NA         4774     1574     \n",
              "22064 03/09/2021      FL    1916774   NA         NA         4334     1558     \n",
              "21346 03/08/2021      FL    1912440   NA         NA         3231      916     \n",
              "22627 03/07/2021      FL    1909209   NA         NA         4024      830     \n",
              "1644  03/06/2021      FL    1905185   NA         NA         4587     1344     \n",
              "      tot_death conf_death prob_death new_death pnew_death\n",
              "1895  32957     NA         NA         107       12        \n",
              "4493  32850     NA         NA          30        4        \n",
              "2566  32820     NA         NA          41        2        \n",
              "2853  32779     NA         NA          37        2        \n",
              "4302  32742     NA         NA          29        0        \n",
              "25656 32713     NA         NA          62        4        \n",
              "2347  32651     NA         NA          53        3        \n",
              "877   32598     NA         NA          94        5        \n",
              "24320 32504     NA         NA          55       -1        \n",
              "21099 32449     NA         NA         101        3        \n",
              "5000  32348     NA         NA          93        6        \n",
              "2187  32255     NA         NA          30        1        \n",
              "24255 32225     NA         NA          80       10        \n",
              "2255  32145     NA         NA         105        9        \n",
              "3896  32040     NA         NA          92       11        \n",
              "3774  31948     NA         NA          59        5        \n",
              "22064 31889     NA         NA         125        4        \n",
              "21346 31764     NA         NA          81        7        \n",
              "22627 31683     NA         NA          63        8        \n",
              "1644  31620     NA         NA          98        9        \n",
              "      created_at             consent_cases consent_deaths\n",
              "1895  03/26/2021 02:14:54 PM Not agree     Not agree     \n",
              "4493  03/25/2021 02:25:23 PM Not agree     Not agree     \n",
              "2566  03/24/2021 02:16:52 PM Not agree     Not agree     \n",
              "2853  03/23/2021 02:05:18 PM Not agree     Not agree     \n",
              "4302  03/22/2021 01:57:09 PM Not agree     Not agree     \n",
              "25656 03/21/2021 01:54:01 PM Not agree     Not agree     \n",
              "2347  03/20/2021 02:03:21 PM Not agree     Not agree     \n",
              "877   03/19/2021 02:25:43 PM Not agree     Not agree     \n",
              "24320 03/18/2021 02:01:55 PM Not agree     Not agree     \n",
              "21099 03/17/2021 02:24:24 PM Not agree     Not agree     \n",
              "5000  03/16/2021 02:12:32 PM Not agree     Not agree     \n",
              "2187  03/15/2021 02:03:45 PM Not agree     Not agree     \n",
              "24255 03/14/2021 01:53:25 PM Not agree     Not agree     \n",
              "2255  03/13/2021 03:19:19 PM Not agree     Not agree     \n",
              "3896  03/12/2021 03:20:13 PM Not agree     Not agree     \n",
              "3774  03/11/2021 03:36:21 PM Not agree     Not agree     \n",
              "22064 03/10/2021 02:58:31 PM Not agree     Not agree     \n",
              "21346 03/09/2021 02:47:41 PM Not agree     Not agree     \n",
              "22627 03/08/2021 02:47:36 PM Not agree     Not agree     \n",
              "1644  03/07/2021 02:51:40 PM Not agree     Not agree     "
            ],
            "text/latex": "A data.frame: 20 × 15\n\\begin{tabular}{r|lllllllllllllll}\n  & submission\\_date & state & tot\\_cases & conf\\_cases & prob\\_cases & new\\_case & pnew\\_case & tot\\_death & conf\\_death & prob\\_death & new\\_death & pnew\\_death & created\\_at & consent\\_cases & consent\\_deaths\\\\\n  & <chr> & <chr> & <int> & <int> & <int> & <int> & <int> & <int> & <int> & <int> & <int> & <int> & <chr> & <chr> & <chr>\\\\\n\\hline\n\t1895 & 03/25/2021 & FL & 1989922 & NA & NA & 5648 & 1643 & 32957 & NA & NA & 107 & 12 & 03/26/2021 02:14:54 PM & Not agree & Not agree\\\\\n\t4493 & 03/24/2021 & FL & 1984274 & NA & NA & 5034 & 1988 & 32850 & NA & NA &  30 &  4 & 03/25/2021 02:25:23 PM & Not agree & Not agree\\\\\n\t2566 & 03/23/2021 & FL & 1979240 & NA & NA & 5189 & 1613 & 32820 & NA & NA &  41 &  2 & 03/24/2021 02:16:52 PM & Not agree & Not agree\\\\\n\t2853 & 03/22/2021 & FL & 1974051 & NA & NA & 2780 &  920 & 32779 & NA & NA &  37 &  2 & 03/23/2021 02:05:18 PM & Not agree & Not agree\\\\\n\t4302 & 03/21/2021 & FL & 1971271 & NA & NA & 3899 & 1223 & 32742 & NA & NA &  29 &  0 & 03/22/2021 01:57:09 PM & Not agree & Not agree\\\\\n\t25656 & 03/20/2021 & FL & 1967372 & NA & NA & 5012 & 1291 & 32713 & NA & NA &  62 &  4 & 03/21/2021 01:54:01 PM & Not agree & Not agree\\\\\n\t2347 & 03/19/2021 & FL & 1962360 & NA & NA & 5046 & 1419 & 32651 & NA & NA &  53 &  3 & 03/20/2021 02:03:21 PM & Not agree & Not agree\\\\\n\t877 & 03/18/2021 & FL & 1957314 & NA & NA & 4993 & -222 & 32598 & NA & NA &  94 &  5 & 03/19/2021 02:25:43 PM & Not agree & Not agree\\\\\n\t24320 & 03/17/2021 & FL & 1952321 & NA & NA & 4487 & 1401 & 32504 & NA & NA &  55 & -1 & 03/18/2021 02:01:55 PM & Not agree & Not agree\\\\\n\t21099 & 03/16/2021 & FL & 1947834 & NA & NA & 4699 & 1731 & 32449 & NA & NA & 101 &  3 & 03/17/2021 02:24:24 PM & Not agree & Not agree\\\\\n\t5000 & 03/15/2021 & FL & 1943135 & NA & NA & 2755 &  404 & 32348 & NA & NA &  93 &  6 & 03/16/2021 02:12:32 PM & Not agree & Not agree\\\\\n\t2187 & 03/14/2021 & FL & 1940380 & NA & NA & 3592 &  829 & 32255 & NA & NA &  30 &  1 & 03/15/2021 02:03:45 PM & Not agree & Not agree\\\\\n\t24255 & 03/13/2021 & FL & 1936788 & NA & NA & 5175 & 1231 & 32225 & NA & NA &  80 & 10 & 03/14/2021 01:53:25 PM & Not agree & Not agree\\\\\n\t2255 & 03/12/2021 & FL & 1931613 & NA & NA & 5119 & 1762 & 32145 & NA & NA & 105 &  9 & 03/13/2021 03:19:19 PM & Not agree & Not agree\\\\\n\t3896 & 03/11/2021 & FL & 1926494 & NA & NA & 4946 & 1585 & 32040 & NA & NA &  92 & 11 & 03/12/2021 03:20:13 PM & Not agree & Not agree\\\\\n\t3774 & 03/10/2021 & FL & 1921548 & NA & NA & 4774 & 1574 & 31948 & NA & NA &  59 &  5 & 03/11/2021 03:36:21 PM & Not agree & Not agree\\\\\n\t22064 & 03/09/2021 & FL & 1916774 & NA & NA & 4334 & 1558 & 31889 & NA & NA & 125 &  4 & 03/10/2021 02:58:31 PM & Not agree & Not agree\\\\\n\t21346 & 03/08/2021 & FL & 1912440 & NA & NA & 3231 &  916 & 31764 & NA & NA &  81 &  7 & 03/09/2021 02:47:41 PM & Not agree & Not agree\\\\\n\t22627 & 03/07/2021 & FL & 1909209 & NA & NA & 4024 &  830 & 31683 & NA & NA &  63 &  8 & 03/08/2021 02:47:36 PM & Not agree & Not agree\\\\\n\t1644 & 03/06/2021 & FL & 1905185 & NA & NA & 4587 & 1344 & 31620 & NA & NA &  98 &  9 & 03/07/2021 02:51:40 PM & Not agree & Not agree\\\\\n\\end{tabular}\n",
            "text/markdown": "\nA data.frame: 20 × 15\n\n| <!--/--> | submission_date &lt;chr&gt; | state &lt;chr&gt; | tot_cases &lt;int&gt; | conf_cases &lt;int&gt; | prob_cases &lt;int&gt; | new_case &lt;int&gt; | pnew_case &lt;int&gt; | tot_death &lt;int&gt; | conf_death &lt;int&gt; | prob_death &lt;int&gt; | new_death &lt;int&gt; | pnew_death &lt;int&gt; | created_at &lt;chr&gt; | consent_cases &lt;chr&gt; | consent_deaths &lt;chr&gt; |\n|---|---|---|---|---|---|---|---|---|---|---|---|---|---|---|---|\n| 1895 | 03/25/2021 | FL | 1989922 | NA | NA | 5648 | 1643 | 32957 | NA | NA | 107 | 12 | 03/26/2021 02:14:54 PM | Not agree | Not agree |\n| 4493 | 03/24/2021 | FL | 1984274 | NA | NA | 5034 | 1988 | 32850 | NA | NA |  30 |  4 | 03/25/2021 02:25:23 PM | Not agree | Not agree |\n| 2566 | 03/23/2021 | FL | 1979240 | NA | NA | 5189 | 1613 | 32820 | NA | NA |  41 |  2 | 03/24/2021 02:16:52 PM | Not agree | Not agree |\n| 2853 | 03/22/2021 | FL | 1974051 | NA | NA | 2780 |  920 | 32779 | NA | NA |  37 |  2 | 03/23/2021 02:05:18 PM | Not agree | Not agree |\n| 4302 | 03/21/2021 | FL | 1971271 | NA | NA | 3899 | 1223 | 32742 | NA | NA |  29 |  0 | 03/22/2021 01:57:09 PM | Not agree | Not agree |\n| 25656 | 03/20/2021 | FL | 1967372 | NA | NA | 5012 | 1291 | 32713 | NA | NA |  62 |  4 | 03/21/2021 01:54:01 PM | Not agree | Not agree |\n| 2347 | 03/19/2021 | FL | 1962360 | NA | NA | 5046 | 1419 | 32651 | NA | NA |  53 |  3 | 03/20/2021 02:03:21 PM | Not agree | Not agree |\n| 877 | 03/18/2021 | FL | 1957314 | NA | NA | 4993 | -222 | 32598 | NA | NA |  94 |  5 | 03/19/2021 02:25:43 PM | Not agree | Not agree |\n| 24320 | 03/17/2021 | FL | 1952321 | NA | NA | 4487 | 1401 | 32504 | NA | NA |  55 | -1 | 03/18/2021 02:01:55 PM | Not agree | Not agree |\n| 21099 | 03/16/2021 | FL | 1947834 | NA | NA | 4699 | 1731 | 32449 | NA | NA | 101 |  3 | 03/17/2021 02:24:24 PM | Not agree | Not agree |\n| 5000 | 03/15/2021 | FL | 1943135 | NA | NA | 2755 |  404 | 32348 | NA | NA |  93 |  6 | 03/16/2021 02:12:32 PM | Not agree | Not agree |\n| 2187 | 03/14/2021 | FL | 1940380 | NA | NA | 3592 |  829 | 32255 | NA | NA |  30 |  1 | 03/15/2021 02:03:45 PM | Not agree | Not agree |\n| 24255 | 03/13/2021 | FL | 1936788 | NA | NA | 5175 | 1231 | 32225 | NA | NA |  80 | 10 | 03/14/2021 01:53:25 PM | Not agree | Not agree |\n| 2255 | 03/12/2021 | FL | 1931613 | NA | NA | 5119 | 1762 | 32145 | NA | NA | 105 |  9 | 03/13/2021 03:19:19 PM | Not agree | Not agree |\n| 3896 | 03/11/2021 | FL | 1926494 | NA | NA | 4946 | 1585 | 32040 | NA | NA |  92 | 11 | 03/12/2021 03:20:13 PM | Not agree | Not agree |\n| 3774 | 03/10/2021 | FL | 1921548 | NA | NA | 4774 | 1574 | 31948 | NA | NA |  59 |  5 | 03/11/2021 03:36:21 PM | Not agree | Not agree |\n| 22064 | 03/09/2021 | FL | 1916774 | NA | NA | 4334 | 1558 | 31889 | NA | NA | 125 |  4 | 03/10/2021 02:58:31 PM | Not agree | Not agree |\n| 21346 | 03/08/2021 | FL | 1912440 | NA | NA | 3231 |  916 | 31764 | NA | NA |  81 |  7 | 03/09/2021 02:47:41 PM | Not agree | Not agree |\n| 22627 | 03/07/2021 | FL | 1909209 | NA | NA | 4024 |  830 | 31683 | NA | NA |  63 |  8 | 03/08/2021 02:47:36 PM | Not agree | Not agree |\n| 1644 | 03/06/2021 | FL | 1905185 | NA | NA | 4587 | 1344 | 31620 | NA | NA |  98 |  9 | 03/07/2021 02:51:40 PM | Not agree | Not agree |\n\n",
            "text/html": [
              "<table class=\"dataframe\">\n",
              "<caption>A data.frame: 20 × 15</caption>\n",
              "<thead>\n",
              "\t<tr><th></th><th scope=col>submission_date</th><th scope=col>state</th><th scope=col>tot_cases</th><th scope=col>conf_cases</th><th scope=col>prob_cases</th><th scope=col>new_case</th><th scope=col>pnew_case</th><th scope=col>tot_death</th><th scope=col>conf_death</th><th scope=col>prob_death</th><th scope=col>new_death</th><th scope=col>pnew_death</th><th scope=col>created_at</th><th scope=col>consent_cases</th><th scope=col>consent_deaths</th></tr>\n",
              "\t<tr><th></th><th scope=col>&lt;chr&gt;</th><th scope=col>&lt;chr&gt;</th><th scope=col>&lt;int&gt;</th><th scope=col>&lt;int&gt;</th><th scope=col>&lt;int&gt;</th><th scope=col>&lt;int&gt;</th><th scope=col>&lt;int&gt;</th><th scope=col>&lt;int&gt;</th><th scope=col>&lt;int&gt;</th><th scope=col>&lt;int&gt;</th><th scope=col>&lt;int&gt;</th><th scope=col>&lt;int&gt;</th><th scope=col>&lt;chr&gt;</th><th scope=col>&lt;chr&gt;</th><th scope=col>&lt;chr&gt;</th></tr>\n",
              "</thead>\n",
              "<tbody>\n",
              "\t<tr><th scope=row>1895</th><td>03/25/2021</td><td>FL</td><td>1989922</td><td>NA</td><td>NA</td><td>5648</td><td>1643</td><td>32957</td><td>NA</td><td>NA</td><td>107</td><td>12</td><td>03/26/2021 02:14:54 PM</td><td>Not agree</td><td>Not agree</td></tr>\n",
              "\t<tr><th scope=row>4493</th><td>03/24/2021</td><td>FL</td><td>1984274</td><td>NA</td><td>NA</td><td>5034</td><td>1988</td><td>32850</td><td>NA</td><td>NA</td><td> 30</td><td> 4</td><td>03/25/2021 02:25:23 PM</td><td>Not agree</td><td>Not agree</td></tr>\n",
              "\t<tr><th scope=row>2566</th><td>03/23/2021</td><td>FL</td><td>1979240</td><td>NA</td><td>NA</td><td>5189</td><td>1613</td><td>32820</td><td>NA</td><td>NA</td><td> 41</td><td> 2</td><td>03/24/2021 02:16:52 PM</td><td>Not agree</td><td>Not agree</td></tr>\n",
              "\t<tr><th scope=row>2853</th><td>03/22/2021</td><td>FL</td><td>1974051</td><td>NA</td><td>NA</td><td>2780</td><td> 920</td><td>32779</td><td>NA</td><td>NA</td><td> 37</td><td> 2</td><td>03/23/2021 02:05:18 PM</td><td>Not agree</td><td>Not agree</td></tr>\n",
              "\t<tr><th scope=row>4302</th><td>03/21/2021</td><td>FL</td><td>1971271</td><td>NA</td><td>NA</td><td>3899</td><td>1223</td><td>32742</td><td>NA</td><td>NA</td><td> 29</td><td> 0</td><td>03/22/2021 01:57:09 PM</td><td>Not agree</td><td>Not agree</td></tr>\n",
              "\t<tr><th scope=row>25656</th><td>03/20/2021</td><td>FL</td><td>1967372</td><td>NA</td><td>NA</td><td>5012</td><td>1291</td><td>32713</td><td>NA</td><td>NA</td><td> 62</td><td> 4</td><td>03/21/2021 01:54:01 PM</td><td>Not agree</td><td>Not agree</td></tr>\n",
              "\t<tr><th scope=row>2347</th><td>03/19/2021</td><td>FL</td><td>1962360</td><td>NA</td><td>NA</td><td>5046</td><td>1419</td><td>32651</td><td>NA</td><td>NA</td><td> 53</td><td> 3</td><td>03/20/2021 02:03:21 PM</td><td>Not agree</td><td>Not agree</td></tr>\n",
              "\t<tr><th scope=row>877</th><td>03/18/2021</td><td>FL</td><td>1957314</td><td>NA</td><td>NA</td><td>4993</td><td>-222</td><td>32598</td><td>NA</td><td>NA</td><td> 94</td><td> 5</td><td>03/19/2021 02:25:43 PM</td><td>Not agree</td><td>Not agree</td></tr>\n",
              "\t<tr><th scope=row>24320</th><td>03/17/2021</td><td>FL</td><td>1952321</td><td>NA</td><td>NA</td><td>4487</td><td>1401</td><td>32504</td><td>NA</td><td>NA</td><td> 55</td><td>-1</td><td>03/18/2021 02:01:55 PM</td><td>Not agree</td><td>Not agree</td></tr>\n",
              "\t<tr><th scope=row>21099</th><td>03/16/2021</td><td>FL</td><td>1947834</td><td>NA</td><td>NA</td><td>4699</td><td>1731</td><td>32449</td><td>NA</td><td>NA</td><td>101</td><td> 3</td><td>03/17/2021 02:24:24 PM</td><td>Not agree</td><td>Not agree</td></tr>\n",
              "\t<tr><th scope=row>5000</th><td>03/15/2021</td><td>FL</td><td>1943135</td><td>NA</td><td>NA</td><td>2755</td><td> 404</td><td>32348</td><td>NA</td><td>NA</td><td> 93</td><td> 6</td><td>03/16/2021 02:12:32 PM</td><td>Not agree</td><td>Not agree</td></tr>\n",
              "\t<tr><th scope=row>2187</th><td>03/14/2021</td><td>FL</td><td>1940380</td><td>NA</td><td>NA</td><td>3592</td><td> 829</td><td>32255</td><td>NA</td><td>NA</td><td> 30</td><td> 1</td><td>03/15/2021 02:03:45 PM</td><td>Not agree</td><td>Not agree</td></tr>\n",
              "\t<tr><th scope=row>24255</th><td>03/13/2021</td><td>FL</td><td>1936788</td><td>NA</td><td>NA</td><td>5175</td><td>1231</td><td>32225</td><td>NA</td><td>NA</td><td> 80</td><td>10</td><td>03/14/2021 01:53:25 PM</td><td>Not agree</td><td>Not agree</td></tr>\n",
              "\t<tr><th scope=row>2255</th><td>03/12/2021</td><td>FL</td><td>1931613</td><td>NA</td><td>NA</td><td>5119</td><td>1762</td><td>32145</td><td>NA</td><td>NA</td><td>105</td><td> 9</td><td>03/13/2021 03:19:19 PM</td><td>Not agree</td><td>Not agree</td></tr>\n",
              "\t<tr><th scope=row>3896</th><td>03/11/2021</td><td>FL</td><td>1926494</td><td>NA</td><td>NA</td><td>4946</td><td>1585</td><td>32040</td><td>NA</td><td>NA</td><td> 92</td><td>11</td><td>03/12/2021 03:20:13 PM</td><td>Not agree</td><td>Not agree</td></tr>\n",
              "\t<tr><th scope=row>3774</th><td>03/10/2021</td><td>FL</td><td>1921548</td><td>NA</td><td>NA</td><td>4774</td><td>1574</td><td>31948</td><td>NA</td><td>NA</td><td> 59</td><td> 5</td><td>03/11/2021 03:36:21 PM</td><td>Not agree</td><td>Not agree</td></tr>\n",
              "\t<tr><th scope=row>22064</th><td>03/09/2021</td><td>FL</td><td>1916774</td><td>NA</td><td>NA</td><td>4334</td><td>1558</td><td>31889</td><td>NA</td><td>NA</td><td>125</td><td> 4</td><td>03/10/2021 02:58:31 PM</td><td>Not agree</td><td>Not agree</td></tr>\n",
              "\t<tr><th scope=row>21346</th><td>03/08/2021</td><td>FL</td><td>1912440</td><td>NA</td><td>NA</td><td>3231</td><td> 916</td><td>31764</td><td>NA</td><td>NA</td><td> 81</td><td> 7</td><td>03/09/2021 02:47:41 PM</td><td>Not agree</td><td>Not agree</td></tr>\n",
              "\t<tr><th scope=row>22627</th><td>03/07/2021</td><td>FL</td><td>1909209</td><td>NA</td><td>NA</td><td>4024</td><td> 830</td><td>31683</td><td>NA</td><td>NA</td><td> 63</td><td> 8</td><td>03/08/2021 02:47:36 PM</td><td>Not agree</td><td>Not agree</td></tr>\n",
              "\t<tr><th scope=row>1644</th><td>03/06/2021</td><td>FL</td><td>1905185</td><td>NA</td><td>NA</td><td>4587</td><td>1344</td><td>31620</td><td>NA</td><td>NA</td><td> 98</td><td> 9</td><td>03/07/2021 02:51:40 PM</td><td>Not agree</td><td>Not agree</td></tr>\n",
              "</tbody>\n",
              "</table>\n"
            ]
          },
          "metadata": {
            "tags": []
          }
        }
      ]
    },
    {
      "cell_type": "markdown",
      "metadata": {
        "id": "Dt2ESNf_7sOW"
      },
      "source": [
        "\n",
        "\n",
        "So as we can see from the above dataframe, the data is arange in such a way that there is an entry for each state for each day. As in every day an entry for the state is entered. However in order to confirm this I wanted to view the correlation between the `tot_cases` and the `submission_date`\n",
        "\n",
        "Now that we understand our data and the way that it is formated, we can move to the next step, cleaning up the data"
      ]
    },
    {
      "cell_type": "markdown",
      "metadata": {
        "id": "cA2652zfWi1_"
      },
      "source": [
        "**bold text**## Data Transformation"
      ]
    },
    {
      "cell_type": "markdown",
      "metadata": {
        "id": "qwgKPoYiXYZE"
      },
      "source": [
        "Before we begin doing any form of data analysis or constructing any charts, it would be best to transform some of the columns/variables that we have into different \"types\".\n",
        "\n"
      ]
    },
    {
      "cell_type": "markdown",
      "metadata": {
        "id": "f81QCJtrfZVw"
      },
      "source": [
        "### Convert column types\n",
        "\n",
        "The submission_date field is currently stored as a char field, but we need to convert that to a time field in order to use ggplot2 and have X axis be submission_date. For any visualizations where we want to show change over time, it will be extremely important.\n",
        "\n",
        "We will not need the `created_at` field in this dataset, as it does not actually tell us anything about the data. We will remove this entire column."
      ]
    },
    {
      "cell_type": "code",
      "metadata": {
        "id": "5vCqCvXHe9lI",
        "colab": {
          "base_uri": "https://localhost:8080/",
          "height": 283
        },
        "outputId": "8bdb3bd4-7472-42e9-fcec-708f3bb72d00"
      },
      "source": [
        "# First we convert the submission_date field to a date type.\n",
        "df$submission_date <- as.Date(df$submission_date, \"%m/%d/%Y\")\n",
        "\n",
        "# Confir that the submission_date field has been converted to a date type.\n",
        "head(df)"
      ],
      "execution_count": null,
      "outputs": [
        {
          "output_type": "display_data",
          "data": {
            "text/plain": [
              "  submission_date state tot_cases conf_cases prob_cases new_case pnew_case\n",
              "1 2020-12-08      OK    205999    171497     34502        0       0       \n",
              "2 2020-08-29      SD     12942        NA        NA      425       0       \n",
              "3 2020-04-14      UT      2453        NA        NA       61      NA       \n",
              "4 2020-02-26      UT         0        NA        NA        0      NA       \n",
              "5 2020-03-05      GA         2        NA        NA       -5      NA       \n",
              "6 2020-05-04      WV      1224      1224         0       29       0       \n",
              "  tot_death conf_death prob_death new_death pnew_death created_at            \n",
              "1 1752      1680       72         0          0         12/09/2020 02:45:40 PM\n",
              "2  167       165        2         2          0         08/30/2020 02:49:52 PM\n",
              "3   20        NA       NA         2         NA         04/13/2020 04:22:39 PM\n",
              "4    0        NA       NA         0         NA         03/26/2020 04:22:39 PM\n",
              "5    0        NA       NA         0         NA         03/26/2020 04:22:39 PM\n",
              "6   50        NA       NA         0          0         05/05/2020 05:25:08 PM\n",
              "  consent_cases consent_deaths\n",
              "1 Agree         Agree         \n",
              "2 N/A           Agree         \n",
              "3 Agree         Agree         \n",
              "4 Agree         Agree         \n",
              "5 Agree         Agree         \n",
              "6 Agree         Not agree     "
            ],
            "text/latex": "A data.frame: 6 × 15\n\\begin{tabular}{r|lllllllllllllll}\n  & submission\\_date & state & tot\\_cases & conf\\_cases & prob\\_cases & new\\_case & pnew\\_case & tot\\_death & conf\\_death & prob\\_death & new\\_death & pnew\\_death & created\\_at & consent\\_cases & consent\\_deaths\\\\\n  & <date> & <chr> & <int> & <int> & <int> & <int> & <int> & <int> & <int> & <int> & <int> & <int> & <chr> & <chr> & <chr>\\\\\n\\hline\n\t1 & 2020-12-08 & OK & 205999 & 171497 & 34502 &   0 &  0 & 1752 & 1680 & 72 & 0 &  0 & 12/09/2020 02:45:40 PM & Agree & Agree    \\\\\n\t2 & 2020-08-29 & SD &  12942 &     NA &    NA & 425 &  0 &  167 &  165 &  2 & 2 &  0 & 08/30/2020 02:49:52 PM & N/A   & Agree    \\\\\n\t3 & 2020-04-14 & UT &   2453 &     NA &    NA &  61 & NA &   20 &   NA & NA & 2 & NA & 04/13/2020 04:22:39 PM & Agree & Agree    \\\\\n\t4 & 2020-02-26 & UT &      0 &     NA &    NA &   0 & NA &    0 &   NA & NA & 0 & NA & 03/26/2020 04:22:39 PM & Agree & Agree    \\\\\n\t5 & 2020-03-05 & GA &      2 &     NA &    NA &  -5 & NA &    0 &   NA & NA & 0 & NA & 03/26/2020 04:22:39 PM & Agree & Agree    \\\\\n\t6 & 2020-05-04 & WV &   1224 &   1224 &     0 &  29 &  0 &   50 &   NA & NA & 0 &  0 & 05/05/2020 05:25:08 PM & Agree & Not agree\\\\\n\\end{tabular}\n",
            "text/markdown": "\nA data.frame: 6 × 15\n\n| <!--/--> | submission_date &lt;date&gt; | state &lt;chr&gt; | tot_cases &lt;int&gt; | conf_cases &lt;int&gt; | prob_cases &lt;int&gt; | new_case &lt;int&gt; | pnew_case &lt;int&gt; | tot_death &lt;int&gt; | conf_death &lt;int&gt; | prob_death &lt;int&gt; | new_death &lt;int&gt; | pnew_death &lt;int&gt; | created_at &lt;chr&gt; | consent_cases &lt;chr&gt; | consent_deaths &lt;chr&gt; |\n|---|---|---|---|---|---|---|---|---|---|---|---|---|---|---|---|\n| 1 | 2020-12-08 | OK | 205999 | 171497 | 34502 |   0 |  0 | 1752 | 1680 | 72 | 0 |  0 | 12/09/2020 02:45:40 PM | Agree | Agree     |\n| 2 | 2020-08-29 | SD |  12942 |     NA |    NA | 425 |  0 |  167 |  165 |  2 | 2 |  0 | 08/30/2020 02:49:52 PM | N/A   | Agree     |\n| 3 | 2020-04-14 | UT |   2453 |     NA |    NA |  61 | NA |   20 |   NA | NA | 2 | NA | 04/13/2020 04:22:39 PM | Agree | Agree     |\n| 4 | 2020-02-26 | UT |      0 |     NA |    NA |   0 | NA |    0 |   NA | NA | 0 | NA | 03/26/2020 04:22:39 PM | Agree | Agree     |\n| 5 | 2020-03-05 | GA |      2 |     NA |    NA |  -5 | NA |    0 |   NA | NA | 0 | NA | 03/26/2020 04:22:39 PM | Agree | Agree     |\n| 6 | 2020-05-04 | WV |   1224 |   1224 |     0 |  29 |  0 |   50 |   NA | NA | 0 |  0 | 05/05/2020 05:25:08 PM | Agree | Not agree |\n\n",
            "text/html": [
              "<table class=\"dataframe\">\n",
              "<caption>A data.frame: 6 × 15</caption>\n",
              "<thead>\n",
              "\t<tr><th></th><th scope=col>submission_date</th><th scope=col>state</th><th scope=col>tot_cases</th><th scope=col>conf_cases</th><th scope=col>prob_cases</th><th scope=col>new_case</th><th scope=col>pnew_case</th><th scope=col>tot_death</th><th scope=col>conf_death</th><th scope=col>prob_death</th><th scope=col>new_death</th><th scope=col>pnew_death</th><th scope=col>created_at</th><th scope=col>consent_cases</th><th scope=col>consent_deaths</th></tr>\n",
              "\t<tr><th></th><th scope=col>&lt;date&gt;</th><th scope=col>&lt;chr&gt;</th><th scope=col>&lt;int&gt;</th><th scope=col>&lt;int&gt;</th><th scope=col>&lt;int&gt;</th><th scope=col>&lt;int&gt;</th><th scope=col>&lt;int&gt;</th><th scope=col>&lt;int&gt;</th><th scope=col>&lt;int&gt;</th><th scope=col>&lt;int&gt;</th><th scope=col>&lt;int&gt;</th><th scope=col>&lt;int&gt;</th><th scope=col>&lt;chr&gt;</th><th scope=col>&lt;chr&gt;</th><th scope=col>&lt;chr&gt;</th></tr>\n",
              "</thead>\n",
              "<tbody>\n",
              "\t<tr><th scope=row>1</th><td>2020-12-08</td><td>OK</td><td>205999</td><td>171497</td><td>34502</td><td>  0</td><td> 0</td><td>1752</td><td>1680</td><td>72</td><td>0</td><td> 0</td><td>12/09/2020 02:45:40 PM</td><td>Agree</td><td>Agree    </td></tr>\n",
              "\t<tr><th scope=row>2</th><td>2020-08-29</td><td>SD</td><td> 12942</td><td>    NA</td><td>   NA</td><td>425</td><td> 0</td><td> 167</td><td> 165</td><td> 2</td><td>2</td><td> 0</td><td>08/30/2020 02:49:52 PM</td><td>N/A  </td><td>Agree    </td></tr>\n",
              "\t<tr><th scope=row>3</th><td>2020-04-14</td><td>UT</td><td>  2453</td><td>    NA</td><td>   NA</td><td> 61</td><td>NA</td><td>  20</td><td>  NA</td><td>NA</td><td>2</td><td>NA</td><td>04/13/2020 04:22:39 PM</td><td>Agree</td><td>Agree    </td></tr>\n",
              "\t<tr><th scope=row>4</th><td>2020-02-26</td><td>UT</td><td>     0</td><td>    NA</td><td>   NA</td><td>  0</td><td>NA</td><td>   0</td><td>  NA</td><td>NA</td><td>0</td><td>NA</td><td>03/26/2020 04:22:39 PM</td><td>Agree</td><td>Agree    </td></tr>\n",
              "\t<tr><th scope=row>5</th><td>2020-03-05</td><td>GA</td><td>     2</td><td>    NA</td><td>   NA</td><td> -5</td><td>NA</td><td>   0</td><td>  NA</td><td>NA</td><td>0</td><td>NA</td><td>03/26/2020 04:22:39 PM</td><td>Agree</td><td>Agree    </td></tr>\n",
              "\t<tr><th scope=row>6</th><td>2020-05-04</td><td>WV</td><td>  1224</td><td>  1224</td><td>    0</td><td> 29</td><td> 0</td><td>  50</td><td>  NA</td><td>NA</td><td>0</td><td> 0</td><td>05/05/2020 05:25:08 PM</td><td>Agree</td><td>Not agree</td></tr>\n",
              "</tbody>\n",
              "</table>\n"
            ]
          },
          "metadata": {
            "tags": []
          }
        }
      ]
    },
    {
      "cell_type": "code",
      "metadata": {
        "id": "qVQLB-4FqS_p",
        "colab": {
          "base_uri": "https://localhost:8080/",
          "height": 128
        },
        "outputId": "72ffe755-d23f-42e8-ebff-61a0a4c5c3b4"
      },
      "source": [
        "# Now we will convert the created_at column to a date type.\n",
        "df <- df[, !(names(df) %in% c('created_at'))]\n",
        "\n",
        "# Confirm that created_at columns has been removed from the dataset.\n",
        "head(df, 1)"
      ],
      "execution_count": null,
      "outputs": [
        {
          "output_type": "display_data",
          "data": {
            "text/plain": [
              "  submission_date state tot_cases conf_cases prob_cases new_case pnew_case\n",
              "1 2020-12-08      OK    205999    171497     34502      0        0        \n",
              "  tot_death conf_death prob_death new_death pnew_death consent_cases\n",
              "1 1752      1680       72         0         0          Agree        \n",
              "  consent_deaths\n",
              "1 Agree         "
            ],
            "text/latex": "A data.frame: 1 × 14\n\\begin{tabular}{r|llllllllllllll}\n  & submission\\_date & state & tot\\_cases & conf\\_cases & prob\\_cases & new\\_case & pnew\\_case & tot\\_death & conf\\_death & prob\\_death & new\\_death & pnew\\_death & consent\\_cases & consent\\_deaths\\\\\n  & <date> & <chr> & <int> & <int> & <int> & <int> & <int> & <int> & <int> & <int> & <int> & <int> & <chr> & <chr>\\\\\n\\hline\n\t1 & 2020-12-08 & OK & 205999 & 171497 & 34502 & 0 & 0 & 1752 & 1680 & 72 & 0 & 0 & Agree & Agree\\\\\n\\end{tabular}\n",
            "text/markdown": "\nA data.frame: 1 × 14\n\n| <!--/--> | submission_date &lt;date&gt; | state &lt;chr&gt; | tot_cases &lt;int&gt; | conf_cases &lt;int&gt; | prob_cases &lt;int&gt; | new_case &lt;int&gt; | pnew_case &lt;int&gt; | tot_death &lt;int&gt; | conf_death &lt;int&gt; | prob_death &lt;int&gt; | new_death &lt;int&gt; | pnew_death &lt;int&gt; | consent_cases &lt;chr&gt; | consent_deaths &lt;chr&gt; |\n|---|---|---|---|---|---|---|---|---|---|---|---|---|---|---|\n| 1 | 2020-12-08 | OK | 205999 | 171497 | 34502 | 0 | 0 | 1752 | 1680 | 72 | 0 | 0 | Agree | Agree |\n\n",
            "text/html": [
              "<table class=\"dataframe\">\n",
              "<caption>A data.frame: 1 × 14</caption>\n",
              "<thead>\n",
              "\t<tr><th></th><th scope=col>submission_date</th><th scope=col>state</th><th scope=col>tot_cases</th><th scope=col>conf_cases</th><th scope=col>prob_cases</th><th scope=col>new_case</th><th scope=col>pnew_case</th><th scope=col>tot_death</th><th scope=col>conf_death</th><th scope=col>prob_death</th><th scope=col>new_death</th><th scope=col>pnew_death</th><th scope=col>consent_cases</th><th scope=col>consent_deaths</th></tr>\n",
              "\t<tr><th></th><th scope=col>&lt;date&gt;</th><th scope=col>&lt;chr&gt;</th><th scope=col>&lt;int&gt;</th><th scope=col>&lt;int&gt;</th><th scope=col>&lt;int&gt;</th><th scope=col>&lt;int&gt;</th><th scope=col>&lt;int&gt;</th><th scope=col>&lt;int&gt;</th><th scope=col>&lt;int&gt;</th><th scope=col>&lt;int&gt;</th><th scope=col>&lt;int&gt;</th><th scope=col>&lt;int&gt;</th><th scope=col>&lt;chr&gt;</th><th scope=col>&lt;chr&gt;</th></tr>\n",
              "</thead>\n",
              "<tbody>\n",
              "\t<tr><th scope=row>1</th><td>2020-12-08</td><td>OK</td><td>205999</td><td>171497</td><td>34502</td><td>0</td><td>0</td><td>1752</td><td>1680</td><td>72</td><td>0</td><td>0</td><td>Agree</td><td>Agree</td></tr>\n",
              "</tbody>\n",
              "</table>\n"
            ]
          },
          "metadata": {
            "tags": []
          }
        }
      ]
    },
    {
      "cell_type": "markdown",
      "metadata": {
        "id": "-ATF8993ffjq"
      },
      "source": [
        "### Convert state abreviations to full names"
      ]
    },
    {
      "cell_type": "markdown",
      "metadata": {
        "id": "CNWbZUJMe9vC"
      },
      "source": [
        "I also find it nicer and more symplistic to take the `state` column and change it from the abbreviation of the state to the full name. For example NY shoud be changed to \"New York\" for the sake of ease of eye. It is easier to know what state is what for the average person if we use the full name."
      ]
    },
    {
      "cell_type": "code",
      "metadata": {
        "id": "GnfBjiURfLT5",
        "colab": {
          "base_uri": "https://localhost:8080/",
          "height": 283
        },
        "outputId": "7277e26a-ed63-4a8e-ed60-0751ab7fa144"
      },
      "source": [
        "# Import usdata library. This contains a built in function to convert state abbrviations to state names.\n",
        "library(usdata)\n",
        "\n",
        "# Convert all state abbreviations to full names.\n",
        "# We convert the data to upper case, just in case a data entry was submitted in lowercase.\n",
        "df$state <- abbr2state(toupper(df$state))\n",
        "\n",
        "# Confirm that state column has been converted correctly.\n",
        "head(df)"
      ],
      "execution_count": null,
      "outputs": [
        {
          "output_type": "display_data",
          "data": {
            "text/plain": [
              "  submission_date state         tot_cases conf_cases prob_cases new_case\n",
              "1 2020-12-08      Oklahoma      205999    171497     34502        0     \n",
              "2 2020-08-29      South Dakota   12942        NA        NA      425     \n",
              "3 2020-04-14      Utah            2453        NA        NA       61     \n",
              "4 2020-02-26      Utah               0        NA        NA        0     \n",
              "5 2020-03-05      Georgia            2        NA        NA       -5     \n",
              "6 2020-05-04      West Virginia   1224      1224         0       29     \n",
              "  pnew_case tot_death conf_death prob_death new_death pnew_death consent_cases\n",
              "1  0        1752      1680       72         0          0         Agree        \n",
              "2  0         167       165        2         2          0         N/A          \n",
              "3 NA          20        NA       NA         2         NA         Agree        \n",
              "4 NA           0        NA       NA         0         NA         Agree        \n",
              "5 NA           0        NA       NA         0         NA         Agree        \n",
              "6  0          50        NA       NA         0          0         Agree        \n",
              "  consent_deaths\n",
              "1 Agree         \n",
              "2 Agree         \n",
              "3 Agree         \n",
              "4 Agree         \n",
              "5 Agree         \n",
              "6 Not agree     "
            ],
            "text/latex": "A data.frame: 6 × 14\n\\begin{tabular}{r|llllllllllllll}\n  & submission\\_date & state & tot\\_cases & conf\\_cases & prob\\_cases & new\\_case & pnew\\_case & tot\\_death & conf\\_death & prob\\_death & new\\_death & pnew\\_death & consent\\_cases & consent\\_deaths\\\\\n  & <date> & <chr> & <int> & <int> & <int> & <int> & <int> & <int> & <int> & <int> & <int> & <int> & <chr> & <chr>\\\\\n\\hline\n\t1 & 2020-12-08 & Oklahoma      & 205999 & 171497 & 34502 &   0 &  0 & 1752 & 1680 & 72 & 0 &  0 & Agree & Agree    \\\\\n\t2 & 2020-08-29 & South Dakota  &  12942 &     NA &    NA & 425 &  0 &  167 &  165 &  2 & 2 &  0 & N/A   & Agree    \\\\\n\t3 & 2020-04-14 & Utah          &   2453 &     NA &    NA &  61 & NA &   20 &   NA & NA & 2 & NA & Agree & Agree    \\\\\n\t4 & 2020-02-26 & Utah          &      0 &     NA &    NA &   0 & NA &    0 &   NA & NA & 0 & NA & Agree & Agree    \\\\\n\t5 & 2020-03-05 & Georgia       &      2 &     NA &    NA &  -5 & NA &    0 &   NA & NA & 0 & NA & Agree & Agree    \\\\\n\t6 & 2020-05-04 & West Virginia &   1224 &   1224 &     0 &  29 &  0 &   50 &   NA & NA & 0 &  0 & Agree & Not agree\\\\\n\\end{tabular}\n",
            "text/markdown": "\nA data.frame: 6 × 14\n\n| <!--/--> | submission_date &lt;date&gt; | state &lt;chr&gt; | tot_cases &lt;int&gt; | conf_cases &lt;int&gt; | prob_cases &lt;int&gt; | new_case &lt;int&gt; | pnew_case &lt;int&gt; | tot_death &lt;int&gt; | conf_death &lt;int&gt; | prob_death &lt;int&gt; | new_death &lt;int&gt; | pnew_death &lt;int&gt; | consent_cases &lt;chr&gt; | consent_deaths &lt;chr&gt; |\n|---|---|---|---|---|---|---|---|---|---|---|---|---|---|---|\n| 1 | 2020-12-08 | Oklahoma      | 205999 | 171497 | 34502 |   0 |  0 | 1752 | 1680 | 72 | 0 |  0 | Agree | Agree     |\n| 2 | 2020-08-29 | South Dakota  |  12942 |     NA |    NA | 425 |  0 |  167 |  165 |  2 | 2 |  0 | N/A   | Agree     |\n| 3 | 2020-04-14 | Utah          |   2453 |     NA |    NA |  61 | NA |   20 |   NA | NA | 2 | NA | Agree | Agree     |\n| 4 | 2020-02-26 | Utah          |      0 |     NA |    NA |   0 | NA |    0 |   NA | NA | 0 | NA | Agree | Agree     |\n| 5 | 2020-03-05 | Georgia       |      2 |     NA |    NA |  -5 | NA |    0 |   NA | NA | 0 | NA | Agree | Agree     |\n| 6 | 2020-05-04 | West Virginia |   1224 |   1224 |     0 |  29 |  0 |   50 |   NA | NA | 0 |  0 | Agree | Not agree |\n\n",
            "text/html": [
              "<table class=\"dataframe\">\n",
              "<caption>A data.frame: 6 × 14</caption>\n",
              "<thead>\n",
              "\t<tr><th></th><th scope=col>submission_date</th><th scope=col>state</th><th scope=col>tot_cases</th><th scope=col>conf_cases</th><th scope=col>prob_cases</th><th scope=col>new_case</th><th scope=col>pnew_case</th><th scope=col>tot_death</th><th scope=col>conf_death</th><th scope=col>prob_death</th><th scope=col>new_death</th><th scope=col>pnew_death</th><th scope=col>consent_cases</th><th scope=col>consent_deaths</th></tr>\n",
              "\t<tr><th></th><th scope=col>&lt;date&gt;</th><th scope=col>&lt;chr&gt;</th><th scope=col>&lt;int&gt;</th><th scope=col>&lt;int&gt;</th><th scope=col>&lt;int&gt;</th><th scope=col>&lt;int&gt;</th><th scope=col>&lt;int&gt;</th><th scope=col>&lt;int&gt;</th><th scope=col>&lt;int&gt;</th><th scope=col>&lt;int&gt;</th><th scope=col>&lt;int&gt;</th><th scope=col>&lt;int&gt;</th><th scope=col>&lt;chr&gt;</th><th scope=col>&lt;chr&gt;</th></tr>\n",
              "</thead>\n",
              "<tbody>\n",
              "\t<tr><th scope=row>1</th><td>2020-12-08</td><td>Oklahoma     </td><td>205999</td><td>171497</td><td>34502</td><td>  0</td><td> 0</td><td>1752</td><td>1680</td><td>72</td><td>0</td><td> 0</td><td>Agree</td><td>Agree    </td></tr>\n",
              "\t<tr><th scope=row>2</th><td>2020-08-29</td><td>South Dakota </td><td> 12942</td><td>    NA</td><td>   NA</td><td>425</td><td> 0</td><td> 167</td><td> 165</td><td> 2</td><td>2</td><td> 0</td><td>N/A  </td><td>Agree    </td></tr>\n",
              "\t<tr><th scope=row>3</th><td>2020-04-14</td><td>Utah         </td><td>  2453</td><td>    NA</td><td>   NA</td><td> 61</td><td>NA</td><td>  20</td><td>  NA</td><td>NA</td><td>2</td><td>NA</td><td>Agree</td><td>Agree    </td></tr>\n",
              "\t<tr><th scope=row>4</th><td>2020-02-26</td><td>Utah         </td><td>     0</td><td>    NA</td><td>   NA</td><td>  0</td><td>NA</td><td>   0</td><td>  NA</td><td>NA</td><td>0</td><td>NA</td><td>Agree</td><td>Agree    </td></tr>\n",
              "\t<tr><th scope=row>5</th><td>2020-03-05</td><td>Georgia      </td><td>     2</td><td>    NA</td><td>   NA</td><td> -5</td><td>NA</td><td>   0</td><td>  NA</td><td>NA</td><td>0</td><td>NA</td><td>Agree</td><td>Agree    </td></tr>\n",
              "\t<tr><th scope=row>6</th><td>2020-05-04</td><td>West Virginia</td><td>  1224</td><td>  1224</td><td>    0</td><td> 29</td><td> 0</td><td>  50</td><td>  NA</td><td>NA</td><td>0</td><td> 0</td><td>Agree</td><td>Not agree</td></tr>\n",
              "</tbody>\n",
              "</table>\n"
            ]
          },
          "metadata": {
            "tags": []
          }
        }
      ]
    },
    {
      "cell_type": "code",
      "metadata": {
        "colab": {
          "base_uri": "https://localhost:8080/",
          "height": 283
        },
        "id": "xMAOkeHCvyQb",
        "outputId": "6b8e879b-c9d0-47b2-d1fb-65ee157c48d2"
      },
      "source": [
        "# Remove District of Columbia from the dataset, as we are only interested in the 50 states.\n",
        "df <- df[!(df$state == \"District of Columbia\"),]\n",
        "\n",
        "# view of data\n",
        "head(df)"
      ],
      "execution_count": null,
      "outputs": [
        {
          "output_type": "display_data",
          "data": {
            "text/plain": [
              "  submission_date state         tot_cases conf_cases prob_cases new_case\n",
              "1 2020-12-08      Oklahoma      205999    171497     34502        0     \n",
              "2 2020-08-29      South Dakota   12942        NA        NA      425     \n",
              "3 2020-04-14      Utah            2453        NA        NA       61     \n",
              "4 2020-02-26      Utah               0        NA        NA        0     \n",
              "5 2020-03-05      Georgia            2        NA        NA       -5     \n",
              "6 2020-05-04      West Virginia   1224      1224         0       29     \n",
              "  pnew_case tot_death conf_death prob_death new_death pnew_death consent_cases\n",
              "1  0        1752      1680       72         0          0         Agree        \n",
              "2  0         167       165        2         2          0         N/A          \n",
              "3 NA          20        NA       NA         2         NA         Agree        \n",
              "4 NA           0        NA       NA         0         NA         Agree        \n",
              "5 NA           0        NA       NA         0         NA         Agree        \n",
              "6  0          50        NA       NA         0          0         Agree        \n",
              "  consent_deaths\n",
              "1 Agree         \n",
              "2 Agree         \n",
              "3 Agree         \n",
              "4 Agree         \n",
              "5 Agree         \n",
              "6 Not agree     "
            ],
            "text/latex": "A data.frame: 6 × 14\n\\begin{tabular}{r|llllllllllllll}\n  & submission\\_date & state & tot\\_cases & conf\\_cases & prob\\_cases & new\\_case & pnew\\_case & tot\\_death & conf\\_death & prob\\_death & new\\_death & pnew\\_death & consent\\_cases & consent\\_deaths\\\\\n  & <date> & <chr> & <int> & <int> & <int> & <int> & <int> & <int> & <int> & <int> & <int> & <int> & <chr> & <chr>\\\\\n\\hline\n\t1 & 2020-12-08 & Oklahoma      & 205999 & 171497 & 34502 &   0 &  0 & 1752 & 1680 & 72 & 0 &  0 & Agree & Agree    \\\\\n\t2 & 2020-08-29 & South Dakota  &  12942 &     NA &    NA & 425 &  0 &  167 &  165 &  2 & 2 &  0 & N/A   & Agree    \\\\\n\t3 & 2020-04-14 & Utah          &   2453 &     NA &    NA &  61 & NA &   20 &   NA & NA & 2 & NA & Agree & Agree    \\\\\n\t4 & 2020-02-26 & Utah          &      0 &     NA &    NA &   0 & NA &    0 &   NA & NA & 0 & NA & Agree & Agree    \\\\\n\t5 & 2020-03-05 & Georgia       &      2 &     NA &    NA &  -5 & NA &    0 &   NA & NA & 0 & NA & Agree & Agree    \\\\\n\t6 & 2020-05-04 & West Virginia &   1224 &   1224 &     0 &  29 &  0 &   50 &   NA & NA & 0 &  0 & Agree & Not agree\\\\\n\\end{tabular}\n",
            "text/markdown": "\nA data.frame: 6 × 14\n\n| <!--/--> | submission_date &lt;date&gt; | state &lt;chr&gt; | tot_cases &lt;int&gt; | conf_cases &lt;int&gt; | prob_cases &lt;int&gt; | new_case &lt;int&gt; | pnew_case &lt;int&gt; | tot_death &lt;int&gt; | conf_death &lt;int&gt; | prob_death &lt;int&gt; | new_death &lt;int&gt; | pnew_death &lt;int&gt; | consent_cases &lt;chr&gt; | consent_deaths &lt;chr&gt; |\n|---|---|---|---|---|---|---|---|---|---|---|---|---|---|---|\n| 1 | 2020-12-08 | Oklahoma      | 205999 | 171497 | 34502 |   0 |  0 | 1752 | 1680 | 72 | 0 |  0 | Agree | Agree     |\n| 2 | 2020-08-29 | South Dakota  |  12942 |     NA |    NA | 425 |  0 |  167 |  165 |  2 | 2 |  0 | N/A   | Agree     |\n| 3 | 2020-04-14 | Utah          |   2453 |     NA |    NA |  61 | NA |   20 |   NA | NA | 2 | NA | Agree | Agree     |\n| 4 | 2020-02-26 | Utah          |      0 |     NA |    NA |   0 | NA |    0 |   NA | NA | 0 | NA | Agree | Agree     |\n| 5 | 2020-03-05 | Georgia       |      2 |     NA |    NA |  -5 | NA |    0 |   NA | NA | 0 | NA | Agree | Agree     |\n| 6 | 2020-05-04 | West Virginia |   1224 |   1224 |     0 |  29 |  0 |   50 |   NA | NA | 0 |  0 | Agree | Not agree |\n\n",
            "text/html": [
              "<table class=\"dataframe\">\n",
              "<caption>A data.frame: 6 × 14</caption>\n",
              "<thead>\n",
              "\t<tr><th></th><th scope=col>submission_date</th><th scope=col>state</th><th scope=col>tot_cases</th><th scope=col>conf_cases</th><th scope=col>prob_cases</th><th scope=col>new_case</th><th scope=col>pnew_case</th><th scope=col>tot_death</th><th scope=col>conf_death</th><th scope=col>prob_death</th><th scope=col>new_death</th><th scope=col>pnew_death</th><th scope=col>consent_cases</th><th scope=col>consent_deaths</th></tr>\n",
              "\t<tr><th></th><th scope=col>&lt;date&gt;</th><th scope=col>&lt;chr&gt;</th><th scope=col>&lt;int&gt;</th><th scope=col>&lt;int&gt;</th><th scope=col>&lt;int&gt;</th><th scope=col>&lt;int&gt;</th><th scope=col>&lt;int&gt;</th><th scope=col>&lt;int&gt;</th><th scope=col>&lt;int&gt;</th><th scope=col>&lt;int&gt;</th><th scope=col>&lt;int&gt;</th><th scope=col>&lt;int&gt;</th><th scope=col>&lt;chr&gt;</th><th scope=col>&lt;chr&gt;</th></tr>\n",
              "</thead>\n",
              "<tbody>\n",
              "\t<tr><th scope=row>1</th><td>2020-12-08</td><td>Oklahoma     </td><td>205999</td><td>171497</td><td>34502</td><td>  0</td><td> 0</td><td>1752</td><td>1680</td><td>72</td><td>0</td><td> 0</td><td>Agree</td><td>Agree    </td></tr>\n",
              "\t<tr><th scope=row>2</th><td>2020-08-29</td><td>South Dakota </td><td> 12942</td><td>    NA</td><td>   NA</td><td>425</td><td> 0</td><td> 167</td><td> 165</td><td> 2</td><td>2</td><td> 0</td><td>N/A  </td><td>Agree    </td></tr>\n",
              "\t<tr><th scope=row>3</th><td>2020-04-14</td><td>Utah         </td><td>  2453</td><td>    NA</td><td>   NA</td><td> 61</td><td>NA</td><td>  20</td><td>  NA</td><td>NA</td><td>2</td><td>NA</td><td>Agree</td><td>Agree    </td></tr>\n",
              "\t<tr><th scope=row>4</th><td>2020-02-26</td><td>Utah         </td><td>     0</td><td>    NA</td><td>   NA</td><td>  0</td><td>NA</td><td>   0</td><td>  NA</td><td>NA</td><td>0</td><td>NA</td><td>Agree</td><td>Agree    </td></tr>\n",
              "\t<tr><th scope=row>5</th><td>2020-03-05</td><td>Georgia      </td><td>     2</td><td>    NA</td><td>   NA</td><td> -5</td><td>NA</td><td>   0</td><td>  NA</td><td>NA</td><td>0</td><td>NA</td><td>Agree</td><td>Agree    </td></tr>\n",
              "\t<tr><th scope=row>6</th><td>2020-05-04</td><td>West Virginia</td><td>  1224</td><td>  1224</td><td>    0</td><td> 29</td><td> 0</td><td>  50</td><td>  NA</td><td>NA</td><td>0</td><td> 0</td><td>Agree</td><td>Not agree</td></tr>\n",
              "</tbody>\n",
              "</table>\n"
            ]
          },
          "metadata": {
            "tags": []
          }
        }
      ]
    },
    {
      "cell_type": "markdown",
      "metadata": {
        "id": "N74Yoob2LU2b"
      },
      "source": [
        "## Visualizations Over Time"
      ]
    },
    {
      "cell_type": "markdown",
      "metadata": {
        "id": "cIoUCsYsMKC-"
      },
      "source": [
        ""
      ]
    },
    {
      "cell_type": "markdown",
      "metadata": {
        "id": "7c5noPzwLjys"
      },
      "source": [
        "### Total cases over time"
      ]
    },
    {
      "cell_type": "markdown",
      "metadata": {
        "id": "_9bRBoz4PGy2"
      },
      "source": [
        "#### Remove NA rows"
      ]
    },
    {
      "cell_type": "markdown",
      "metadata": {
        "id": "yuz0zn5kPTSu"
      },
      "source": [
        "Before we start visualizing the data we need to make sure that there are no NAs in any of the fields that we need in order to produce plots.\n",
        "\n",
        "The fields that we must clean are `state`, `tot_cases`, `tot_death`, and  `submission_date`.\n"
      ]
    },
    {
      "cell_type": "markdown",
      "metadata": {
        "id": "C9Qv3n9wPrge"
      },
      "source": [
        "#### A view of missing records\n",
        "Let's take a look at the number of NAs in each column. We can decide if there are any records that need to be removed."
      ]
    },
    {
      "cell_type": "code",
      "metadata": {
        "id": "fvOqNg7RP9QJ",
        "colab": {
          "base_uri": "https://localhost:8080/",
          "height": 289
        },
        "outputId": "5dd7b47e-4ed3-4800-877b-19cd160d6f6a"
      },
      "source": [
        "library(dplyr)\n",
        "colSums(is.na(df))"
      ],
      "execution_count": null,
      "outputs": [
        {
          "output_type": "stream",
          "text": [
            "\n",
            "Attaching package: ‘dplyr’\n",
            "\n",
            "\n",
            "The following objects are masked from ‘package:stats’:\n",
            "\n",
            "    filter, lag\n",
            "\n",
            "\n",
            "The following objects are masked from ‘package:base’:\n",
            "\n",
            "    intersect, setdiff, setequal, union\n",
            "\n",
            "\n"
          ],
          "name": "stderr"
        },
        {
          "output_type": "display_data",
          "data": {
            "text/plain": [
              "submission_date           state       tot_cases      conf_cases      prob_cases \n",
              "           3861            3861            3861           15649           15650 \n",
              "       new_case       pnew_case       tot_death      conf_death      prob_death \n",
              "           3861            8023            3861           15358           15358 \n",
              "      new_death      pnew_death   consent_cases  consent_deaths \n",
              "           3861            8155            3861            3861 "
            ],
            "text/latex": "\\begin{description*}\n\\item[submission\\textbackslash{}\\_date] 3861\n\\item[state] 3861\n\\item[tot\\textbackslash{}\\_cases] 3861\n\\item[conf\\textbackslash{}\\_cases] 15649\n\\item[prob\\textbackslash{}\\_cases] 15650\n\\item[new\\textbackslash{}\\_case] 3861\n\\item[pnew\\textbackslash{}\\_case] 8023\n\\item[tot\\textbackslash{}\\_death] 3861\n\\item[conf\\textbackslash{}\\_death] 15358\n\\item[prob\\textbackslash{}\\_death] 15358\n\\item[new\\textbackslash{}\\_death] 3861\n\\item[pnew\\textbackslash{}\\_death] 8155\n\\item[consent\\textbackslash{}\\_cases] 3861\n\\item[consent\\textbackslash{}\\_deaths] 3861\n\\end{description*}\n",
            "text/markdown": "submission_date\n:   3861state\n:   3861tot_cases\n:   3861conf_cases\n:   15649prob_cases\n:   15650new_case\n:   3861pnew_case\n:   8023tot_death\n:   3861conf_death\n:   15358prob_death\n:   15358new_death\n:   3861pnew_death\n:   8155consent_cases\n:   3861consent_deaths\n:   3861\n\n",
            "text/html": [
              "<style>\n",
              ".dl-inline {width: auto; margin:0; padding: 0}\n",
              ".dl-inline>dt, .dl-inline>dd {float: none; width: auto; display: inline-block}\n",
              ".dl-inline>dt::after {content: \":\\0020\"; padding-right: .5ex}\n",
              ".dl-inline>dt:not(:first-of-type) {padding-left: .5ex}\n",
              "</style><dl class=dl-inline><dt>submission_date</dt><dd>3861</dd><dt>state</dt><dd>3861</dd><dt>tot_cases</dt><dd>3861</dd><dt>conf_cases</dt><dd>15649</dd><dt>prob_cases</dt><dd>15650</dd><dt>new_case</dt><dd>3861</dd><dt>pnew_case</dt><dd>8023</dd><dt>tot_death</dt><dd>3861</dd><dt>conf_death</dt><dd>15358</dd><dt>prob_death</dt><dd>15358</dd><dt>new_death</dt><dd>3861</dd><dt>pnew_death</dt><dd>8155</dd><dt>consent_cases</dt><dd>3861</dd><dt>consent_deaths</dt><dd>3861</dd></dl>\n"
            ]
          },
          "metadata": {
            "tags": []
          }
        }
      ]
    },
    {
      "cell_type": "markdown",
      "metadata": {
        "id": "M4xltUbdSXWJ"
      },
      "source": [
        "So looking at the above we can see that the only field that we currently care about and contains NA fields is `state`.\n",
        "\n",
        "This is actually a bit of a problem. There is a large number of state names that are missing here.\n",
        "\n",
        "Unfortunately since there is no way to guess which state is which, we will after to create a dataframe with these NA records removed. This will definately cause us to lose a moderate amount of data."
      ]
    },
    {
      "cell_type": "code",
      "metadata": {
        "id": "G2CeTJlIS5D_",
        "colab": {
          "base_uri": "https://localhost:8080/"
        },
        "outputId": "4f7d6ae1-348b-4a25-9859-d5773d1f10c2"
      },
      "source": [
        "cat(\"Total number of records in dataset:\", nrow(df))"
      ],
      "execution_count": null,
      "outputs": [
        {
          "output_type": "stream",
          "text": [
            "Total number of records in dataset: 25311"
          ],
          "name": "stdout"
        }
      ]
    },
    {
      "cell_type": "markdown",
      "metadata": {
        "id": "uDLq8FLjTIVD"
      },
      "source": [
        "Before we remove the NA records in the dataset let's take a look at the percentage of data that we will be unfortuneately losing."
      ]
    },
    {
      "cell_type": "code",
      "metadata": {
        "id": "yH2-nONcUB74",
        "colab": {
          "base_uri": "https://localhost:8080/"
        },
        "outputId": "d356c763-7a09-4ede-d21f-43922d17ba64"
      },
      "source": [
        "number_of_records_to_be_removed <- colSums(is.na(df))['state']\n",
        "total_number_of_records <- nrow(df)\n",
        "percentage_of_data_lost <- number_of_records_to_be_removed / total_number_of_records\n",
        "\n",
        "cat('Number of records to be removed:', number_of_records_to_be_removed, '\\n')\n",
        "cat('Number of records remaining after deletion:', total_number_of_records - number_of_records_to_be_removed, '\\n\\n')\n",
        "\n",
        "cat('Percentage of records lost from dataset:', percentage_of_data_lost * 100, '\\n')\n",
        "cat('Percentage of records remaining in dataset:', 100 - percentage_of_data_lost * 100, '\\n')"
      ],
      "execution_count": null,
      "outputs": [
        {
          "output_type": "stream",
          "text": [
            "Number of records to be removed: 3861 \n",
            "Number of records remaining after deletion: 21450 \n",
            "\n",
            "Percentage of records lost from dataset: 15.25424 \n",
            "Percentage of records remaining in dataset: 84.74576 \n"
          ],
          "name": "stdout"
        }
      ]
    },
    {
      "cell_type": "markdown",
      "metadata": {
        "id": "TEGv-JqNVcc3"
      },
      "source": [
        "Darn, this is a huge amout of data that we are losing, but there isn't any way to fix this problem. The data contained in the `state` field is categorical. There is no way to tell what state should be filled in for any of the missing rows, and thus we have no choice but to remove these records.\n",
        "\n"
      ]
    },
    {
      "cell_type": "code",
      "metadata": {
        "id": "5CJXMBGflBg-"
      },
      "source": [
        "# Remove all rows that have state set to NA.\n",
        "df <- df[!is.na(df$state),]"
      ],
      "execution_count": null,
      "outputs": []
    },
    {
      "cell_type": "markdown",
      "metadata": {
        "id": "zjvxkt_JLuVR"
      },
      "source": [
        "Let's take a look at the total number of cases over the course of time.\n",
        "\n",
        "For this example we will look at New York state's overall covid cases."
      ]
    },
    {
      "cell_type": "code",
      "metadata": {
        "id": "Mct9gxe6ML1m"
      },
      "source": [
        "library(ggplot2)"
      ],
      "execution_count": null,
      "outputs": []
    },
    {
      "cell_type": "code",
      "metadata": {
        "id": "vNH-itFCMZUL",
        "colab": {
          "base_uri": "https://localhost:8080/",
          "height": 437
        },
        "outputId": "6e20541f-31b3-421e-b31a-77ff9df11d61"
      },
      "source": [
        "new_york_df <- df[which(df$state == 'New York'),]\n",
        "ggplot(new_york_df) + geom_line(aes(x = submission_date, y = tot_cases)) +\n",
        "                      xlab('Time') +\n",
        "                      ylab('Total Cases') +\n",
        "                      ggtitle('Total Count of New York State Covid-19 Cases Over Time')"
      ],
      "execution_count": null,
      "outputs": [
        {
          "output_type": "display_data",
          "data": {
            "image/png": "[encoded data removed]",
            "text/plain": [
              "plot without title"
            ]
          },
          "metadata": {
            "tags": [],
            "image/png": {
              "width": 420,
              "height": 420
            }
          }
        }
      ]
    },
    {
      "cell_type": "code",
      "metadata": {
        "id": "53lIZQQUXBoO"
      },
      "source": [
        "# TODO SHOW A BETTER GRAPH OF THIS."
      ],
      "execution_count": null,
      "outputs": []
    },
    {
      "cell_type": "markdown",
      "metadata": {
        "id": "bLNsKAujNwbU"
      },
      "source": [
        "The above graph shows the spread of cases from the beginning entries in our dataset to the last entry in our dataset.\n",
        "\n",
        "However, the above graph is not exactly the best view of our data.\n",
        "\n",
        "Instead of looking at the range between these months, we should take a look at the graph where the X axis (submission dates) contains every month between the time period of April 2020 and Jan 2021.\n"
      ]
    },
    {
      "cell_type": "code",
      "metadata": {
        "id": "ykx-D04tO9B4",
        "colab": {
          "base_uri": "https://localhost:8080/",
          "height": 437
        },
        "outputId": "e006ea73-c388-43b3-fd58-c3e00d58b4fc"
      },
      "source": [
        "# Update later...\n",
        "ggplot(new_york_df) + geom_line(aes(x = submission_date, y = tot_cases)) +\n",
        "                      xlab('Time') +\n",
        "                      ylab('Total Cases')\n"
      ],
      "execution_count": null,
      "outputs": [
        {
          "output_type": "display_data",
          "data": {
            "image/png": "[encoded data removed]",
            "text/plain": [
              "plot without title"
            ]
          },
          "metadata": {
            "tags": [],
            "image/png": {
              "width": 420,
              "height": 420
            }
          }
        }
      ]
    },
    {
      "cell_type": "code",
      "metadata": {
        "id": "Q2jirrLaNWaF",
        "colab": {
          "base_uri": "https://localhost:8080/",
          "height": 437
        },
        "outputId": "fc821390-1310-40c9-8076-450b91e31b63"
      },
      "source": [
        "ggplot(new_york_df) + geom_line(aes(x = submission_date, y = tot_death)) +\n",
        "                      ggtitle('New York State Covid-19 Deaths Over Time') +\n",
        "                      xlab('Time') +\n",
        "                      ylab('Total Cases')"
      ],
      "execution_count": null,
      "outputs": [
        {
          "output_type": "display_data",
          "data": {
            "image/png": "[encoded data removed]",
            "text/plain": [
              "plot without title"
            ]
          },
          "metadata": {
            "tags": [],
            "image/png": {
              "width": 420,
              "height": 420
            }
          }
        }
      ]
    },
    {
      "cell_type": "code",
      "metadata": {
        "id": "RdkrSAzVXlJm"
      },
      "source": [
        "# TODO BETTER VIEW OF THE ABOVE PLOT"
      ],
      "execution_count": null,
      "outputs": []
    },
    {
      "cell_type": "markdown",
      "metadata": {
        "id": "HpwVzzdTYlUm"
      },
      "source": [
        ""
      ]
    },
    {
      "cell_type": "code",
      "metadata": {
        "id": "RsW5xEqxYmKc"
      },
      "source": [
        "# SHOW ALL STATES WITH DIFFERENT LINE GRAPHS."
      ],
      "execution_count": null,
      "outputs": []
    },
    {
      "cell_type": "markdown",
      "metadata": {
        "id": "RnRU0ku9Yaeu"
      },
      "source": [
        ""
      ]
    },
    {
      "cell_type": "markdown",
      "metadata": {
        "id": "bBUCBhl2V1lm"
      },
      "source": [
        "### Count of cases per each state\n",
        "\n",
        "With 50 different states (including the district of columbia), it is really hard to view all of the line graphs at the same time. We could create a different line per each different state, however our data would be extremely hard to read and doing this would be rather pointless.\n",
        "\n",
        "Instead we will take a look at the count of cases each state has by using a bar plot. This will give us a good idea of which state has the most covid cases. Using this will allow us to view the max amount of cases that each state has in the same plot, allowing us to make comparisons between each distinct state.\n",
        "\n",
        "We will also add a column for the count of deaths per each state. This will come in handy to view deaths by state using a bar chart as well."
      ]
    },
    {
      "cell_type": "code",
      "metadata": {
        "id": "lIhiA8xtYa43",
        "colab": {
          "base_uri": "https://localhost:8080/",
          "height": 283
        },
        "outputId": "f780ddc1-943a-4cbd-a481-91e260777c04"
      },
      "source": [
        "# Construct a new dataframe that contains 2 variables:\n",
        "# 1. The name of the state\n",
        "# 2. The max count of covid cases for that state.\n",
        "df_of_max_covid_cases_by_state <- data.frame(state = character(), max_cases = numeric(0), max_deaths = numeric(0))\n",
        "\n",
        "# Now we itereate through all of the states that we have in our dataframe and\n",
        "# append the state and the max count of covid cases for that state into the above\n",
        "# data frame that we created.\n",
        "for (state in unique(df$state)) {\n",
        "    # Get the df for a specific given state.\n",
        "    state_df <- df[which(df$state == state),]\n",
        "\n",
        "    # Sort by tot_cases to make sure that we get the largest record in the dataset.\n",
        "    state_df <- state_df[order(state_df$tot_cases, decreasing = TRUE),]\n",
        "\n",
        "    # The first record is going to be the largest count of covid cases, as that is how the dataset\n",
        "    # is setup.\n",
        "    max_cases_in_state <- head(state_df[order(state_df$tot_cases, decreasing = TRUE),], 1)$tot_cases\n",
        "    max_deaths_in_state <-head(state_df[order(state_df$tot_death, decreasing = TRUE),], 1)$tot_death\n",
        "\n",
        "    # Add new record to the new dataframe that we created.\n",
        "    new_row <- c(state = state, max_cases  = max_cases_in_state, max_deaths = max_deaths_in_state)\n",
        "    df_of_max_covid_cases_by_state[nrow(df_of_max_covid_cases_by_state) + 1,] <- new_row\n",
        "}\n",
        "\n",
        "# Make convert needed fields to numeric.\n",
        "df_of_max_covid_cases_by_state$max_cases <- as.integer(df_of_max_covid_cases_by_state$max_cases)\n",
        "df_of_max_covid_cases_by_state$max_deaths <- as.integer(df_of_max_covid_cases_by_state$max_deaths)\n",
        "\n",
        "# Sort the dataframe by state name so that it reads fluidly.\n",
        "df_of_max_covid_cases_by_state <- df_of_max_covid_cases_by_state[order(df_of_max_covid_cases_by_state$state),]\n",
        "\n",
        "# view.\n",
        "head(df_of_max_covid_cases_by_state)"
      ],
      "execution_count": null,
      "outputs": [
        {
          "output_type": "display_data",
          "data": {
            "text/plain": [
              "   state      max_cases max_deaths\n",
              "41 Alabama     513138   10504     \n",
              "16 Alaska       59528     309     \n",
              "46 Arizona     837987   16874     \n",
              "14 Arkansas    329511    5571     \n",
              "25 California 3553307   57091     \n",
              "10 Colorado    454893    6082     "
            ],
            "text/latex": "A data.frame: 6 × 3\n\\begin{tabular}{r|lll}\n  & state & max\\_cases & max\\_deaths\\\\\n  & <chr> & <int> & <int>\\\\\n\\hline\n\t41 & Alabama    &  513138 & 10504\\\\\n\t16 & Alaska     &   59528 &   309\\\\\n\t46 & Arizona    &  837987 & 16874\\\\\n\t14 & Arkansas   &  329511 &  5571\\\\\n\t25 & California & 3553307 & 57091\\\\\n\t10 & Colorado   &  454893 &  6082\\\\\n\\end{tabular}\n",
            "text/markdown": "\nA data.frame: 6 × 3\n\n| <!--/--> | state &lt;chr&gt; | max_cases &lt;int&gt; | max_deaths &lt;int&gt; |\n|---|---|---|---|\n| 41 | Alabama    |  513138 | 10504 |\n| 16 | Alaska     |   59528 |   309 |\n| 46 | Arizona    |  837987 | 16874 |\n| 14 | Arkansas   |  329511 |  5571 |\n| 25 | California | 3553307 | 57091 |\n| 10 | Colorado   |  454893 |  6082 |\n\n",
            "text/html": [
              "<table class=\"dataframe\">\n",
              "<caption>A data.frame: 6 × 3</caption>\n",
              "<thead>\n",
              "\t<tr><th></th><th scope=col>state</th><th scope=col>max_cases</th><th scope=col>max_deaths</th></tr>\n",
              "\t<tr><th></th><th scope=col>&lt;chr&gt;</th><th scope=col>&lt;int&gt;</th><th scope=col>&lt;int&gt;</th></tr>\n",
              "</thead>\n",
              "<tbody>\n",
              "\t<tr><th scope=row>41</th><td>Alabama   </td><td> 513138</td><td>10504</td></tr>\n",
              "\t<tr><th scope=row>16</th><td>Alaska    </td><td>  59528</td><td>  309</td></tr>\n",
              "\t<tr><th scope=row>46</th><td>Arizona   </td><td> 837987</td><td>16874</td></tr>\n",
              "\t<tr><th scope=row>14</th><td>Arkansas  </td><td> 329511</td><td> 5571</td></tr>\n",
              "\t<tr><th scope=row>25</th><td>California</td><td>3553307</td><td>57091</td></tr>\n",
              "\t<tr><th scope=row>10</th><td>Colorado  </td><td> 454893</td><td> 6082</td></tr>\n",
              "</tbody>\n",
              "</table>\n"
            ]
          },
          "metadata": {
            "tags": []
          }
        }
      ]
    },
    {
      "cell_type": "code",
      "metadata": {
        "id": "9IWTCookZ8Lr",
        "colab": {
          "base_uri": "https://localhost:8080/",
          "height": 1000
        },
        "outputId": "c894f039-864c-4c2f-853c-6b2791e01599"
      },
      "source": [
        "# Confirm that the dataframe we generated looks correct.\n",
        "number_of_rows_in_dataframe <- nrow(df_of_max_covid_cases_by_state)\n",
        "cat(\"Number of entries in dataframe:\", number_of_rows_in_dataframe, \"\\n\")\n",
        "\n",
        "# Take a look at very state's max count of covid cases.\n",
        "head(df_of_max_covid_cases_by_state, 50)"
      ],
      "execution_count": null,
      "outputs": [
        {
          "output_type": "stream",
          "text": [
            "Number of entries in dataframe: 50 \n"
          ],
          "name": "stdout"
        },
        {
          "output_type": "display_data",
          "data": {
            "text/plain": [
              "   state          max_cases max_deaths\n",
              "41 Alabama         513138   10504     \n",
              "16 Alaska           59528     309     \n",
              "46 Arizona         837987   16874     \n",
              "14 Arkansas        329511    5571     \n",
              "25 California     3553307   57091     \n",
              "10 Colorado        454893    6082     \n",
              "40 Connecticut     303510    7862     \n",
              "27 Delaware         93038    1536     \n",
              "19 Florida        1989922   32957     \n",
              "4  Georgia        1051361   18751     \n",
              "8  Hawaii           28160     455     \n",
              "42 Idaho           178887    1954     \n",
              "47 Illinois       1229898   23442     \n",
              "29 Indiana         680998   12982     \n",
              "9  Iowa            347872    5708     \n",
              "11 Kansas          300927    4881     \n",
              "50 Kentucky        423414    5970     \n",
              "33 Louisiana       442620   10073     \n",
              "34 Maine            49444     731     \n",
              "21 Maryland        403982    8217     \n",
              "17 Massachusetts   596194   16879     \n",
              "44 Michigan        712393   17003     \n",
              "48 Minnesota       510398    6892     \n",
              "37 Mississippi     304210    6998     \n",
              "35 Missouri        574417    8438     \n",
              "45 Montana         103830    1435     \n",
              "24 Nebraska        207667    2175     \n",
              "43 Nevada          302171    5215     \n",
              "30 New Hampshire    82039    1229     \n",
              "22 New Jersey      881882   24330     \n",
              "13 New Mexico      190491    3916     \n",
              "12 New York       1002364   18653     \n",
              "49 North Carolina  905528   12028     \n",
              "31 North Dakota    102382    1466     \n",
              "15 Ohio           1006171   18388     \n",
              "1  Oklahoma        436914    4923     \n",
              "32 Oregon          162806    2370     \n",
              "6  Pennsylvania   1000240   24917     \n",
              "20 Rhode Island    135290    2607     \n",
              "23 South Carolina  544916    9087     \n",
              "2  South Dakota    116624    1927     \n",
              "7  Tennessee       806011   11796     \n",
              "18 Texas          2759866   46868     \n",
              "3  Utah            383260    2088     \n",
              "38 Vermont          18215     223     \n",
              "26 Virginia        612063   10182     \n",
              "39 Washington      358606    5213     \n",
              "5  West Virginia   139251    2624     \n",
              "36 Wisconsin       632123    7267     \n",
              "28 Wyoming          55920     695     "
            ],
            "text/latex": "A data.frame: 50 × 3\n\\begin{tabular}{r|lll}\n  & state & max\\_cases & max\\_deaths\\\\\n  & <chr> & <int> & <int>\\\\\n\\hline\n\t41 & Alabama        &  513138 & 10504\\\\\n\t16 & Alaska         &   59528 &   309\\\\\n\t46 & Arizona        &  837987 & 16874\\\\\n\t14 & Arkansas       &  329511 &  5571\\\\\n\t25 & California     & 3553307 & 57091\\\\\n\t10 & Colorado       &  454893 &  6082\\\\\n\t40 & Connecticut    &  303510 &  7862\\\\\n\t27 & Delaware       &   93038 &  1536\\\\\n\t19 & Florida        & 1989922 & 32957\\\\\n\t4 & Georgia        & 1051361 & 18751\\\\\n\t8 & Hawaii         &   28160 &   455\\\\\n\t42 & Idaho          &  178887 &  1954\\\\\n\t47 & Illinois       & 1229898 & 23442\\\\\n\t29 & Indiana        &  680998 & 12982\\\\\n\t9 & Iowa           &  347872 &  5708\\\\\n\t11 & Kansas         &  300927 &  4881\\\\\n\t50 & Kentucky       &  423414 &  5970\\\\\n\t33 & Louisiana      &  442620 & 10073\\\\\n\t34 & Maine          &   49444 &   731\\\\\n\t21 & Maryland       &  403982 &  8217\\\\\n\t17 & Massachusetts  &  596194 & 16879\\\\\n\t44 & Michigan       &  712393 & 17003\\\\\n\t48 & Minnesota      &  510398 &  6892\\\\\n\t37 & Mississippi    &  304210 &  6998\\\\\n\t35 & Missouri       &  574417 &  8438\\\\\n\t45 & Montana        &  103830 &  1435\\\\\n\t24 & Nebraska       &  207667 &  2175\\\\\n\t43 & Nevada         &  302171 &  5215\\\\\n\t30 & New Hampshire  &   82039 &  1229\\\\\n\t22 & New Jersey     &  881882 & 24330\\\\\n\t13 & New Mexico     &  190491 &  3916\\\\\n\t12 & New York       & 1002364 & 18653\\\\\n\t49 & North Carolina &  905528 & 12028\\\\\n\t31 & North Dakota   &  102382 &  1466\\\\\n\t15 & Ohio           & 1006171 & 18388\\\\\n\t1 & Oklahoma       &  436914 &  4923\\\\\n\t32 & Oregon         &  162806 &  2370\\\\\n\t6 & Pennsylvania   & 1000240 & 24917\\\\\n\t20 & Rhode Island   &  135290 &  2607\\\\\n\t23 & South Carolina &  544916 &  9087\\\\\n\t2 & South Dakota   &  116624 &  1927\\\\\n\t7 & Tennessee      &  806011 & 11796\\\\\n\t18 & Texas          & 2759866 & 46868\\\\\n\t3 & Utah           &  383260 &  2088\\\\\n\t38 & Vermont        &   18215 &   223\\\\\n\t26 & Virginia       &  612063 & 10182\\\\\n\t39 & Washington     &  358606 &  5213\\\\\n\t5 & West Virginia  &  139251 &  2624\\\\\n\t36 & Wisconsin      &  632123 &  7267\\\\\n\t28 & Wyoming        &   55920 &   695\\\\\n\\end{tabular}\n",
            "text/markdown": "\nA data.frame: 50 × 3\n\n| <!--/--> | state &lt;chr&gt; | max_cases &lt;int&gt; | max_deaths &lt;int&gt; |\n|---|---|---|---|\n| 41 | Alabama        |  513138 | 10504 |\n| 16 | Alaska         |   59528 |   309 |\n| 46 | Arizona        |  837987 | 16874 |\n| 14 | Arkansas       |  329511 |  5571 |\n| 25 | California     | 3553307 | 57091 |\n| 10 | Colorado       |  454893 |  6082 |\n| 40 | Connecticut    |  303510 |  7862 |\n| 27 | Delaware       |   93038 |  1536 |\n| 19 | Florida        | 1989922 | 32957 |\n| 4 | Georgia        | 1051361 | 18751 |\n| 8 | Hawaii         |   28160 |   455 |\n| 42 | Idaho          |  178887 |  1954 |\n| 47 | Illinois       | 1229898 | 23442 |\n| 29 | Indiana        |  680998 | 12982 |\n| 9 | Iowa           |  347872 |  5708 |\n| 11 | Kansas         |  300927 |  4881 |\n| 50 | Kentucky       |  423414 |  5970 |\n| 33 | Louisiana      |  442620 | 10073 |\n| 34 | Maine          |   49444 |   731 |\n| 21 | Maryland       |  403982 |  8217 |\n| 17 | Massachusetts  |  596194 | 16879 |\n| 44 | Michigan       |  712393 | 17003 |\n| 48 | Minnesota      |  510398 |  6892 |\n| 37 | Mississippi    |  304210 |  6998 |\n| 35 | Missouri       |  574417 |  8438 |\n| 45 | Montana        |  103830 |  1435 |\n| 24 | Nebraska       |  207667 |  2175 |\n| 43 | Nevada         |  302171 |  5215 |\n| 30 | New Hampshire  |   82039 |  1229 |\n| 22 | New Jersey     |  881882 | 24330 |\n| 13 | New Mexico     |  190491 |  3916 |\n| 12 | New York       | 1002364 | 18653 |\n| 49 | North Carolina |  905528 | 12028 |\n| 31 | North Dakota   |  102382 |  1466 |\n| 15 | Ohio           | 1006171 | 18388 |\n| 1 | Oklahoma       |  436914 |  4923 |\n| 32 | Oregon         |  162806 |  2370 |\n| 6 | Pennsylvania   | 1000240 | 24917 |\n| 20 | Rhode Island   |  135290 |  2607 |\n| 23 | South Carolina |  544916 |  9087 |\n| 2 | South Dakota   |  116624 |  1927 |\n| 7 | Tennessee      |  806011 | 11796 |\n| 18 | Texas          | 2759866 | 46868 |\n| 3 | Utah           |  383260 |  2088 |\n| 38 | Vermont        |   18215 |   223 |\n| 26 | Virginia       |  612063 | 10182 |\n| 39 | Washington     |  358606 |  5213 |\n| 5 | West Virginia  |  139251 |  2624 |\n| 36 | Wisconsin      |  632123 |  7267 |\n| 28 | Wyoming        |   55920 |   695 |\n\n",
            "text/html": [
              "<table class=\"dataframe\">\n",
              "<caption>A data.frame: 50 × 3</caption>\n",
              "<thead>\n",
              "\t<tr><th></th><th scope=col>state</th><th scope=col>max_cases</th><th scope=col>max_deaths</th></tr>\n",
              "\t<tr><th></th><th scope=col>&lt;chr&gt;</th><th scope=col>&lt;int&gt;</th><th scope=col>&lt;int&gt;</th></tr>\n",
              "</thead>\n",
              "<tbody>\n",
              "\t<tr><th scope=row>41</th><td>Alabama       </td><td> 513138</td><td>10504</td></tr>\n",
              "\t<tr><th scope=row>16</th><td>Alaska        </td><td>  59528</td><td>  309</td></tr>\n",
              "\t<tr><th scope=row>46</th><td>Arizona       </td><td> 837987</td><td>16874</td></tr>\n",
              "\t<tr><th scope=row>14</th><td>Arkansas      </td><td> 329511</td><td> 5571</td></tr>\n",
              "\t<tr><th scope=row>25</th><td>California    </td><td>3553307</td><td>57091</td></tr>\n",
              "\t<tr><th scope=row>10</th><td>Colorado      </td><td> 454893</td><td> 6082</td></tr>\n",
              "\t<tr><th scope=row>40</th><td>Connecticut   </td><td> 303510</td><td> 7862</td></tr>\n",
              "\t<tr><th scope=row>27</th><td>Delaware      </td><td>  93038</td><td> 1536</td></tr>\n",
              "\t<tr><th scope=row>19</th><td>Florida       </td><td>1989922</td><td>32957</td></tr>\n",
              "\t<tr><th scope=row>4</th><td>Georgia       </td><td>1051361</td><td>18751</td></tr>\n",
              "\t<tr><th scope=row>8</th><td>Hawaii        </td><td>  28160</td><td>  455</td></tr>\n",
              "\t<tr><th scope=row>42</th><td>Idaho         </td><td> 178887</td><td> 1954</td></tr>\n",
              "\t<tr><th scope=row>47</th><td>Illinois      </td><td>1229898</td><td>23442</td></tr>\n",
              "\t<tr><th scope=row>29</th><td>Indiana       </td><td> 680998</td><td>12982</td></tr>\n",
              "\t<tr><th scope=row>9</th><td>Iowa          </td><td> 347872</td><td> 5708</td></tr>\n",
              "\t<tr><th scope=row>11</th><td>Kansas        </td><td> 300927</td><td> 4881</td></tr>\n",
              "\t<tr><th scope=row>50</th><td>Kentucky      </td><td> 423414</td><td> 5970</td></tr>\n",
              "\t<tr><th scope=row>33</th><td>Louisiana     </td><td> 442620</td><td>10073</td></tr>\n",
              "\t<tr><th scope=row>34</th><td>Maine         </td><td>  49444</td><td>  731</td></tr>\n",
              "\t<tr><th scope=row>21</th><td>Maryland      </td><td> 403982</td><td> 8217</td></tr>\n",
              "\t<tr><th scope=row>17</th><td>Massachusetts </td><td> 596194</td><td>16879</td></tr>\n",
              "\t<tr><th scope=row>44</th><td>Michigan      </td><td> 712393</td><td>17003</td></tr>\n",
              "\t<tr><th scope=row>48</th><td>Minnesota     </td><td> 510398</td><td> 6892</td></tr>\n",
              "\t<tr><th scope=row>37</th><td>Mississippi   </td><td> 304210</td><td> 6998</td></tr>\n",
              "\t<tr><th scope=row>35</th><td>Missouri      </td><td> 574417</td><td> 8438</td></tr>\n",
              "\t<tr><th scope=row>45</th><td>Montana       </td><td> 103830</td><td> 1435</td></tr>\n",
              "\t<tr><th scope=row>24</th><td>Nebraska      </td><td> 207667</td><td> 2175</td></tr>\n",
              "\t<tr><th scope=row>43</th><td>Nevada        </td><td> 302171</td><td> 5215</td></tr>\n",
              "\t<tr><th scope=row>30</th><td>New Hampshire </td><td>  82039</td><td> 1229</td></tr>\n",
              "\t<tr><th scope=row>22</th><td>New Jersey    </td><td> 881882</td><td>24330</td></tr>\n",
              "\t<tr><th scope=row>13</th><td>New Mexico    </td><td> 190491</td><td> 3916</td></tr>\n",
              "\t<tr><th scope=row>12</th><td>New York      </td><td>1002364</td><td>18653</td></tr>\n",
              "\t<tr><th scope=row>49</th><td>North Carolina</td><td> 905528</td><td>12028</td></tr>\n",
              "\t<tr><th scope=row>31</th><td>North Dakota  </td><td> 102382</td><td> 1466</td></tr>\n",
              "\t<tr><th scope=row>15</th><td>Ohio          </td><td>1006171</td><td>18388</td></tr>\n",
              "\t<tr><th scope=row>1</th><td>Oklahoma      </td><td> 436914</td><td> 4923</td></tr>\n",
              "\t<tr><th scope=row>32</th><td>Oregon        </td><td> 162806</td><td> 2370</td></tr>\n",
              "\t<tr><th scope=row>6</th><td>Pennsylvania  </td><td>1000240</td><td>24917</td></tr>\n",
              "\t<tr><th scope=row>20</th><td>Rhode Island  </td><td> 135290</td><td> 2607</td></tr>\n",
              "\t<tr><th scope=row>23</th><td>South Carolina</td><td> 544916</td><td> 9087</td></tr>\n",
              "\t<tr><th scope=row>2</th><td>South Dakota  </td><td> 116624</td><td> 1927</td></tr>\n",
              "\t<tr><th scope=row>7</th><td>Tennessee     </td><td> 806011</td><td>11796</td></tr>\n",
              "\t<tr><th scope=row>18</th><td>Texas         </td><td>2759866</td><td>46868</td></tr>\n",
              "\t<tr><th scope=row>3</th><td>Utah          </td><td> 383260</td><td> 2088</td></tr>\n",
              "\t<tr><th scope=row>38</th><td>Vermont       </td><td>  18215</td><td>  223</td></tr>\n",
              "\t<tr><th scope=row>26</th><td>Virginia      </td><td> 612063</td><td>10182</td></tr>\n",
              "\t<tr><th scope=row>39</th><td>Washington    </td><td> 358606</td><td> 5213</td></tr>\n",
              "\t<tr><th scope=row>5</th><td>West Virginia </td><td> 139251</td><td> 2624</td></tr>\n",
              "\t<tr><th scope=row>36</th><td>Wisconsin     </td><td> 632123</td><td> 7267</td></tr>\n",
              "\t<tr><th scope=row>28</th><td>Wyoming       </td><td>  55920</td><td>  695</td></tr>\n",
              "</tbody>\n",
              "</table>\n"
            ]
          },
          "metadata": {
            "tags": []
          }
        }
      ]
    },
    {
      "cell_type": "markdown",
      "metadata": {
        "id": "RTTgMtMsntVl"
      },
      "source": [
        "### Bar charts of total cases by state"
      ]
    },
    {
      "cell_type": "code",
      "metadata": {
        "id": "LgmXV2R-aIQn",
        "colab": {
          "base_uri": "https://localhost:8080/",
          "height": 437
        },
        "outputId": "755949e1-c762-42f6-a6b1-1cd1cbb9386e"
      },
      "source": [
        "p <- ggplot(data = df_of_max_covid_cases_by_state, aes(x = state, y= max_cases)) +\n",
        "    geom_bar(stat='identity') +\n",
        "    xlab('State') +\n",
        "    ylab('Total Cases') +\n",
        "    theme(axis.text.x = element_text(angle = 90, vjust = 0.5, hjust=1)) +\n",
        "    ggtitle('Covid Case Count By State') +\n",
        "    scale_y_continuous(labels = function(x) format(x, scientific = FALSE))\n",
        "\n",
        "show(p)"
      ],
      "execution_count": null,
      "outputs": [
        {
          "output_type": "display_data",
          "data": {
            "image/png": "[encoded data removed]",
            "text/plain": [
              "plot without title"
            ]
          },
          "metadata": {
            "tags": [],
            "image/png": {
              "width": 420,
              "height": 420
            }
          }
        }
      ]
    },
    {
      "cell_type": "markdown",
      "metadata": {
        "id": "iKCVEITQYQ5t"
      },
      "source": [
        "Let's take a look at the data in the data in the form of a scatter plot. I don't expect us to learn anything new from using this plot, however it is always to have multiple different ways to visualize data."
      ]
    },
    {
      "cell_type": "markdown",
      "metadata": {
        "id": "U1mhgu0maIsU"
      },
      "source": [
        "### Dataset metrics\n",
        "\n",
        "Now it's time to take a look at the averages of our data.\n",
        "\n",
        "What is the mean of cases?\n",
        "What is the median of cases?\n",
        "What is the std of cases?\n",
        "What is the range of the set of max cases for every state?\n",
        "What state has the most cases?\n",
        "What state has the least cases?\n",
        "\n"
      ]
    },
    {
      "cell_type": "code",
      "metadata": {
        "id": "MBQrSyyrvbnb",
        "colab": {
          "base_uri": "https://localhost:8080/"
        },
        "outputId": "9941d0a5-ef17-4346-c087-9146756402eb"
      },
      "source": [
        "# Let's calculate some metrics...\n",
        "cat(\"Mean of max cases:\", mean(df_of_max_covid_cases_by_state$max_cases), '\\n')\n",
        "cat(\"Median of max cases:\", median(df_of_max_covid_cases_by_state$max_cases), '\\n')\n",
        "cat(\"Standard deviation of max cases:\", sd(df_of_max_covid_cases_by_state$max_cases), \"\\n\\n\")\n",
        "\n",
        "# Let's look at the state with the max number of cases...\n",
        "max_number_of_cases <- max(df_of_max_covid_cases_by_state$max_cases)\n",
        "state_with_most_cases <- df_of_max_covid_cases_by_state[\n",
        "    which(max_number_of_cases == df_of_max_covid_cases_by_state$max_cases),]$state\n",
        "cat(\"State with highest count of cases:\", state_with_most_cases, \"\\n\")\n",
        "cat('Highest amount of cases in a state:', max_number_of_cases, \"\\n\\n\")\n",
        "\n",
        "# Let's look at the state with the min number of cases...\n",
        "min_number_of_cases <- min(df_of_max_covid_cases_by_state$max_cases)\n",
        "state_with_least_cases <- df_of_max_covid_cases_by_state[\n",
        "    which(min_number_of_cases == df_of_max_covid_cases_by_state$max_cases),]$state\n",
        "cat(\"State with least count of cases:\", state_with_least_cases, \"\\n\")\n",
        "cat('Lowest amount of cases in a state:', min_number_of_cases, \"\\n\\n\")"
      ],
      "execution_count": null,
      "outputs": [
        {
          "output_type": "stream",
          "text": [
            "Mean of max cases: 578332.8 \n",
            "Median of max cases: 413698 \n",
            "Standard deviation of max cases: 660239.8 \n",
            "\n",
            "State with highest count of cases: California \n",
            "Highest amount of cases in a state: 3553307 \n",
            "\n",
            "State with least count of cases: Vermont \n",
            "Lowest amount of cases in a state: 18215 \n",
            "\n"
          ],
          "name": "stdout"
        }
      ]
    },
    {
      "cell_type": "markdown",
      "metadata": {
        "id": "jwVDXb5UzovW"
      },
      "source": [
        "### Bar charts of total deaths by state"
      ]
    },
    {
      "cell_type": "markdown",
      "metadata": {
        "id": "b2nJ4UiNzvGT"
      },
      "source": [
        "Now let's take a look at the number of deaths per state.\n",
        "\n",
        "We will the calculate the same metrics as above, but for deaths per state instead of total cases."
      ]
    },
    {
      "cell_type": "code",
      "metadata": {
        "id": "fPRPGo12z7CK",
        "colab": {
          "base_uri": "https://localhost:8080/",
          "height": 437
        },
        "outputId": "6495b386-f1f7-45ab-cd2d-a19d0ea78530"
      },
      "source": [
        "p2 <- ggplot(data = df_of_max_covid_cases_by_state, aes(x = state, y= max_deaths)) +\n",
        "    geom_bar(stat='identity') +\n",
        "    xlab('State') +\n",
        "    ylab('Total Deaths') +\n",
        "    theme(axis.text.x = element_text(angle = 90, vjust = 0.5, hjust=1)) +\n",
        "    ggtitle('Covid Death Count By State') +\n",
        "    scale_y_continuous(labels = function(x) format(x, scientific = FALSE))\n",
        "\n",
        "show(p2)"
      ],
      "execution_count": null,
      "outputs": [
        {
          "output_type": "display_data",
          "data": {
            "image/png": "[encoded data removed]",
            "text/plain": [
              "plot without title"
            ]
          },
          "metadata": {
            "tags": [],
            "image/png": {
              "width": 420,
              "height": 420
            }
          }
        }
      ]
    },
    {
      "cell_type": "markdown",
      "metadata": {
        "id": "PnVcYZ_C2FJR"
      },
      "source": [
        "### Dataset Metrics"
      ]
    },
    {
      "cell_type": "code",
      "metadata": {
        "id": "yGZli9p-2InX",
        "colab": {
          "base_uri": "https://localhost:8080/"
        },
        "outputId": "a846955e-c2c0-4812-ebeb-0fbef29ec075"
      },
      "source": [
        "# Let's calculate some metrics...\n",
        "cat(\"Mean of max deaths:\", mean(df_of_max_covid_cases_by_state$max_deaths), '\\n')\n",
        "cat(\"Median of max deaths:\", median(df_of_max_covid_cases_by_state$max_deaths), '\\n')\n",
        "cat(\"Standard deviation of max deaths:\", sd(df_of_max_covid_cases_by_state$max_deaths), \"\\n\\n\")\n",
        "\n",
        "# Let's look at the state with the max number of cases...\n",
        "max_number_of_deaths <- max(df_of_max_covid_cases_by_state$max_deaths)\n",
        "state_with_most_deaths <- df_of_max_covid_cases_by_state[\n",
        "    which(max_number_of_deaths == df_of_max_covid_cases_by_state$max_deaths),]$state\n",
        "cat(\"State with highest count of deaths:\", state_with_most_deaths, \"\\n\")\n",
        "cat('Highest amount of deaths in a state:', max_number_of_deaths, \"\\n\\n\")\n",
        "\n",
        "# Let's look at the state with the min number of cases...\n",
        "min_number_of_deaths <- min(df_of_max_covid_cases_by_state$max_deaths)\n",
        "state_with_least_deaths <- df_of_max_covid_cases_by_state[\n",
        "    which(min_number_of_deaths == df_of_max_covid_cases_by_state$max_deaths),]$state\n",
        "cat(\"State with least count of deaths:\", state_with_least_deaths, \"\\n\")\n",
        "cat('Lowest amount of deaths in a state:', min_number_of_deaths, \"\\n\\n\")"
      ],
      "execution_count": null,
      "outputs": [
        {
          "output_type": "stream",
          "text": [
            "Mean of max deaths: 10195.64 \n",
            "Median of max deaths: 6487 \n",
            "Standard deviation of max deaths: 11520.09 \n",
            "\n",
            "State with highest count of deaths: California \n",
            "Highest amount of deaths in a state: 57091 \n",
            "\n",
            "State with least count of deaths: Vermont \n",
            "Lowest amount of deaths in a state: 223 \n",
            "\n"
          ],
          "name": "stdout"
        }
      ]
    },
    {
      "cell_type": "markdown",
      "metadata": {
        "id": "ECzf_wZB4lyf"
      },
      "source": [
        "###Results"
      ]
    },
    {
      "cell_type": "markdown",
      "metadata": {
        "id": "bdrVqQxZ4oMy"
      },
      "source": [
        "What I find to be extremely interesting is the relationship between count of covid-19 deaths and cases does not appear to be linearly dependent. In otherwords, the count of deaths does not corelate mainly to the count of cases. Most likely external factors determine the number of deaths. For example health issues, age, physical condition, etc...\n",
        "\n",
        "Furthermore, we saw above that Georgia easily had the most cases of covid, yet Georgia's overall deaths is not nearly that high compared to many of the other states. There were tons of states that had much either death rates and much smaller number of covid cases.\n",
        "\n",
        "Moreover, Georgia (for the most part) is a non-city-like state. The population should be lower than many other places, yet the number of cases that Georgia had was much higher then even NY state."
      ]
    },
    {
      "cell_type": "markdown",
      "metadata": {
        "id": "c4WvFVse8FjB"
      },
      "source": [
        "### Corelation between deaths and cases"
      ]
    },
    {
      "cell_type": "markdown",
      "metadata": {
        "id": "ZRrJPZwA8Jc6"
      },
      "source": [
        "After realizing that more cases does not (in almost all cases) imply that there will be a lot more deaths in the state.\n",
        "\n",
        "We will generate a scatter plot to look at the correlation between covid deaths and covid cases.\n",
        "\n",
        "Afterwards we will calculate some metrics with respect to deaths and cases by state."
      ]
    },
    {
      "cell_type": "markdown",
      "metadata": {
        "id": "JspLny9H8onA"
      },
      "source": [
        "#### Scatter plot"
      ]
    },
    {
      "cell_type": "code",
      "metadata": {
        "id": "0mmeYuv08sZr",
        "colab": {
          "base_uri": "https://localhost:8080/",
          "height": 437
        },
        "outputId": "92abc351-d635-442b-ea55-beaca79ade92"
      },
      "source": [
        "# We will make the X-axis deaths and the Y axis cases.\n",
        "p <- ggplot(df_of_max_covid_cases_by_state, aes(x = max_deaths, y = max_cases)) +\n",
        "    geom_point(size=2, color=\"black\", shape=5) +\n",
        "    xlab(\"Count of Deaths\") +\n",
        "    ylab(\"Count of Cases\") +\n",
        "    theme(axis.text.x = element_text(angle = 90, vjust = 0.5, hjust=1)) +\n",
        "    ggtitle('Correlation Between Covid Cases & Deaths') +\n",
        "    scale_y_continuous(labels = function(x) format(x, scientific = FALSE))\n",
        "\n",
        "show(p)"
      ],
      "execution_count": null,
      "outputs": [
        {
          "output_type": "display_data",
          "data": {
            "image/png": "[encoded data removed]",
            "text/plain": [
              "plot without title"
            ]
          },
          "metadata": {
            "tags": [],
            "image/png": {
              "width": 420,
              "height": 420
            }
          }
        }
      ]
    },
    {
      "cell_type": "markdown",
      "metadata": {
        "id": "pO6Ap2OFzTjw"
      },
      "source": [
        "### State Population Analysis"
      ]
    },
    {
      "cell_type": "markdown",
      "metadata": {
        "id": "fcQQsAB1zaJq"
      },
      "source": [
        "To get a better understanding of how much a state is suffering from covid-19 we can pull in the population of each individual state. We can then calculate the percentage of deaths by population, and similarly, cases by population.\n",
        "\n",
        "Moving forward, this metric may also be an extremely useful variable/feature for clustering our data at the state level and may provide us with more insight on our clustering results."
      ]
    },
    {
      "cell_type": "code",
      "metadata": {
        "colab": {
          "base_uri": "https://localhost:8080/",
          "height": 214
        },
        "id": "IEReMp23-6jt",
        "outputId": "2d55cb4a-7b98-4374-c6d9-57142cbbf4f0"
      },
      "source": [
        "population_df <- read.csv(\"census_2019_state_population.csv\")\n",
        "\n",
        "# A view of the data.\n",
        "head(population_df, 100)"
      ],
      "execution_count": null,
      "outputs": [
        {
          "output_type": "stream",
          "text": [
            "Warning message in file(file, \"rt\"):\n",
            "“cannot open file 'census_2019_state_population.csv': No such file or directory”\n"
          ],
          "name": "stderr"
        },
        {
          "output_type": "error",
          "ename": "ERROR",
          "evalue": "ignored",
          "traceback": [
            "Error in file(file, \"rt\"): cannot open the connection\nTraceback:\n",
            "1. read.csv(\"census_2019_state_population.csv\")",
            "2. read.table(file = file, header = header, sep = sep, quote = quote, \n .     dec = dec, fill = fill, comment.char = comment.char, ...)",
            "3. file(file, \"rt\")"
          ]
        }
      ]
    },
    {
      "cell_type": "code",
      "metadata": {
        "id": "Ze_eiTaXGh11"
      },
      "source": [
        "# Remove the district of columbia and puerto rico, since they are not technically states.\n",
        "# We only care about the 50 states for this analysis.\n",
        "\n",
        "# District of Columbia\n",
        "# Puerto Rico\n",
        "population_df <- population_df[population_df$NAME != \"Puerto Rico\" &\n",
        "                               population_df$NAME != \"District of Columbia\" &\n",
        "                               population_df$variable == \"POP\",\n",
        "                               ]\n",
        "\n",
        "cat(\"After removing Puerto Rico and District of Columbia there are\", nrow(population_df),\n",
        "    \"in the dataset.\")\n",
        "\n",
        "# Sort the dataframe by state name, so that we can take the population row and directly combine it into\n",
        "# the max_cases dataframe.\n",
        "population_df <- population_df[order(population_df$NAME, decreasing = FALSE),]\n",
        "\n",
        "head(population_df, 100)"
      ],
      "execution_count": null,
      "outputs": []
    },
    {
      "cell_type": "code",
      "metadata": {
        "id": "Mg-4AdowLQcd"
      },
      "source": [
        "# Combine the population value to our original dataframe as a new value :)\n",
        "# The data is sorted in the correct order so it should work correctly.\n",
        "df_of_max_covid_cases_by_state$population <- population_df$value\n",
        "\n",
        "# view\n",
        "head(df_of_max_covid_cases_by_state)"
      ],
      "execution_count": null,
      "outputs": []
    },
    {
      "cell_type": "markdown",
      "metadata": {
        "id": "W5TjAUatBj1U"
      },
      "source": [
        "#### Percentage of deaths per cases by state"
      ]
    },
    {
      "cell_type": "markdown",
      "metadata": {
        "id": "a4CpSFeqBojo"
      },
      "source": [
        "We will now use population to generate a few new features that will be useful for our clustering and future models.\n",
        "\n",
        "Chances are that with these new population features, since there will be a direct corelation between the vars being used, we can most likely remove about 4 vars going into our model and produce a great model.\n",
        "\n",
        "We can later test this theory using feature extraction.\n"
      ]
    },
    {
      "cell_type": "code",
      "metadata": {
        "id": "vobDrQFzMLnO"
      },
      "source": [
        " # Calculate deaths_per_cases metric.\n",
        " df_of_max_covid_cases_by_state$deaths_per_cases <- df_of_max_covid_cases_by_state$max_deaths / df_of_max_covid_cases_by_state$max_cases\n",
        "\n",
        " # Calculate deaths_per_population metric.\n",
        "df_of_max_covid_cases_by_state$deaths_per_population <- df_of_max_covid_cases_by_state$max_deaths / df_of_max_covid_cases_by_state$population\n",
        "\n",
        " # Calculate cases_per_population metric.\n",
        " df_of_max_covid_cases_by_state$cases_per_population <- df_of_max_covid_cases_by_state$max_cases / df_of_max_covid_cases_by_state$population\n",
        "\n",
        "# View new varaibles for all states.\n",
        "head(df_of_max_covid_cases_by_state, 50)"
      ],
      "execution_count": null,
      "outputs": []
    },
    {
      "cell_type": "markdown",
      "metadata": {
        "id": "j2luxgMf9B_o"
      },
      "source": [
        "### View new features via feature bar plots"
      ]
    },
    {
      "cell_type": "code",
      "metadata": {
        "id": "QHe4Y2_hPJn9"
      },
      "source": [
        "p<- ggplot(data = df_of_max_covid_cases_by_state, aes(x = state, y = population)) +\n",
        "    geom_bar(stat='identity') +\n",
        "    xlab('State') +\n",
        "    ylab('Total Population') +\n",
        "    theme(axis.text.x = element_text(angle = 90, vjust = 0.5, hjust=1)) +\n",
        "    ggtitle('Estimate State Population') +\n",
        "    scale_y_continuous(labels = function(x) format(x, scientific = FALSE))\n",
        "\n",
        "show(p)"
      ],
      "execution_count": null,
      "outputs": []
    },
    {
      "cell_type": "code",
      "metadata": {
        "id": "wBEumUOtSMsg"
      },
      "source": [
        "p<- ggplot(data = df_of_max_covid_cases_by_state, aes(x = state, y = deaths_per_population)) +\n",
        "    geom_bar(stat='identity') +\n",
        "    xlab('State') +\n",
        "    ylab('Deaths') +\n",
        "    theme(axis.text.x = element_text(angle = 90, vjust = 0.5, hjust=1)) +\n",
        "    ggtitle('Deaths per Population (as a fraction) By State') +\n",
        "    scale_y_continuous(labels = function(x) format(x, scientific = FALSE))\n",
        "\n",
        "show(p)"
      ],
      "execution_count": null,
      "outputs": []
    },
    {
      "cell_type": "code",
      "metadata": {
        "id": "YrqGTYjjSev5"
      },
      "source": [
        "p<- ggplot(data = df_of_max_covid_cases_by_state, aes(x = state, y = cases_per_population)) +\n",
        "    geom_bar(stat='identity') +\n",
        "    xlab('State') +\n",
        "    ylab('Deaths') +\n",
        "    theme(axis.text.x = element_text(angle = 90, vjust = 0.5, hjust=1)) +\n",
        "    ggtitle('Percentage (as a fraction) of Cases per Population By State')\n",
        "\n",
        "show(p)"
      ],
      "execution_count": null,
      "outputs": []
    },
    {
      "cell_type": "code",
      "metadata": {
        "id": "CKuBVU4HRxym"
      },
      "source": [
        "p<- ggplot(data = df_of_max_covid_cases_by_state, aes(x = state, y = deaths_per_cases)) +\n",
        "    geom_bar(stat='identity') +\n",
        "    xlab('State') +\n",
        "    ylab('Deaths') +\n",
        "    theme(axis.text.x = element_text(angle = 90, vjust = 0.5, hjust=1)) +\n",
        "    ggtitle('Deaths Per Cases (as a fraction) By State') +\n",
        "    scale_y_continuous(labels = function(x) format(x, scientific = FALSE))\n",
        "\n",
        "show(p)"
      ],
      "execution_count": null,
      "outputs": []
    },
    {
      "cell_type": "markdown",
      "metadata": {
        "id": "CaJ4YbVPTeFP"
      },
      "source": [
        "## Calculate Overall Metrics of States"
      ]
    },
    {
      "cell_type": "code",
      "metadata": {
        "id": "r8s07yTATdsl"
      },
      "source": [
        "# These metrics show the highest deaths/cases.\n",
        "\n",
        "most_deaths_by_population <- max(df_of_max_covid_cases_by_state$deaths_per_population)\n",
        "\n",
        "state_with_most_deaths_by_population <- df_of_max_covid_cases_by_state[\n",
        "    which(df_of_max_covid_cases_by_state$deaths_per_population == most_deaths_by_population),]$state\n",
        "\n",
        "most_cases_by_population <- max(df_of_max_covid_cases_by_state$cases_per_population)\n",
        "\n",
        "state_with_most_cases_by_population <- df_of_max_covid_cases_by_state[\n",
        "    which(df_of_max_covid_cases_by_state$cases_per_population == most_cases_by_population),]$state\n",
        "\n",
        "most_deaths_by_cases <- max(df_of_max_covid_cases_by_state$deaths_per_cases)\n",
        "\n",
        "state_with_most_deaths_by_cases <- df_of_max_covid_cases_by_state[\n",
        "    which(df_of_max_covid_cases_by_state$deaths_per_cases == most_deaths_by_cases),]$state\n",
        "\n",
        "# Metric results.\n",
        "cat(\"State with most cases by population:\", state_with_most_cases_by_population, \"\\n\")\n",
        "cat(\"Percentage of cases by population:\", most_cases_by_population, \"\\n\\n\")\n",
        "\n",
        "cat(\"State with most deaths by population:\", state_with_most_deaths_by_population, \"\\n\")\n",
        "cat(\"Percentage of deaths by population:\", most_deaths_by_population, \"\\n\\n\")\n",
        "\n",
        "cat(\"State with most deaths by cases:\", state_with_most_deaths_by_cases, \"\\n\")\n",
        "cat(\"Percentage of deaths by cases:\", most_deaths_by_cases, \"\\n\\n\")"
      ],
      "execution_count": null,
      "outputs": []
    },
    {
      "cell_type": "code",
      "metadata": {
        "id": "_TvA1OyoYkpX"
      },
      "source": [
        "# These metrics show the lowest deaths/cases.\n",
        "\n",
        "least_deaths_by_population <- min(df_of_max_covid_cases_by_state$deaths_per_population)\n",
        "\n",
        "state_with_least_deaths_by_population <- df_of_max_covid_cases_by_state[\n",
        "    which(df_of_max_covid_cases_by_state$deaths_per_population == least_deaths_by_population),]$state\n",
        "\n",
        "least_cases_by_population <- min(df_of_max_covid_cases_by_state$cases_per_population)\n",
        "\n",
        "state_with_least_cases_by_population <- df_of_max_covid_cases_by_state[\n",
        "    which(df_of_max_covid_cases_by_state$cases_per_population == least_cases_by_population),]$state\n",
        "\n",
        "least_deaths_by_cases <- min(df_of_max_covid_cases_by_state$deaths_per_cases)\n",
        "\n",
        "state_with_least_deaths_by_cases <- df_of_max_covid_cases_by_state[\n",
        "    which(df_of_max_covid_cases_by_state$deaths_per_cases == least_deaths_by_cases),]$state\n",
        "\n",
        "# Metric results.\n",
        "cat(\"State with least cases by population:\", state_with_least_cases_by_population, \"\\n\")\n",
        "cat(\"Percentage of cases by population:\", least_cases_by_population, \"\\n\\n\")\n",
        "\n",
        "cat(\"State with least deaths by population:\", state_with_least_deaths_by_population, \"\\n\")\n",
        "cat(\"Percentage of deaths by population:\", least_deaths_by_population, \"\\n\\n\")\n",
        "\n",
        "cat(\"State with least deaths by cases:\", state_with_least_deaths_by_cases, \"\\n\")\n",
        "cat(\"Percentage of deaths by cases:\", least_deaths_by_cases, \"\\n\\n\")"
      ],
      "execution_count": null,
      "outputs": []
    },
    {
      "cell_type": "code",
      "metadata": {
        "id": "93P3ZMHUZhds"
      },
      "source": [
        "# These metrics show the averages of infection rates and death rates.\n",
        "cat(\"Mean percentage of deaths per population:\", mean(df_of_max_covid_cases_by_state$deaths_per_population), \"\\n\")\n",
        "cat(\"Mean percentage of cases per population:\", mean(df_of_max_covid_cases_by_state$cases_per_population), \"\\n\")\n",
        "cat(\"Mean percentage of deaths per cases:\", mean(df_of_max_covid_cases_by_state$deaths_per_cases), \"\\n\")"
      ],
      "execution_count": null,
      "outputs": []
    },
    {
      "cell_type": "markdown",
      "metadata": {
        "id": "vkPVJ5eegC0r"
      },
      "source": [
        "## Clustering States\n",
        "\n",
        "We will use K-means clustering to compare the similarities between all states into N different clusters. N will be defined by our attempt at using the Elbow method.\n",
        "\n",
        "If that fails, then we will just use 3 cluster to represent bad, average, and good state performance during the pandemic.\n",
        "\n",
        "Using this information, we will then see if we can append a general metric of 0, 1, or 3 to represent the efficiency of a state, and then we will run a classification model on those results. (Classicfication model will most likely be KNN or SVM, since we do not have a large amount of data so there will be no scaling issues here. In addition to this, we will Naive Baye's would not be a good model for this, as our data is HIGHLY linearlly dependent, thus messing up the performance of that model."
      ]
    },
    {
      "cell_type": "markdown",
      "metadata": {
        "id": "iIGULnN0cnam"
      },
      "source": [
        "### Construct the Perfect Dataset\n",
        "\n",
        "First we need to make sure that our dataset is in the correct form for doing k-means clustering.\n",
        "\n",
        "We need to remove the string/non-numeric fields in the data here, as they will not help us. E.g. state name will not be useful for running through a k-means cluster.\n",
        "\n",
        "After that we will need to normalize the dataset so that features all scale correctly."
      ]
    },
    {
      "cell_type": "code",
      "metadata": {
        "id": "cZMUICv_bzG8"
      },
      "source": [
        ""
      ],
      "execution_count": null,
      "outputs": []
    },
    {
      "cell_type": "markdown",
      "metadata": {
        "id": "jVYYWSnyfg6l"
      },
      "source": [
        "Let's see what R thinks the optimal amount of K clusters is...\n",
        "\n"
      ]
    },
    {
      "cell_type": "code",
      "metadata": {
        "id": "z20myjggiUzR"
      },
      "source": [
        ""
      ],
      "execution_count": null,
      "outputs": []
    },
    {
      "cell_type": "code",
      "metadata": {
        "id": "nAEKxlvrlEes"
      },
      "source": [
        "# Plot K means now.\n",
        "write.csv(df_of_max_covid_cases_by_state, \"./covid_cases_by_state_df.csv\")"
      ],
      "execution_count": null,
      "outputs": []
    },
    {
      "cell_type": "markdown",
      "metadata": {
        "id": "rIXQtNFD9zkd"
      },
      "source": [
        "#### State Population"
      ]
    },
    {
      "cell_type": "markdown",
      "metadata": {
        "id": "zPDaOG1Zg7-D"
      },
      "source": [
        "## (FUTURE) Time Series Analysis\n",
        "\n",
        "The goal here is to see if we can accurately come up with a line based equation for predicting the future trend trend (number of cases) of covid-19 cases and covid-19 deaths.\n",
        "\n",
        "# We will then take the results we have created and display them over set interval of time e.g. (every month or every 2 weeks)."
      ]
    },
    {
      "cell_type": "markdown",
      "metadata": {
        "id": "O7s4FscngDES"
      },
      "source": [
        "The goal here is to cluster our data (using the Kmeans machine learning algorithm) and compare the similarties of each state using all the variables in the dataset that we have.\n",
        "\n",
        "To do this we first need to make a different column for each different state.\n",
        "\n",
        "Then we need to feed in the data to our clustering algorithm."
      ]
    },
    {
      "cell_type": "markdown",
      "metadata": {
        "id": "Tpizv2b6BmlQ"
      },
      "source": [
        ""
      ]
    }
  ]
}