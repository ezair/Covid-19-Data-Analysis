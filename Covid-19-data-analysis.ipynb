{
  "nbformat": 4,
  "nbformat_minor": 0,
  "metadata": {
    "colab": {
      "name": "Final Project Notebook",
      "provenance": [],
      "collapsed_sections": []
    },
    "kernelspec": {
      "name": "ir",
      "display_name": "R"
    }
  },
  "cells": [
    {
      "cell_type": "markdown",
      "metadata": {
        "id": "Sbtdh-GCHqvn"
      },
      "source": [
        "# Covid-19 Data Analysis"
      ]
    },
    {
      "cell_type": "markdown",
      "metadata": {
        "id": "NMB2gvNcsMCO"
      },
      "source": [
        "Date: 02.26.2021\r\n",
        "\r\n",
        "Eric Alexander Zair\r\n",
        "\r\n",
        "Introduction To Data Science\r\n",
        "\r\n",
        "Syracuse University \r\n",
        "\r\n",
        "Winter 2021\r\n"
      ]
    },
    {
      "cell_type": "markdown",
      "metadata": {
        "id": "EPRIGZ_mHhqv"
      },
      "source": [
        "## Overview"
      ]
    },
    {
      "cell_type": "markdown",
      "metadata": {
        "id": "ojd8hwJAHfIn"
      },
      "source": [
        "The goal of this project is analyze a dataset containing information about covid-19 cases and deaths by US states. The dataset I am using for analysis can be found here: https://data.cdc.gov/api/views/9mfq-cb36/rows.csv. Using this dataset I will be able to take a look at the correlation between covid-19 deaths and covid-19 case for a given state and during a specific time period. The end goal is to see if we can get an idea of what states are doing a “good” job at handling covid-19 as well as cluster the data to figure out what states are similar with respect to covid. We can then determine what states are “good”, “average”, or “bad” with respect to the pandemic. This will be done using K-means clustering. If I have enough time I will also consider looking into time series forecasting on the covid case case count per state and see if I can factor in a dataset containing information on if a vaccine is out during a certain time period."
      ]
    },
    {
      "cell_type": "markdown",
      "metadata": {
        "id": "zqotZ1ALiNcw"
      },
      "source": [
        "### Goals"
      ]
    },
    {
      "cell_type": "markdown",
      "metadata": {
        "id": "6Qv9DaLaiRiW"
      },
      "source": [
        "⦁\tWhat state has the most covid cases?\r\n",
        "\r\n",
        "⦁\tWhat state has the most covid deaths?\r\n",
        "\r\n",
        "⦁\tWhat state has the least covid deaths?\r\n",
        "\r\n",
        "⦁\tWhat state has the least covid deaths?\r\n",
        "\r\n",
        "⦁\tIs there a pattern between deaths and states that we can find without the need for 3rd party data such as age and pre-existing conditions of victims.\r\n",
        "\r\n",
        "⦁\tConstruct visualizations (where possible) to display the above metrics.\r\n",
        "⦁\tFind out the mean and standard deviation of each state with respect to covid-19.\r\n",
        "\r\n",
        "⦁\tCompare state population to covid cases.\r\n",
        "\r\n",
        "⦁\tCompare state population to covid deaths.\r\n",
        "\r\n",
        "⦁\tCreate a metric to represent the efficiency of a state with respect to covid-19.\r\n",
        "\r\n",
        "⦁\tRun K-Means cluster on the dataset to figure out which states are most similar in regards to covid-19 related metrics."
      ]
    },
    {
      "cell_type": "code",
      "metadata": {
        "colab": {
          "base_uri": "https://localhost:8080/"
        },
        "id": "CI_TQ9DTr4II",
        "outputId": "2427434b-1fc3-4eb0-8f79-b281fcd7190c"
      },
      "source": [
        "# Install all required 3rd party packages.\r\n",
        "install.packages('usdata')\r\n",
        "install.packages('ggplot2')\r\n",
        "install.packages('dplyr')"
      ],
      "execution_count": 237,
      "outputs": [
        {
          "output_type": "stream",
          "text": [
            "Installing package into ‘/usr/local/lib/R/site-library’\n",
            "(as ‘lib’ is unspecified)\n",
            "\n",
            "Installing package into ‘/usr/local/lib/R/site-library’\n",
            "(as ‘lib’ is unspecified)\n",
            "\n",
            "Installing package into ‘/usr/local/lib/R/site-library’\n",
            "(as ‘lib’ is unspecified)\n",
            "\n"
          ],
          "name": "stderr"
        }
      ]
    },
    {
      "cell_type": "code",
      "metadata": {
        "id": "_JTLrKgefEnC"
      },
      "source": [
        "# This is the project that we will be running analysis on.\r\n",
        "covid19_dataset <- 'https://data.cdc.gov/api/views/9mfq-cb36/rows.csv'"
      ],
      "execution_count": 238,
      "outputs": []
    },
    {
      "cell_type": "markdown",
      "metadata": {
        "id": "AAVfJe7iwfnX"
      },
      "source": [
        "More detailed information about this dataset can be found at https://healthdata.gov/dataset/united-states-covid-19-cases-and-deaths-state-over-time"
      ]
    },
    {
      "cell_type": "code",
      "metadata": {
        "id": "pYPlQ-LcshPt"
      },
      "source": [
        "# Load in the dataset.\r\n",
        "df <- read.csv(covid19_dataset)"
      ],
      "execution_count": 239,
      "outputs": []
    },
    {
      "cell_type": "markdown",
      "metadata": {
        "id": "lDRZNg5nsmxO"
      },
      "source": [
        "## Explore the dataset"
      ]
    },
    {
      "cell_type": "markdown",
      "metadata": {
        "id": "XHYuKDLZs3dJ"
      },
      "source": [
        "First let's take a look at the number of rows and columns in our dataset."
      ]
    },
    {
      "cell_type": "code",
      "metadata": {
        "id": "MnoInvdPs3Lu",
        "colab": {
          "base_uri": "https://localhost:8080/"
        },
        "outputId": "2a174d74-dde3-4d1c-bf46-b703c83ec3c5"
      },
      "source": [
        "df_dims <- dim(df)\r\n",
        "cat(\"There are\", df_dims[1], \"rows in the dataset.\\n\")\r\n",
        "cat(\"There are\", df_dims[2], \"columns in the dataset.\\n\")"
      ],
      "execution_count": 240,
      "outputs": [
        {
          "output_type": "stream",
          "text": [
            "There are 24060 rows in the dataset.\n",
            "There are 15 columns in the dataset.\n"
          ],
          "name": "stdout"
        }
      ]
    },
    {
      "cell_type": "markdown",
      "metadata": {
        "id": "gCK5UZqLt_mM"
      },
      "source": [
        "Now let's take a look at what columns we are dealing with in this dataset.\r\n"
      ]
    },
    {
      "cell_type": "code",
      "metadata": {
        "id": "gNn8qQlit_Uq",
        "colab": {
          "base_uri": "https://localhost:8080/"
        },
        "outputId": "166dda87-d546-49f0-bf74-652a0809c71c"
      },
      "source": [
        "list_of_cols_in_df <- colnames(df)\r\n",
        "for (i in 1:length(list_of_cols_in_df)) {\r\n",
        "    cat(\"Column\", i, \"-\", list_of_cols_in_df[i], \"\\n\")\r\n",
        "}"
      ],
      "execution_count": 241,
      "outputs": [
        {
          "output_type": "stream",
          "text": [
            "Column 1 - submission_date \n",
            "Column 2 - state \n",
            "Column 3 - tot_cases \n",
            "Column 4 - conf_cases \n",
            "Column 5 - prob_cases \n",
            "Column 6 - new_case \n",
            "Column 7 - pnew_case \n",
            "Column 8 - tot_death \n",
            "Column 9 - conf_death \n",
            "Column 10 - prob_death \n",
            "Column 11 - new_death \n",
            "Column 12 - pnew_death \n",
            "Column 13 - created_at \n",
            "Column 14 - consent_cases \n",
            "Column 15 - consent_deaths \n"
          ],
          "name": "stdout"
        }
      ]
    },
    {
      "cell_type": "markdown",
      "metadata": {
        "id": "gV_D1K00va8E"
      },
      "source": [
        "Let's take a better look at the data frame to understand the type of each column and what an individual vector entry (row) looks like."
      ]
    },
    {
      "cell_type": "code",
      "metadata": {
        "id": "pWUJBiYuvqf1",
        "colab": {
          "base_uri": "https://localhost:8080/",
          "height": 562
        },
        "outputId": "e27c3f74-a2fc-45cf-c4b5-1f0c08bedfda"
      },
      "source": [
        "head(df, 15)"
      ],
      "execution_count": 242,
      "outputs": [
        {
          "output_type": "display_data",
          "data": {
            "text/plain": [
              "   submission_date state tot_cases conf_cases prob_cases new_case pnew_case\n",
              "1  12/08/2020      OK    205999    171497     34502         0       0      \n",
              "2  08/29/2020      SD     12942        NA        NA       425       0      \n",
              "3  11/06/2020      SD     52639        NA        NA      1488      73      \n",
              "4  09/21/2020      MP        69        69         0         0       0      \n",
              "5  06/28/2020      PA     85988     83529      2459       492      13      \n",
              "6  12/02/2020      NY    346492        NA        NA      5775       0      \n",
              "7  01/29/2020      MA         0        NA        NA         0      NA      \n",
              "8  09/26/2020      PW         0        NA        NA         0       0      \n",
              "9  03/07/2020      GA        11        11         0         3       0      \n",
              "10 05/26/2020      MA     93693     93693         0       422       0      \n",
              "11 04/06/2020      PR       513        NA        NA        38      NA      \n",
              "12 07/14/2020      OK     20922     20755       167       521      11      \n",
              "13 12/02/2020      AR    161521        NA        NA      2212     705      \n",
              "14 01/09/2021      AR    251746        NA        NA      2886     735      \n",
              "15 03/15/2020      MA       164        NA        NA        55      NA      \n",
              "   tot_death conf_death prob_death new_death pnew_death created_at            \n",
              "1   1752     1680       72          0         0         12/09/2020 02:45:40 PM\n",
              "2    167      165        2          2         0         08/30/2020 02:49:52 PM\n",
              "3    510      476       34         28         3         11/07/2020 02:45:17 PM\n",
              "4      2        2        0          0         0         09/22/2020 01:51:57 PM\n",
              "5   6614       NA       NA          8         4         06/29/2020 02:37:31 PM\n",
              "6  10117       NA       NA         56         0         12/03/2020 03:21:08 PM\n",
              "7      0       NA       NA          0        NA         03/26/2020 04:22:39 PM\n",
              "8      0       NA       NA          0         0         09/27/2020 01:39:49 PM\n",
              "9      0       NA       NA          0        NA         03/26/2020 12:22:39 PM\n",
              "10  6473     6473        0         57         0         05/27/2020 03:37:59 PM\n",
              "11    21       NA       NA          1        NA         04/05/2020 04:22:39 PM\n",
              "12   424      424        0          0         0         07/15/2020 03:05:12 PM\n",
              "13  2522       NA       NA         10         2         12/03/2020 03:21:08 PM\n",
              "14  4010       NA       NA         44        10         01/10/2021 04:10:55 PM\n",
              "15     0       NA       NA          0        NA         03/26/2020 04:22:39 PM\n",
              "   consent_cases consent_deaths\n",
              "1  Agree         Agree         \n",
              "2  N/A           Agree         \n",
              "3  N/A           Agree         \n",
              "4  Agree         Agree         \n",
              "5  Agree         Not agree     \n",
              "6  Not agree     Not agree     \n",
              "7  Agree         Agree         \n",
              "8                              \n",
              "9  Agree         Agree         \n",
              "10 Agree         Agree         \n",
              "11 Agree         Agree         \n",
              "12 Agree         Agree         \n",
              "13 Not agree     Not agree     \n",
              "14 Not agree     Not agree     \n",
              "15 Agree         Agree         "
            ],
            "text/latex": "A data.frame: 15 × 15\n\\begin{tabular}{r|lllllllllllllll}\n  & submission\\_date & state & tot\\_cases & conf\\_cases & prob\\_cases & new\\_case & pnew\\_case & tot\\_death & conf\\_death & prob\\_death & new\\_death & pnew\\_death & created\\_at & consent\\_cases & consent\\_deaths\\\\\n  & <chr> & <chr> & <int> & <int> & <int> & <int> & <int> & <int> & <int> & <int> & <int> & <int> & <chr> & <chr> & <chr>\\\\\n\\hline\n\t1 & 12/08/2020 & OK & 205999 & 171497 & 34502 &    0 &   0 &  1752 & 1680 & 72 &  0 &  0 & 12/09/2020 02:45:40 PM & Agree     & Agree    \\\\\n\t2 & 08/29/2020 & SD &  12942 &     NA &    NA &  425 &   0 &   167 &  165 &  2 &  2 &  0 & 08/30/2020 02:49:52 PM & N/A       & Agree    \\\\\n\t3 & 11/06/2020 & SD &  52639 &     NA &    NA & 1488 &  73 &   510 &  476 & 34 & 28 &  3 & 11/07/2020 02:45:17 PM & N/A       & Agree    \\\\\n\t4 & 09/21/2020 & MP &     69 &     69 &     0 &    0 &   0 &     2 &    2 &  0 &  0 &  0 & 09/22/2020 01:51:57 PM & Agree     & Agree    \\\\\n\t5 & 06/28/2020 & PA &  85988 &  83529 &  2459 &  492 &  13 &  6614 &   NA & NA &  8 &  4 & 06/29/2020 02:37:31 PM & Agree     & Not agree\\\\\n\t6 & 12/02/2020 & NY & 346492 &     NA &    NA & 5775 &   0 & 10117 &   NA & NA & 56 &  0 & 12/03/2020 03:21:08 PM & Not agree & Not agree\\\\\n\t7 & 01/29/2020 & MA &      0 &     NA &    NA &    0 &  NA &     0 &   NA & NA &  0 & NA & 03/26/2020 04:22:39 PM & Agree     & Agree    \\\\\n\t8 & 09/26/2020 & PW &      0 &     NA &    NA &    0 &   0 &     0 &   NA & NA &  0 &  0 & 09/27/2020 01:39:49 PM &           &          \\\\\n\t9 & 03/07/2020 & GA &     11 &     11 &     0 &    3 &   0 &     0 &   NA & NA &  0 & NA & 03/26/2020 12:22:39 PM & Agree     & Agree    \\\\\n\t10 & 05/26/2020 & MA &  93693 &  93693 &     0 &  422 &   0 &  6473 & 6473 &  0 & 57 &  0 & 05/27/2020 03:37:59 PM & Agree     & Agree    \\\\\n\t11 & 04/06/2020 & PR &    513 &     NA &    NA &   38 &  NA &    21 &   NA & NA &  1 & NA & 04/05/2020 04:22:39 PM & Agree     & Agree    \\\\\n\t12 & 07/14/2020 & OK &  20922 &  20755 &   167 &  521 &  11 &   424 &  424 &  0 &  0 &  0 & 07/15/2020 03:05:12 PM & Agree     & Agree    \\\\\n\t13 & 12/02/2020 & AR & 161521 &     NA &    NA & 2212 & 705 &  2522 &   NA & NA & 10 &  2 & 12/03/2020 03:21:08 PM & Not agree & Not agree\\\\\n\t14 & 01/09/2021 & AR & 251746 &     NA &    NA & 2886 & 735 &  4010 &   NA & NA & 44 & 10 & 01/10/2021 04:10:55 PM & Not agree & Not agree\\\\\n\t15 & 03/15/2020 & MA &    164 &     NA &    NA &   55 &  NA &     0 &   NA & NA &  0 & NA & 03/26/2020 04:22:39 PM & Agree     & Agree    \\\\\n\\end{tabular}\n",
            "text/markdown": "\nA data.frame: 15 × 15\n\n| <!--/--> | submission_date &lt;chr&gt; | state &lt;chr&gt; | tot_cases &lt;int&gt; | conf_cases &lt;int&gt; | prob_cases &lt;int&gt; | new_case &lt;int&gt; | pnew_case &lt;int&gt; | tot_death &lt;int&gt; | conf_death &lt;int&gt; | prob_death &lt;int&gt; | new_death &lt;int&gt; | pnew_death &lt;int&gt; | created_at &lt;chr&gt; | consent_cases &lt;chr&gt; | consent_deaths &lt;chr&gt; |\n|---|---|---|---|---|---|---|---|---|---|---|---|---|---|---|---|\n| 1 | 12/08/2020 | OK | 205999 | 171497 | 34502 |    0 |   0 |  1752 | 1680 | 72 |  0 |  0 | 12/09/2020 02:45:40 PM | Agree     | Agree     |\n| 2 | 08/29/2020 | SD |  12942 |     NA |    NA |  425 |   0 |   167 |  165 |  2 |  2 |  0 | 08/30/2020 02:49:52 PM | N/A       | Agree     |\n| 3 | 11/06/2020 | SD |  52639 |     NA |    NA | 1488 |  73 |   510 |  476 | 34 | 28 |  3 | 11/07/2020 02:45:17 PM | N/A       | Agree     |\n| 4 | 09/21/2020 | MP |     69 |     69 |     0 |    0 |   0 |     2 |    2 |  0 |  0 |  0 | 09/22/2020 01:51:57 PM | Agree     | Agree     |\n| 5 | 06/28/2020 | PA |  85988 |  83529 |  2459 |  492 |  13 |  6614 |   NA | NA |  8 |  4 | 06/29/2020 02:37:31 PM | Agree     | Not agree |\n| 6 | 12/02/2020 | NY | 346492 |     NA |    NA | 5775 |   0 | 10117 |   NA | NA | 56 |  0 | 12/03/2020 03:21:08 PM | Not agree | Not agree |\n| 7 | 01/29/2020 | MA |      0 |     NA |    NA |    0 |  NA |     0 |   NA | NA |  0 | NA | 03/26/2020 04:22:39 PM | Agree     | Agree     |\n| 8 | 09/26/2020 | PW |      0 |     NA |    NA |    0 |   0 |     0 |   NA | NA |  0 |  0 | 09/27/2020 01:39:49 PM | <!----> | <!----> |\n| 9 | 03/07/2020 | GA |     11 |     11 |     0 |    3 |   0 |     0 |   NA | NA |  0 | NA | 03/26/2020 12:22:39 PM | Agree     | Agree     |\n| 10 | 05/26/2020 | MA |  93693 |  93693 |     0 |  422 |   0 |  6473 | 6473 |  0 | 57 |  0 | 05/27/2020 03:37:59 PM | Agree     | Agree     |\n| 11 | 04/06/2020 | PR |    513 |     NA |    NA |   38 |  NA |    21 |   NA | NA |  1 | NA | 04/05/2020 04:22:39 PM | Agree     | Agree     |\n| 12 | 07/14/2020 | OK |  20922 |  20755 |   167 |  521 |  11 |   424 |  424 |  0 |  0 |  0 | 07/15/2020 03:05:12 PM | Agree     | Agree     |\n| 13 | 12/02/2020 | AR | 161521 |     NA |    NA | 2212 | 705 |  2522 |   NA | NA | 10 |  2 | 12/03/2020 03:21:08 PM | Not agree | Not agree |\n| 14 | 01/09/2021 | AR | 251746 |     NA |    NA | 2886 | 735 |  4010 |   NA | NA | 44 | 10 | 01/10/2021 04:10:55 PM | Not agree | Not agree |\n| 15 | 03/15/2020 | MA |    164 |     NA |    NA |   55 |  NA |     0 |   NA | NA |  0 | NA | 03/26/2020 04:22:39 PM | Agree     | Agree     |\n\n",
            "text/html": [
              "<table class=\"dataframe\">\n",
              "<caption>A data.frame: 15 × 15</caption>\n",
              "<thead>\n",
              "\t<tr><th></th><th scope=col>submission_date</th><th scope=col>state</th><th scope=col>tot_cases</th><th scope=col>conf_cases</th><th scope=col>prob_cases</th><th scope=col>new_case</th><th scope=col>pnew_case</th><th scope=col>tot_death</th><th scope=col>conf_death</th><th scope=col>prob_death</th><th scope=col>new_death</th><th scope=col>pnew_death</th><th scope=col>created_at</th><th scope=col>consent_cases</th><th scope=col>consent_deaths</th></tr>\n",
              "\t<tr><th></th><th scope=col>&lt;chr&gt;</th><th scope=col>&lt;chr&gt;</th><th scope=col>&lt;int&gt;</th><th scope=col>&lt;int&gt;</th><th scope=col>&lt;int&gt;</th><th scope=col>&lt;int&gt;</th><th scope=col>&lt;int&gt;</th><th scope=col>&lt;int&gt;</th><th scope=col>&lt;int&gt;</th><th scope=col>&lt;int&gt;</th><th scope=col>&lt;int&gt;</th><th scope=col>&lt;int&gt;</th><th scope=col>&lt;chr&gt;</th><th scope=col>&lt;chr&gt;</th><th scope=col>&lt;chr&gt;</th></tr>\n",
              "</thead>\n",
              "<tbody>\n",
              "\t<tr><th scope=row>1</th><td>12/08/2020</td><td>OK</td><td>205999</td><td>171497</td><td>34502</td><td>   0</td><td>  0</td><td> 1752</td><td>1680</td><td>72</td><td> 0</td><td> 0</td><td>12/09/2020 02:45:40 PM</td><td>Agree    </td><td>Agree    </td></tr>\n",
              "\t<tr><th scope=row>2</th><td>08/29/2020</td><td>SD</td><td> 12942</td><td>    NA</td><td>   NA</td><td> 425</td><td>  0</td><td>  167</td><td> 165</td><td> 2</td><td> 2</td><td> 0</td><td>08/30/2020 02:49:52 PM</td><td>N/A      </td><td>Agree    </td></tr>\n",
              "\t<tr><th scope=row>3</th><td>11/06/2020</td><td>SD</td><td> 52639</td><td>    NA</td><td>   NA</td><td>1488</td><td> 73</td><td>  510</td><td> 476</td><td>34</td><td>28</td><td> 3</td><td>11/07/2020 02:45:17 PM</td><td>N/A      </td><td>Agree    </td></tr>\n",
              "\t<tr><th scope=row>4</th><td>09/21/2020</td><td>MP</td><td>    69</td><td>    69</td><td>    0</td><td>   0</td><td>  0</td><td>    2</td><td>   2</td><td> 0</td><td> 0</td><td> 0</td><td>09/22/2020 01:51:57 PM</td><td>Agree    </td><td>Agree    </td></tr>\n",
              "\t<tr><th scope=row>5</th><td>06/28/2020</td><td>PA</td><td> 85988</td><td> 83529</td><td> 2459</td><td> 492</td><td> 13</td><td> 6614</td><td>  NA</td><td>NA</td><td> 8</td><td> 4</td><td>06/29/2020 02:37:31 PM</td><td>Agree    </td><td>Not agree</td></tr>\n",
              "\t<tr><th scope=row>6</th><td>12/02/2020</td><td>NY</td><td>346492</td><td>    NA</td><td>   NA</td><td>5775</td><td>  0</td><td>10117</td><td>  NA</td><td>NA</td><td>56</td><td> 0</td><td>12/03/2020 03:21:08 PM</td><td>Not agree</td><td>Not agree</td></tr>\n",
              "\t<tr><th scope=row>7</th><td>01/29/2020</td><td>MA</td><td>     0</td><td>    NA</td><td>   NA</td><td>   0</td><td> NA</td><td>    0</td><td>  NA</td><td>NA</td><td> 0</td><td>NA</td><td>03/26/2020 04:22:39 PM</td><td>Agree    </td><td>Agree    </td></tr>\n",
              "\t<tr><th scope=row>8</th><td>09/26/2020</td><td>PW</td><td>     0</td><td>    NA</td><td>   NA</td><td>   0</td><td>  0</td><td>    0</td><td>  NA</td><td>NA</td><td> 0</td><td> 0</td><td>09/27/2020 01:39:49 PM</td><td>         </td><td>         </td></tr>\n",
              "\t<tr><th scope=row>9</th><td>03/07/2020</td><td>GA</td><td>    11</td><td>    11</td><td>    0</td><td>   3</td><td>  0</td><td>    0</td><td>  NA</td><td>NA</td><td> 0</td><td>NA</td><td>03/26/2020 12:22:39 PM</td><td>Agree    </td><td>Agree    </td></tr>\n",
              "\t<tr><th scope=row>10</th><td>05/26/2020</td><td>MA</td><td> 93693</td><td> 93693</td><td>    0</td><td> 422</td><td>  0</td><td> 6473</td><td>6473</td><td> 0</td><td>57</td><td> 0</td><td>05/27/2020 03:37:59 PM</td><td>Agree    </td><td>Agree    </td></tr>\n",
              "\t<tr><th scope=row>11</th><td>04/06/2020</td><td>PR</td><td>   513</td><td>    NA</td><td>   NA</td><td>  38</td><td> NA</td><td>   21</td><td>  NA</td><td>NA</td><td> 1</td><td>NA</td><td>04/05/2020 04:22:39 PM</td><td>Agree    </td><td>Agree    </td></tr>\n",
              "\t<tr><th scope=row>12</th><td>07/14/2020</td><td>OK</td><td> 20922</td><td> 20755</td><td>  167</td><td> 521</td><td> 11</td><td>  424</td><td> 424</td><td> 0</td><td> 0</td><td> 0</td><td>07/15/2020 03:05:12 PM</td><td>Agree    </td><td>Agree    </td></tr>\n",
              "\t<tr><th scope=row>13</th><td>12/02/2020</td><td>AR</td><td>161521</td><td>    NA</td><td>   NA</td><td>2212</td><td>705</td><td> 2522</td><td>  NA</td><td>NA</td><td>10</td><td> 2</td><td>12/03/2020 03:21:08 PM</td><td>Not agree</td><td>Not agree</td></tr>\n",
              "\t<tr><th scope=row>14</th><td>01/09/2021</td><td>AR</td><td>251746</td><td>    NA</td><td>   NA</td><td>2886</td><td>735</td><td> 4010</td><td>  NA</td><td>NA</td><td>44</td><td>10</td><td>01/10/2021 04:10:55 PM</td><td>Not agree</td><td>Not agree</td></tr>\n",
              "\t<tr><th scope=row>15</th><td>03/15/2020</td><td>MA</td><td>   164</td><td>    NA</td><td>   NA</td><td>  55</td><td> NA</td><td>    0</td><td>  NA</td><td>NA</td><td> 0</td><td>NA</td><td>03/26/2020 04:22:39 PM</td><td>Agree    </td><td>Agree    </td></tr>\n",
              "</tbody>\n",
              "</table>\n"
            ]
          },
          "metadata": {
            "tags": []
          }
        }
      ]
    },
    {
      "cell_type": "markdown",
      "metadata": {
        "id": "YkiRJ0kszH7G"
      },
      "source": [
        "To better understand the data we will take state from the dataset and get all records that are associated with it.\r\n",
        "\r\n",
        "We will then take a look at the tot_cases associated in decending order."
      ]
    },
    {
      "cell_type": "code",
      "metadata": {
        "id": "kzVY2CK3zHwK",
        "colab": {
          "base_uri": "https://localhost:8080/",
          "height": 717
        },
        "outputId": "e99a5ed2-1ad5-44fe-913d-1821f9cd2f0b"
      },
      "source": [
        "# Get only results from florida.\r\n",
        "df_florida <- df[which(df$state == 'FL'),]\r\n",
        "\r\n",
        "# Sort the florida df by total cases (tot_cases) in decreasing order.\r\n",
        "df_florida <- df_florida[order(df_florida$tot_cases, decreasing = TRUE),]\r\n",
        "\r\n",
        "# View the new df we have.\r\n",
        "head(df_florida, 20)"
      ],
      "execution_count": 243,
      "outputs": [
        {
          "output_type": "display_data",
          "data": {
            "text/plain": [
              "      submission_date state tot_cases conf_cases prob_cases new_case pnew_case\n",
              "4212  02/25/2021      FL    1857670   NA         NA         6519     1758     \n",
              "24039 02/24/2021      FL    1851151   NA         NA         6923     2605     \n",
              "20642 02/23/2021      FL    1844228   NA         NA         5483     1791     \n",
              "23091 02/22/2021      FL    1838745   NA         NA         4037      884     \n",
              "2988  02/21/2021      FL    1834708   NA         NA         4935     1231     \n",
              "377   02/20/2021      FL    1829773   NA         NA         7129     2382     \n",
              "182   02/19/2021      FL    1822644   NA         NA         6536     1479     \n",
              "391   02/18/2021      FL    1816108   NA         NA         5030     1468     \n",
              "4294  02/17/2021      FL    1811078   NA         NA         7185     2934     \n",
              "3106  02/16/2021      FL    1803893   NA         NA         6165     2621     \n",
              "22566 02/15/2021      FL    1797728   NA         NA         3573      424     \n",
              "23329 02/14/2021      FL    1794155   NA         NA         5328     1156     \n",
              "2075  02/13/2021      FL    1788827   NA         NA         7377     2257     \n",
              "21185 02/12/2021      FL    1781450   NA         NA         7437     2169     \n",
              "2250  02/11/2021      FL    1774013   NA         NA         8354     2474     \n",
              "21321 02/10/2021      FL    1765659   NA         NA         7405     3020     \n",
              "23846 02/09/2021      FL    1758254   NA         NA         6911     2589     \n",
              "23289 02/08/2021      FL    1751343   NA         NA         5688     1896     \n",
              "20690 02/07/2021      FL    1745655   NA         NA         6379     1783     \n",
              "2432  02/06/2021      FL    1739276   NA         NA         7345     1653     \n",
              "      tot_death conf_death prob_death new_death pnew_death\n",
              "4212  30478     NA         NA         138       10        \n",
              "24039 30340     NA         NA         127       12        \n",
              "20642 30213     NA         NA         148        9        \n",
              "23091 30065     NA         NA         159        8        \n",
              "2988  29906     NA         NA          93        4        \n",
              "377   29813     NA         NA         121        8        \n",
              "182   29692     NA         NA         218       17        \n",
              "391   29474     NA         NA         163       12        \n",
              "4294  29311     NA         NA         157       14        \n",
              "3106  29154     NA         NA         220       15        \n",
              "22566 28934     NA         NA         155       17        \n",
              "23329 28779     NA         NA          96        7        \n",
              "2075  28683     NA         NA         118        9        \n",
              "21185 28565     NA         NA         183       19        \n",
              "2250  28382     NA         NA         174       15        \n",
              "21321 28208     NA         NA         160       12        \n",
              "23846 28048     NA         NA         232       18        \n",
              "23289 27816     NA         NA          84        9        \n",
              "20690 27732     NA         NA         133        7        \n",
              "2432  27599     NA         NA         142       17        \n",
              "      created_at             consent_cases consent_deaths\n",
              "4212  02/26/2021 03:02:41 PM Not agree     Not agree     \n",
              "24039 02/25/2021 02:54:32 PM Not agree     Not agree     \n",
              "20642 02/24/2021 02:56:12 PM Not agree     Not agree     \n",
              "23091 02/23/2021 02:51:13 PM Not agree     Not agree     \n",
              "2988  02/22/2021 02:53:38 PM Not agree     Not agree     \n",
              "377   02/21/2021 02:57:50 PM Not agree     Not agree     \n",
              "182   02/20/2021 02:45:37 PM Not agree     Not agree     \n",
              "391   02/19/2021 03:33:51 PM Not agree     Not agree     \n",
              "4294  02/18/2021 02:43:57 PM Not agree     Not agree     \n",
              "3106  02/17/2021 02:51:58 PM Not agree     Not agree     \n",
              "22566 02/16/2021 02:53:06 PM Not agree     Not agree     \n",
              "23329 02/15/2021 02:46:24 PM Not agree     Not agree     \n",
              "2075  02/14/2021 02:51:00 PM Not agree     Not agree     \n",
              "21185 02/13/2021 02:50:08 PM Not agree     Not agree     \n",
              "2250  02/12/2021 02:56:38 PM Not agree     Not agree     \n",
              "21321 02/11/2021 02:50:55 PM Not agree     Not agree     \n",
              "23846 02/10/2021 02:52:16 PM Not agree     Not agree     \n",
              "23289 02/09/2021 03:24:29 PM Not agree     Not agree     \n",
              "20690 02/08/2021 02:53:12 PM Not agree     Not agree     \n",
              "2432  02/07/2021 02:46:31 PM Not agree     Not agree     "
            ],
            "text/latex": "A data.frame: 20 × 15\n\\begin{tabular}{r|lllllllllllllll}\n  & submission\\_date & state & tot\\_cases & conf\\_cases & prob\\_cases & new\\_case & pnew\\_case & tot\\_death & conf\\_death & prob\\_death & new\\_death & pnew\\_death & created\\_at & consent\\_cases & consent\\_deaths\\\\\n  & <chr> & <chr> & <int> & <int> & <int> & <int> & <int> & <int> & <int> & <int> & <int> & <int> & <chr> & <chr> & <chr>\\\\\n\\hline\n\t4212 & 02/25/2021 & FL & 1857670 & NA & NA & 6519 & 1758 & 30478 & NA & NA & 138 & 10 & 02/26/2021 03:02:41 PM & Not agree & Not agree\\\\\n\t24039 & 02/24/2021 & FL & 1851151 & NA & NA & 6923 & 2605 & 30340 & NA & NA & 127 & 12 & 02/25/2021 02:54:32 PM & Not agree & Not agree\\\\\n\t20642 & 02/23/2021 & FL & 1844228 & NA & NA & 5483 & 1791 & 30213 & NA & NA & 148 &  9 & 02/24/2021 02:56:12 PM & Not agree & Not agree\\\\\n\t23091 & 02/22/2021 & FL & 1838745 & NA & NA & 4037 &  884 & 30065 & NA & NA & 159 &  8 & 02/23/2021 02:51:13 PM & Not agree & Not agree\\\\\n\t2988 & 02/21/2021 & FL & 1834708 & NA & NA & 4935 & 1231 & 29906 & NA & NA &  93 &  4 & 02/22/2021 02:53:38 PM & Not agree & Not agree\\\\\n\t377 & 02/20/2021 & FL & 1829773 & NA & NA & 7129 & 2382 & 29813 & NA & NA & 121 &  8 & 02/21/2021 02:57:50 PM & Not agree & Not agree\\\\\n\t182 & 02/19/2021 & FL & 1822644 & NA & NA & 6536 & 1479 & 29692 & NA & NA & 218 & 17 & 02/20/2021 02:45:37 PM & Not agree & Not agree\\\\\n\t391 & 02/18/2021 & FL & 1816108 & NA & NA & 5030 & 1468 & 29474 & NA & NA & 163 & 12 & 02/19/2021 03:33:51 PM & Not agree & Not agree\\\\\n\t4294 & 02/17/2021 & FL & 1811078 & NA & NA & 7185 & 2934 & 29311 & NA & NA & 157 & 14 & 02/18/2021 02:43:57 PM & Not agree & Not agree\\\\\n\t3106 & 02/16/2021 & FL & 1803893 & NA & NA & 6165 & 2621 & 29154 & NA & NA & 220 & 15 & 02/17/2021 02:51:58 PM & Not agree & Not agree\\\\\n\t22566 & 02/15/2021 & FL & 1797728 & NA & NA & 3573 &  424 & 28934 & NA & NA & 155 & 17 & 02/16/2021 02:53:06 PM & Not agree & Not agree\\\\\n\t23329 & 02/14/2021 & FL & 1794155 & NA & NA & 5328 & 1156 & 28779 & NA & NA &  96 &  7 & 02/15/2021 02:46:24 PM & Not agree & Not agree\\\\\n\t2075 & 02/13/2021 & FL & 1788827 & NA & NA & 7377 & 2257 & 28683 & NA & NA & 118 &  9 & 02/14/2021 02:51:00 PM & Not agree & Not agree\\\\\n\t21185 & 02/12/2021 & FL & 1781450 & NA & NA & 7437 & 2169 & 28565 & NA & NA & 183 & 19 & 02/13/2021 02:50:08 PM & Not agree & Not agree\\\\\n\t2250 & 02/11/2021 & FL & 1774013 & NA & NA & 8354 & 2474 & 28382 & NA & NA & 174 & 15 & 02/12/2021 02:56:38 PM & Not agree & Not agree\\\\\n\t21321 & 02/10/2021 & FL & 1765659 & NA & NA & 7405 & 3020 & 28208 & NA & NA & 160 & 12 & 02/11/2021 02:50:55 PM & Not agree & Not agree\\\\\n\t23846 & 02/09/2021 & FL & 1758254 & NA & NA & 6911 & 2589 & 28048 & NA & NA & 232 & 18 & 02/10/2021 02:52:16 PM & Not agree & Not agree\\\\\n\t23289 & 02/08/2021 & FL & 1751343 & NA & NA & 5688 & 1896 & 27816 & NA & NA &  84 &  9 & 02/09/2021 03:24:29 PM & Not agree & Not agree\\\\\n\t20690 & 02/07/2021 & FL & 1745655 & NA & NA & 6379 & 1783 & 27732 & NA & NA & 133 &  7 & 02/08/2021 02:53:12 PM & Not agree & Not agree\\\\\n\t2432 & 02/06/2021 & FL & 1739276 & NA & NA & 7345 & 1653 & 27599 & NA & NA & 142 & 17 & 02/07/2021 02:46:31 PM & Not agree & Not agree\\\\\n\\end{tabular}\n",
            "text/markdown": "\nA data.frame: 20 × 15\n\n| <!--/--> | submission_date &lt;chr&gt; | state &lt;chr&gt; | tot_cases &lt;int&gt; | conf_cases &lt;int&gt; | prob_cases &lt;int&gt; | new_case &lt;int&gt; | pnew_case &lt;int&gt; | tot_death &lt;int&gt; | conf_death &lt;int&gt; | prob_death &lt;int&gt; | new_death &lt;int&gt; | pnew_death &lt;int&gt; | created_at &lt;chr&gt; | consent_cases &lt;chr&gt; | consent_deaths &lt;chr&gt; |\n|---|---|---|---|---|---|---|---|---|---|---|---|---|---|---|---|\n| 4212 | 02/25/2021 | FL | 1857670 | NA | NA | 6519 | 1758 | 30478 | NA | NA | 138 | 10 | 02/26/2021 03:02:41 PM | Not agree | Not agree |\n| 24039 | 02/24/2021 | FL | 1851151 | NA | NA | 6923 | 2605 | 30340 | NA | NA | 127 | 12 | 02/25/2021 02:54:32 PM | Not agree | Not agree |\n| 20642 | 02/23/2021 | FL | 1844228 | NA | NA | 5483 | 1791 | 30213 | NA | NA | 148 |  9 | 02/24/2021 02:56:12 PM | Not agree | Not agree |\n| 23091 | 02/22/2021 | FL | 1838745 | NA | NA | 4037 |  884 | 30065 | NA | NA | 159 |  8 | 02/23/2021 02:51:13 PM | Not agree | Not agree |\n| 2988 | 02/21/2021 | FL | 1834708 | NA | NA | 4935 | 1231 | 29906 | NA | NA |  93 |  4 | 02/22/2021 02:53:38 PM | Not agree | Not agree |\n| 377 | 02/20/2021 | FL | 1829773 | NA | NA | 7129 | 2382 | 29813 | NA | NA | 121 |  8 | 02/21/2021 02:57:50 PM | Not agree | Not agree |\n| 182 | 02/19/2021 | FL | 1822644 | NA | NA | 6536 | 1479 | 29692 | NA | NA | 218 | 17 | 02/20/2021 02:45:37 PM | Not agree | Not agree |\n| 391 | 02/18/2021 | FL | 1816108 | NA | NA | 5030 | 1468 | 29474 | NA | NA | 163 | 12 | 02/19/2021 03:33:51 PM | Not agree | Not agree |\n| 4294 | 02/17/2021 | FL | 1811078 | NA | NA | 7185 | 2934 | 29311 | NA | NA | 157 | 14 | 02/18/2021 02:43:57 PM | Not agree | Not agree |\n| 3106 | 02/16/2021 | FL | 1803893 | NA | NA | 6165 | 2621 | 29154 | NA | NA | 220 | 15 | 02/17/2021 02:51:58 PM | Not agree | Not agree |\n| 22566 | 02/15/2021 | FL | 1797728 | NA | NA | 3573 |  424 | 28934 | NA | NA | 155 | 17 | 02/16/2021 02:53:06 PM | Not agree | Not agree |\n| 23329 | 02/14/2021 | FL | 1794155 | NA | NA | 5328 | 1156 | 28779 | NA | NA |  96 |  7 | 02/15/2021 02:46:24 PM | Not agree | Not agree |\n| 2075 | 02/13/2021 | FL | 1788827 | NA | NA | 7377 | 2257 | 28683 | NA | NA | 118 |  9 | 02/14/2021 02:51:00 PM | Not agree | Not agree |\n| 21185 | 02/12/2021 | FL | 1781450 | NA | NA | 7437 | 2169 | 28565 | NA | NA | 183 | 19 | 02/13/2021 02:50:08 PM | Not agree | Not agree |\n| 2250 | 02/11/2021 | FL | 1774013 | NA | NA | 8354 | 2474 | 28382 | NA | NA | 174 | 15 | 02/12/2021 02:56:38 PM | Not agree | Not agree |\n| 21321 | 02/10/2021 | FL | 1765659 | NA | NA | 7405 | 3020 | 28208 | NA | NA | 160 | 12 | 02/11/2021 02:50:55 PM | Not agree | Not agree |\n| 23846 | 02/09/2021 | FL | 1758254 | NA | NA | 6911 | 2589 | 28048 | NA | NA | 232 | 18 | 02/10/2021 02:52:16 PM | Not agree | Not agree |\n| 23289 | 02/08/2021 | FL | 1751343 | NA | NA | 5688 | 1896 | 27816 | NA | NA |  84 |  9 | 02/09/2021 03:24:29 PM | Not agree | Not agree |\n| 20690 | 02/07/2021 | FL | 1745655 | NA | NA | 6379 | 1783 | 27732 | NA | NA | 133 |  7 | 02/08/2021 02:53:12 PM | Not agree | Not agree |\n| 2432 | 02/06/2021 | FL | 1739276 | NA | NA | 7345 | 1653 | 27599 | NA | NA | 142 | 17 | 02/07/2021 02:46:31 PM | Not agree | Not agree |\n\n",
            "text/html": [
              "<table class=\"dataframe\">\n",
              "<caption>A data.frame: 20 × 15</caption>\n",
              "<thead>\n",
              "\t<tr><th></th><th scope=col>submission_date</th><th scope=col>state</th><th scope=col>tot_cases</th><th scope=col>conf_cases</th><th scope=col>prob_cases</th><th scope=col>new_case</th><th scope=col>pnew_case</th><th scope=col>tot_death</th><th scope=col>conf_death</th><th scope=col>prob_death</th><th scope=col>new_death</th><th scope=col>pnew_death</th><th scope=col>created_at</th><th scope=col>consent_cases</th><th scope=col>consent_deaths</th></tr>\n",
              "\t<tr><th></th><th scope=col>&lt;chr&gt;</th><th scope=col>&lt;chr&gt;</th><th scope=col>&lt;int&gt;</th><th scope=col>&lt;int&gt;</th><th scope=col>&lt;int&gt;</th><th scope=col>&lt;int&gt;</th><th scope=col>&lt;int&gt;</th><th scope=col>&lt;int&gt;</th><th scope=col>&lt;int&gt;</th><th scope=col>&lt;int&gt;</th><th scope=col>&lt;int&gt;</th><th scope=col>&lt;int&gt;</th><th scope=col>&lt;chr&gt;</th><th scope=col>&lt;chr&gt;</th><th scope=col>&lt;chr&gt;</th></tr>\n",
              "</thead>\n",
              "<tbody>\n",
              "\t<tr><th scope=row>4212</th><td>02/25/2021</td><td>FL</td><td>1857670</td><td>NA</td><td>NA</td><td>6519</td><td>1758</td><td>30478</td><td>NA</td><td>NA</td><td>138</td><td>10</td><td>02/26/2021 03:02:41 PM</td><td>Not agree</td><td>Not agree</td></tr>\n",
              "\t<tr><th scope=row>24039</th><td>02/24/2021</td><td>FL</td><td>1851151</td><td>NA</td><td>NA</td><td>6923</td><td>2605</td><td>30340</td><td>NA</td><td>NA</td><td>127</td><td>12</td><td>02/25/2021 02:54:32 PM</td><td>Not agree</td><td>Not agree</td></tr>\n",
              "\t<tr><th scope=row>20642</th><td>02/23/2021</td><td>FL</td><td>1844228</td><td>NA</td><td>NA</td><td>5483</td><td>1791</td><td>30213</td><td>NA</td><td>NA</td><td>148</td><td> 9</td><td>02/24/2021 02:56:12 PM</td><td>Not agree</td><td>Not agree</td></tr>\n",
              "\t<tr><th scope=row>23091</th><td>02/22/2021</td><td>FL</td><td>1838745</td><td>NA</td><td>NA</td><td>4037</td><td> 884</td><td>30065</td><td>NA</td><td>NA</td><td>159</td><td> 8</td><td>02/23/2021 02:51:13 PM</td><td>Not agree</td><td>Not agree</td></tr>\n",
              "\t<tr><th scope=row>2988</th><td>02/21/2021</td><td>FL</td><td>1834708</td><td>NA</td><td>NA</td><td>4935</td><td>1231</td><td>29906</td><td>NA</td><td>NA</td><td> 93</td><td> 4</td><td>02/22/2021 02:53:38 PM</td><td>Not agree</td><td>Not agree</td></tr>\n",
              "\t<tr><th scope=row>377</th><td>02/20/2021</td><td>FL</td><td>1829773</td><td>NA</td><td>NA</td><td>7129</td><td>2382</td><td>29813</td><td>NA</td><td>NA</td><td>121</td><td> 8</td><td>02/21/2021 02:57:50 PM</td><td>Not agree</td><td>Not agree</td></tr>\n",
              "\t<tr><th scope=row>182</th><td>02/19/2021</td><td>FL</td><td>1822644</td><td>NA</td><td>NA</td><td>6536</td><td>1479</td><td>29692</td><td>NA</td><td>NA</td><td>218</td><td>17</td><td>02/20/2021 02:45:37 PM</td><td>Not agree</td><td>Not agree</td></tr>\n",
              "\t<tr><th scope=row>391</th><td>02/18/2021</td><td>FL</td><td>1816108</td><td>NA</td><td>NA</td><td>5030</td><td>1468</td><td>29474</td><td>NA</td><td>NA</td><td>163</td><td>12</td><td>02/19/2021 03:33:51 PM</td><td>Not agree</td><td>Not agree</td></tr>\n",
              "\t<tr><th scope=row>4294</th><td>02/17/2021</td><td>FL</td><td>1811078</td><td>NA</td><td>NA</td><td>7185</td><td>2934</td><td>29311</td><td>NA</td><td>NA</td><td>157</td><td>14</td><td>02/18/2021 02:43:57 PM</td><td>Not agree</td><td>Not agree</td></tr>\n",
              "\t<tr><th scope=row>3106</th><td>02/16/2021</td><td>FL</td><td>1803893</td><td>NA</td><td>NA</td><td>6165</td><td>2621</td><td>29154</td><td>NA</td><td>NA</td><td>220</td><td>15</td><td>02/17/2021 02:51:58 PM</td><td>Not agree</td><td>Not agree</td></tr>\n",
              "\t<tr><th scope=row>22566</th><td>02/15/2021</td><td>FL</td><td>1797728</td><td>NA</td><td>NA</td><td>3573</td><td> 424</td><td>28934</td><td>NA</td><td>NA</td><td>155</td><td>17</td><td>02/16/2021 02:53:06 PM</td><td>Not agree</td><td>Not agree</td></tr>\n",
              "\t<tr><th scope=row>23329</th><td>02/14/2021</td><td>FL</td><td>1794155</td><td>NA</td><td>NA</td><td>5328</td><td>1156</td><td>28779</td><td>NA</td><td>NA</td><td> 96</td><td> 7</td><td>02/15/2021 02:46:24 PM</td><td>Not agree</td><td>Not agree</td></tr>\n",
              "\t<tr><th scope=row>2075</th><td>02/13/2021</td><td>FL</td><td>1788827</td><td>NA</td><td>NA</td><td>7377</td><td>2257</td><td>28683</td><td>NA</td><td>NA</td><td>118</td><td> 9</td><td>02/14/2021 02:51:00 PM</td><td>Not agree</td><td>Not agree</td></tr>\n",
              "\t<tr><th scope=row>21185</th><td>02/12/2021</td><td>FL</td><td>1781450</td><td>NA</td><td>NA</td><td>7437</td><td>2169</td><td>28565</td><td>NA</td><td>NA</td><td>183</td><td>19</td><td>02/13/2021 02:50:08 PM</td><td>Not agree</td><td>Not agree</td></tr>\n",
              "\t<tr><th scope=row>2250</th><td>02/11/2021</td><td>FL</td><td>1774013</td><td>NA</td><td>NA</td><td>8354</td><td>2474</td><td>28382</td><td>NA</td><td>NA</td><td>174</td><td>15</td><td>02/12/2021 02:56:38 PM</td><td>Not agree</td><td>Not agree</td></tr>\n",
              "\t<tr><th scope=row>21321</th><td>02/10/2021</td><td>FL</td><td>1765659</td><td>NA</td><td>NA</td><td>7405</td><td>3020</td><td>28208</td><td>NA</td><td>NA</td><td>160</td><td>12</td><td>02/11/2021 02:50:55 PM</td><td>Not agree</td><td>Not agree</td></tr>\n",
              "\t<tr><th scope=row>23846</th><td>02/09/2021</td><td>FL</td><td>1758254</td><td>NA</td><td>NA</td><td>6911</td><td>2589</td><td>28048</td><td>NA</td><td>NA</td><td>232</td><td>18</td><td>02/10/2021 02:52:16 PM</td><td>Not agree</td><td>Not agree</td></tr>\n",
              "\t<tr><th scope=row>23289</th><td>02/08/2021</td><td>FL</td><td>1751343</td><td>NA</td><td>NA</td><td>5688</td><td>1896</td><td>27816</td><td>NA</td><td>NA</td><td> 84</td><td> 9</td><td>02/09/2021 03:24:29 PM</td><td>Not agree</td><td>Not agree</td></tr>\n",
              "\t<tr><th scope=row>20690</th><td>02/07/2021</td><td>FL</td><td>1745655</td><td>NA</td><td>NA</td><td>6379</td><td>1783</td><td>27732</td><td>NA</td><td>NA</td><td>133</td><td> 7</td><td>02/08/2021 02:53:12 PM</td><td>Not agree</td><td>Not agree</td></tr>\n",
              "\t<tr><th scope=row>2432</th><td>02/06/2021</td><td>FL</td><td>1739276</td><td>NA</td><td>NA</td><td>7345</td><td>1653</td><td>27599</td><td>NA</td><td>NA</td><td>142</td><td>17</td><td>02/07/2021 02:46:31 PM</td><td>Not agree</td><td>Not agree</td></tr>\n",
              "</tbody>\n",
              "</table>\n"
            ]
          },
          "metadata": {
            "tags": []
          }
        }
      ]
    },
    {
      "cell_type": "markdown",
      "metadata": {
        "id": "Dt2ESNf_7sOW"
      },
      "source": [
        "\r\n",
        "\r\n",
        "So as we can see from the above dataframe, the data is arange in such a way that there is an entry for each state for each day. As in every day an entry for the state is entered. However in order to confirm this I wanted to view the correlation between the `tot_cases` and the `submission_date`\r\n",
        "\r\n",
        "Now that we understand our data and the way that it is formated, we can move to the next step, cleaning up the data"
      ]
    },
    {
      "cell_type": "markdown",
      "metadata": {
        "id": "cA2652zfWi1_"
      },
      "source": [
        "## Data Transformation"
      ]
    },
    {
      "cell_type": "markdown",
      "metadata": {
        "id": "qwgKPoYiXYZE"
      },
      "source": [
        "Before we begin doing any form of data analysis or constructing any charts, it would be best to transform some of the columns/variables that we have into different \"types\".\r\n",
        "\r\n"
      ]
    },
    {
      "cell_type": "markdown",
      "metadata": {
        "id": "f81QCJtrfZVw"
      },
      "source": [
        "### Convert column types\r\n",
        "\r\n",
        "The submission_date field is currently stored as a char field, but we need to convert that to a time field in order to use ggplot2 and have X axis be submission_date. For any visualizations where we want to show change over time, it will be extremely important.\r\n",
        "\r\n",
        "We will not need the `created_at` field in this dataset, as it does not actually tell us anything about the data. We will remove this entire column."
      ]
    },
    {
      "cell_type": "code",
      "metadata": {
        "id": "5vCqCvXHe9lI",
        "colab": {
          "base_uri": "https://localhost:8080/",
          "height": 283
        },
        "outputId": "9aa45ad9-f980-49f2-b028-0d1e3f14ee1e"
      },
      "source": [
        "# First we convert the submission_date field to a date type.\r\n",
        "df$submission_date <- as.Date(df$submission_date, \"%m/%d/%Y\")\r\n",
        "\r\n",
        "# Confir that the submission_date field has been converted to a date type.\r\n",
        "head(df)"
      ],
      "execution_count": 244,
      "outputs": [
        {
          "output_type": "display_data",
          "data": {
            "text/plain": [
              "  submission_date state tot_cases conf_cases prob_cases new_case pnew_case\n",
              "1 2020-12-08      OK    205999    171497     34502         0      0       \n",
              "2 2020-08-29      SD     12942        NA        NA       425      0       \n",
              "3 2020-11-06      SD     52639        NA        NA      1488     73       \n",
              "4 2020-09-21      MP        69        69         0         0      0       \n",
              "5 2020-06-28      PA     85988     83529      2459       492     13       \n",
              "6 2020-12-02      NY    346492        NA        NA      5775      0       \n",
              "  tot_death conf_death prob_death new_death pnew_death created_at            \n",
              "1  1752     1680       72          0        0          12/09/2020 02:45:40 PM\n",
              "2   167      165        2          2        0          08/30/2020 02:49:52 PM\n",
              "3   510      476       34         28        3          11/07/2020 02:45:17 PM\n",
              "4     2        2        0          0        0          09/22/2020 01:51:57 PM\n",
              "5  6614       NA       NA          8        4          06/29/2020 02:37:31 PM\n",
              "6 10117       NA       NA         56        0          12/03/2020 03:21:08 PM\n",
              "  consent_cases consent_deaths\n",
              "1 Agree         Agree         \n",
              "2 N/A           Agree         \n",
              "3 N/A           Agree         \n",
              "4 Agree         Agree         \n",
              "5 Agree         Not agree     \n",
              "6 Not agree     Not agree     "
            ],
            "text/latex": "A data.frame: 6 × 15\n\\begin{tabular}{r|lllllllllllllll}\n  & submission\\_date & state & tot\\_cases & conf\\_cases & prob\\_cases & new\\_case & pnew\\_case & tot\\_death & conf\\_death & prob\\_death & new\\_death & pnew\\_death & created\\_at & consent\\_cases & consent\\_deaths\\\\\n  & <date> & <chr> & <int> & <int> & <int> & <int> & <int> & <int> & <int> & <int> & <int> & <int> & <chr> & <chr> & <chr>\\\\\n\\hline\n\t1 & 2020-12-08 & OK & 205999 & 171497 & 34502 &    0 &  0 &  1752 & 1680 & 72 &  0 & 0 & 12/09/2020 02:45:40 PM & Agree     & Agree    \\\\\n\t2 & 2020-08-29 & SD &  12942 &     NA &    NA &  425 &  0 &   167 &  165 &  2 &  2 & 0 & 08/30/2020 02:49:52 PM & N/A       & Agree    \\\\\n\t3 & 2020-11-06 & SD &  52639 &     NA &    NA & 1488 & 73 &   510 &  476 & 34 & 28 & 3 & 11/07/2020 02:45:17 PM & N/A       & Agree    \\\\\n\t4 & 2020-09-21 & MP &     69 &     69 &     0 &    0 &  0 &     2 &    2 &  0 &  0 & 0 & 09/22/2020 01:51:57 PM & Agree     & Agree    \\\\\n\t5 & 2020-06-28 & PA &  85988 &  83529 &  2459 &  492 & 13 &  6614 &   NA & NA &  8 & 4 & 06/29/2020 02:37:31 PM & Agree     & Not agree\\\\\n\t6 & 2020-12-02 & NY & 346492 &     NA &    NA & 5775 &  0 & 10117 &   NA & NA & 56 & 0 & 12/03/2020 03:21:08 PM & Not agree & Not agree\\\\\n\\end{tabular}\n",
            "text/markdown": "\nA data.frame: 6 × 15\n\n| <!--/--> | submission_date &lt;date&gt; | state &lt;chr&gt; | tot_cases &lt;int&gt; | conf_cases &lt;int&gt; | prob_cases &lt;int&gt; | new_case &lt;int&gt; | pnew_case &lt;int&gt; | tot_death &lt;int&gt; | conf_death &lt;int&gt; | prob_death &lt;int&gt; | new_death &lt;int&gt; | pnew_death &lt;int&gt; | created_at &lt;chr&gt; | consent_cases &lt;chr&gt; | consent_deaths &lt;chr&gt; |\n|---|---|---|---|---|---|---|---|---|---|---|---|---|---|---|---|\n| 1 | 2020-12-08 | OK | 205999 | 171497 | 34502 |    0 |  0 |  1752 | 1680 | 72 |  0 | 0 | 12/09/2020 02:45:40 PM | Agree     | Agree     |\n| 2 | 2020-08-29 | SD |  12942 |     NA |    NA |  425 |  0 |   167 |  165 |  2 |  2 | 0 | 08/30/2020 02:49:52 PM | N/A       | Agree     |\n| 3 | 2020-11-06 | SD |  52639 |     NA |    NA | 1488 | 73 |   510 |  476 | 34 | 28 | 3 | 11/07/2020 02:45:17 PM | N/A       | Agree     |\n| 4 | 2020-09-21 | MP |     69 |     69 |     0 |    0 |  0 |     2 |    2 |  0 |  0 | 0 | 09/22/2020 01:51:57 PM | Agree     | Agree     |\n| 5 | 2020-06-28 | PA |  85988 |  83529 |  2459 |  492 | 13 |  6614 |   NA | NA |  8 | 4 | 06/29/2020 02:37:31 PM | Agree     | Not agree |\n| 6 | 2020-12-02 | NY | 346492 |     NA |    NA | 5775 |  0 | 10117 |   NA | NA | 56 | 0 | 12/03/2020 03:21:08 PM | Not agree | Not agree |\n\n",
            "text/html": [
              "<table class=\"dataframe\">\n",
              "<caption>A data.frame: 6 × 15</caption>\n",
              "<thead>\n",
              "\t<tr><th></th><th scope=col>submission_date</th><th scope=col>state</th><th scope=col>tot_cases</th><th scope=col>conf_cases</th><th scope=col>prob_cases</th><th scope=col>new_case</th><th scope=col>pnew_case</th><th scope=col>tot_death</th><th scope=col>conf_death</th><th scope=col>prob_death</th><th scope=col>new_death</th><th scope=col>pnew_death</th><th scope=col>created_at</th><th scope=col>consent_cases</th><th scope=col>consent_deaths</th></tr>\n",
              "\t<tr><th></th><th scope=col>&lt;date&gt;</th><th scope=col>&lt;chr&gt;</th><th scope=col>&lt;int&gt;</th><th scope=col>&lt;int&gt;</th><th scope=col>&lt;int&gt;</th><th scope=col>&lt;int&gt;</th><th scope=col>&lt;int&gt;</th><th scope=col>&lt;int&gt;</th><th scope=col>&lt;int&gt;</th><th scope=col>&lt;int&gt;</th><th scope=col>&lt;int&gt;</th><th scope=col>&lt;int&gt;</th><th scope=col>&lt;chr&gt;</th><th scope=col>&lt;chr&gt;</th><th scope=col>&lt;chr&gt;</th></tr>\n",
              "</thead>\n",
              "<tbody>\n",
              "\t<tr><th scope=row>1</th><td>2020-12-08</td><td>OK</td><td>205999</td><td>171497</td><td>34502</td><td>   0</td><td> 0</td><td> 1752</td><td>1680</td><td>72</td><td> 0</td><td>0</td><td>12/09/2020 02:45:40 PM</td><td>Agree    </td><td>Agree    </td></tr>\n",
              "\t<tr><th scope=row>2</th><td>2020-08-29</td><td>SD</td><td> 12942</td><td>    NA</td><td>   NA</td><td> 425</td><td> 0</td><td>  167</td><td> 165</td><td> 2</td><td> 2</td><td>0</td><td>08/30/2020 02:49:52 PM</td><td>N/A      </td><td>Agree    </td></tr>\n",
              "\t<tr><th scope=row>3</th><td>2020-11-06</td><td>SD</td><td> 52639</td><td>    NA</td><td>   NA</td><td>1488</td><td>73</td><td>  510</td><td> 476</td><td>34</td><td>28</td><td>3</td><td>11/07/2020 02:45:17 PM</td><td>N/A      </td><td>Agree    </td></tr>\n",
              "\t<tr><th scope=row>4</th><td>2020-09-21</td><td>MP</td><td>    69</td><td>    69</td><td>    0</td><td>   0</td><td> 0</td><td>    2</td><td>   2</td><td> 0</td><td> 0</td><td>0</td><td>09/22/2020 01:51:57 PM</td><td>Agree    </td><td>Agree    </td></tr>\n",
              "\t<tr><th scope=row>5</th><td>2020-06-28</td><td>PA</td><td> 85988</td><td> 83529</td><td> 2459</td><td> 492</td><td>13</td><td> 6614</td><td>  NA</td><td>NA</td><td> 8</td><td>4</td><td>06/29/2020 02:37:31 PM</td><td>Agree    </td><td>Not agree</td></tr>\n",
              "\t<tr><th scope=row>6</th><td>2020-12-02</td><td>NY</td><td>346492</td><td>    NA</td><td>   NA</td><td>5775</td><td> 0</td><td>10117</td><td>  NA</td><td>NA</td><td>56</td><td>0</td><td>12/03/2020 03:21:08 PM</td><td>Not agree</td><td>Not agree</td></tr>\n",
              "</tbody>\n",
              "</table>\n"
            ]
          },
          "metadata": {
            "tags": []
          }
        }
      ]
    },
    {
      "cell_type": "code",
      "metadata": {
        "id": "qVQLB-4FqS_p",
        "colab": {
          "base_uri": "https://localhost:8080/",
          "height": 128
        },
        "outputId": "00ef57b1-a54a-4f07-e072-6e323c13ac29"
      },
      "source": [
        "# Now we will convert the created_at column to a date type.\r\n",
        "df <- df[, !(names(df) %in% c('created_at'))]\r\n",
        "\r\n",
        "# Confirm that created_at columns has been removed from the dataset.\r\n",
        "head(df, 1)"
      ],
      "execution_count": 245,
      "outputs": [
        {
          "output_type": "display_data",
          "data": {
            "text/plain": [
              "  submission_date state tot_cases conf_cases prob_cases new_case pnew_case\n",
              "1 2020-12-08      OK    205999    171497     34502      0        0        \n",
              "  tot_death conf_death prob_death new_death pnew_death consent_cases\n",
              "1 1752      1680       72         0         0          Agree        \n",
              "  consent_deaths\n",
              "1 Agree         "
            ],
            "text/latex": "A data.frame: 1 × 14\n\\begin{tabular}{r|llllllllllllll}\n  & submission\\_date & state & tot\\_cases & conf\\_cases & prob\\_cases & new\\_case & pnew\\_case & tot\\_death & conf\\_death & prob\\_death & new\\_death & pnew\\_death & consent\\_cases & consent\\_deaths\\\\\n  & <date> & <chr> & <int> & <int> & <int> & <int> & <int> & <int> & <int> & <int> & <int> & <int> & <chr> & <chr>\\\\\n\\hline\n\t1 & 2020-12-08 & OK & 205999 & 171497 & 34502 & 0 & 0 & 1752 & 1680 & 72 & 0 & 0 & Agree & Agree\\\\\n\\end{tabular}\n",
            "text/markdown": "\nA data.frame: 1 × 14\n\n| <!--/--> | submission_date &lt;date&gt; | state &lt;chr&gt; | tot_cases &lt;int&gt; | conf_cases &lt;int&gt; | prob_cases &lt;int&gt; | new_case &lt;int&gt; | pnew_case &lt;int&gt; | tot_death &lt;int&gt; | conf_death &lt;int&gt; | prob_death &lt;int&gt; | new_death &lt;int&gt; | pnew_death &lt;int&gt; | consent_cases &lt;chr&gt; | consent_deaths &lt;chr&gt; |\n|---|---|---|---|---|---|---|---|---|---|---|---|---|---|---|\n| 1 | 2020-12-08 | OK | 205999 | 171497 | 34502 | 0 | 0 | 1752 | 1680 | 72 | 0 | 0 | Agree | Agree |\n\n",
            "text/html": [
              "<table class=\"dataframe\">\n",
              "<caption>A data.frame: 1 × 14</caption>\n",
              "<thead>\n",
              "\t<tr><th></th><th scope=col>submission_date</th><th scope=col>state</th><th scope=col>tot_cases</th><th scope=col>conf_cases</th><th scope=col>prob_cases</th><th scope=col>new_case</th><th scope=col>pnew_case</th><th scope=col>tot_death</th><th scope=col>conf_death</th><th scope=col>prob_death</th><th scope=col>new_death</th><th scope=col>pnew_death</th><th scope=col>consent_cases</th><th scope=col>consent_deaths</th></tr>\n",
              "\t<tr><th></th><th scope=col>&lt;date&gt;</th><th scope=col>&lt;chr&gt;</th><th scope=col>&lt;int&gt;</th><th scope=col>&lt;int&gt;</th><th scope=col>&lt;int&gt;</th><th scope=col>&lt;int&gt;</th><th scope=col>&lt;int&gt;</th><th scope=col>&lt;int&gt;</th><th scope=col>&lt;int&gt;</th><th scope=col>&lt;int&gt;</th><th scope=col>&lt;int&gt;</th><th scope=col>&lt;int&gt;</th><th scope=col>&lt;chr&gt;</th><th scope=col>&lt;chr&gt;</th></tr>\n",
              "</thead>\n",
              "<tbody>\n",
              "\t<tr><th scope=row>1</th><td>2020-12-08</td><td>OK</td><td>205999</td><td>171497</td><td>34502</td><td>0</td><td>0</td><td>1752</td><td>1680</td><td>72</td><td>0</td><td>0</td><td>Agree</td><td>Agree</td></tr>\n",
              "</tbody>\n",
              "</table>\n"
            ]
          },
          "metadata": {
            "tags": []
          }
        }
      ]
    },
    {
      "cell_type": "markdown",
      "metadata": {
        "id": "-ATF8993ffjq"
      },
      "source": [
        "### Convert state abreviations to full names"
      ]
    },
    {
      "cell_type": "markdown",
      "metadata": {
        "id": "CNWbZUJMe9vC"
      },
      "source": [
        "I also find it nicer and more symplistic to take the `state` column and change it from the abbreviation of the state to the full name. For example NY shoud be changed to \"New York\" for the sake of ease of eye. It is easier to know what state is what for the average person if we use the full name."
      ]
    },
    {
      "cell_type": "code",
      "metadata": {
        "id": "GnfBjiURfLT5",
        "colab": {
          "base_uri": "https://localhost:8080/",
          "height": 283
        },
        "outputId": "96064355-f132-49b8-887f-2a3de34c7bbb"
      },
      "source": [
        "# Import usdata library. This contains a built in function to convert state abbrviations to state names.\r\n",
        "library(usdata)\r\n",
        "\r\n",
        "# Convert all state abbreviations to full names.\r\n",
        "# We convert the data to upper case, just in case a data entry was submitted in lowercase.\r\n",
        "df$state <- abbr2state(toupper(df$state))\r\n",
        "\r\n",
        "# Confirm that state column has been converted correctly.\r\n",
        "head(df)"
      ],
      "execution_count": 246,
      "outputs": [
        {
          "output_type": "display_data",
          "data": {
            "text/plain": [
              "  submission_date state        tot_cases conf_cases prob_cases new_case\n",
              "1 2020-12-08      Oklahoma     205999    171497     34502         0    \n",
              "2 2020-08-29      South Dakota  12942        NA        NA       425    \n",
              "3 2020-11-06      South Dakota  52639        NA        NA      1488    \n",
              "4 2020-09-21      NA               69        69         0         0    \n",
              "5 2020-06-28      Pennsylvania  85988     83529      2459       492    \n",
              "6 2020-12-02      New York     346492        NA        NA      5775    \n",
              "  pnew_case tot_death conf_death prob_death new_death pnew_death consent_cases\n",
              "1  0         1752     1680       72          0        0          Agree        \n",
              "2  0          167      165        2          2        0          N/A          \n",
              "3 73          510      476       34         28        3          N/A          \n",
              "4  0            2        2        0          0        0          Agree        \n",
              "5 13         6614       NA       NA          8        4          Agree        \n",
              "6  0        10117       NA       NA         56        0          Not agree    \n",
              "  consent_deaths\n",
              "1 Agree         \n",
              "2 Agree         \n",
              "3 Agree         \n",
              "4 Agree         \n",
              "5 Not agree     \n",
              "6 Not agree     "
            ],
            "text/latex": "A data.frame: 6 × 14\n\\begin{tabular}{r|llllllllllllll}\n  & submission\\_date & state & tot\\_cases & conf\\_cases & prob\\_cases & new\\_case & pnew\\_case & tot\\_death & conf\\_death & prob\\_death & new\\_death & pnew\\_death & consent\\_cases & consent\\_deaths\\\\\n  & <date> & <chr> & <int> & <int> & <int> & <int> & <int> & <int> & <int> & <int> & <int> & <int> & <chr> & <chr>\\\\\n\\hline\n\t1 & 2020-12-08 & Oklahoma     & 205999 & 171497 & 34502 &    0 &  0 &  1752 & 1680 & 72 &  0 & 0 & Agree     & Agree    \\\\\n\t2 & 2020-08-29 & South Dakota &  12942 &     NA &    NA &  425 &  0 &   167 &  165 &  2 &  2 & 0 & N/A       & Agree    \\\\\n\t3 & 2020-11-06 & South Dakota &  52639 &     NA &    NA & 1488 & 73 &   510 &  476 & 34 & 28 & 3 & N/A       & Agree    \\\\\n\t4 & 2020-09-21 & NA           &     69 &     69 &     0 &    0 &  0 &     2 &    2 &  0 &  0 & 0 & Agree     & Agree    \\\\\n\t5 & 2020-06-28 & Pennsylvania &  85988 &  83529 &  2459 &  492 & 13 &  6614 &   NA & NA &  8 & 4 & Agree     & Not agree\\\\\n\t6 & 2020-12-02 & New York     & 346492 &     NA &    NA & 5775 &  0 & 10117 &   NA & NA & 56 & 0 & Not agree & Not agree\\\\\n\\end{tabular}\n",
            "text/markdown": "\nA data.frame: 6 × 14\n\n| <!--/--> | submission_date &lt;date&gt; | state &lt;chr&gt; | tot_cases &lt;int&gt; | conf_cases &lt;int&gt; | prob_cases &lt;int&gt; | new_case &lt;int&gt; | pnew_case &lt;int&gt; | tot_death &lt;int&gt; | conf_death &lt;int&gt; | prob_death &lt;int&gt; | new_death &lt;int&gt; | pnew_death &lt;int&gt; | consent_cases &lt;chr&gt; | consent_deaths &lt;chr&gt; |\n|---|---|---|---|---|---|---|---|---|---|---|---|---|---|---|\n| 1 | 2020-12-08 | Oklahoma     | 205999 | 171497 | 34502 |    0 |  0 |  1752 | 1680 | 72 |  0 | 0 | Agree     | Agree     |\n| 2 | 2020-08-29 | South Dakota |  12942 |     NA |    NA |  425 |  0 |   167 |  165 |  2 |  2 | 0 | N/A       | Agree     |\n| 3 | 2020-11-06 | South Dakota |  52639 |     NA |    NA | 1488 | 73 |   510 |  476 | 34 | 28 | 3 | N/A       | Agree     |\n| 4 | 2020-09-21 | NA           |     69 |     69 |     0 |    0 |  0 |     2 |    2 |  0 |  0 | 0 | Agree     | Agree     |\n| 5 | 2020-06-28 | Pennsylvania |  85988 |  83529 |  2459 |  492 | 13 |  6614 |   NA | NA |  8 | 4 | Agree     | Not agree |\n| 6 | 2020-12-02 | New York     | 346492 |     NA |    NA | 5775 |  0 | 10117 |   NA | NA | 56 | 0 | Not agree | Not agree |\n\n",
            "text/html": [
              "<table class=\"dataframe\">\n",
              "<caption>A data.frame: 6 × 14</caption>\n",
              "<thead>\n",
              "\t<tr><th></th><th scope=col>submission_date</th><th scope=col>state</th><th scope=col>tot_cases</th><th scope=col>conf_cases</th><th scope=col>prob_cases</th><th scope=col>new_case</th><th scope=col>pnew_case</th><th scope=col>tot_death</th><th scope=col>conf_death</th><th scope=col>prob_death</th><th scope=col>new_death</th><th scope=col>pnew_death</th><th scope=col>consent_cases</th><th scope=col>consent_deaths</th></tr>\n",
              "\t<tr><th></th><th scope=col>&lt;date&gt;</th><th scope=col>&lt;chr&gt;</th><th scope=col>&lt;int&gt;</th><th scope=col>&lt;int&gt;</th><th scope=col>&lt;int&gt;</th><th scope=col>&lt;int&gt;</th><th scope=col>&lt;int&gt;</th><th scope=col>&lt;int&gt;</th><th scope=col>&lt;int&gt;</th><th scope=col>&lt;int&gt;</th><th scope=col>&lt;int&gt;</th><th scope=col>&lt;int&gt;</th><th scope=col>&lt;chr&gt;</th><th scope=col>&lt;chr&gt;</th></tr>\n",
              "</thead>\n",
              "<tbody>\n",
              "\t<tr><th scope=row>1</th><td>2020-12-08</td><td>Oklahoma    </td><td>205999</td><td>171497</td><td>34502</td><td>   0</td><td> 0</td><td> 1752</td><td>1680</td><td>72</td><td> 0</td><td>0</td><td>Agree    </td><td>Agree    </td></tr>\n",
              "\t<tr><th scope=row>2</th><td>2020-08-29</td><td>South Dakota</td><td> 12942</td><td>    NA</td><td>   NA</td><td> 425</td><td> 0</td><td>  167</td><td> 165</td><td> 2</td><td> 2</td><td>0</td><td>N/A      </td><td>Agree    </td></tr>\n",
              "\t<tr><th scope=row>3</th><td>2020-11-06</td><td>South Dakota</td><td> 52639</td><td>    NA</td><td>   NA</td><td>1488</td><td>73</td><td>  510</td><td> 476</td><td>34</td><td>28</td><td>3</td><td>N/A      </td><td>Agree    </td></tr>\n",
              "\t<tr><th scope=row>4</th><td>2020-09-21</td><td>NA          </td><td>    69</td><td>    69</td><td>    0</td><td>   0</td><td> 0</td><td>    2</td><td>   2</td><td> 0</td><td> 0</td><td>0</td><td>Agree    </td><td>Agree    </td></tr>\n",
              "\t<tr><th scope=row>5</th><td>2020-06-28</td><td>Pennsylvania</td><td> 85988</td><td> 83529</td><td> 2459</td><td> 492</td><td>13</td><td> 6614</td><td>  NA</td><td>NA</td><td> 8</td><td>4</td><td>Agree    </td><td>Not agree</td></tr>\n",
              "\t<tr><th scope=row>6</th><td>2020-12-02</td><td>New York    </td><td>346492</td><td>    NA</td><td>   NA</td><td>5775</td><td> 0</td><td>10117</td><td>  NA</td><td>NA</td><td>56</td><td>0</td><td>Not agree</td><td>Not agree</td></tr>\n",
              "</tbody>\n",
              "</table>\n"
            ]
          },
          "metadata": {
            "tags": []
          }
        }
      ]
    },
    {
      "cell_type": "markdown",
      "metadata": {
        "id": "N74Yoob2LU2b"
      },
      "source": [
        "## Visualizations Over Time"
      ]
    },
    {
      "cell_type": "markdown",
      "metadata": {
        "id": "cIoUCsYsMKC-"
      },
      "source": [
        ""
      ]
    },
    {
      "cell_type": "markdown",
      "metadata": {
        "id": "7c5noPzwLjys"
      },
      "source": [
        "### Total cases over time"
      ]
    },
    {
      "cell_type": "markdown",
      "metadata": {
        "id": "_9bRBoz4PGy2"
      },
      "source": [
        "#### Remove NA rows"
      ]
    },
    {
      "cell_type": "markdown",
      "metadata": {
        "id": "yuz0zn5kPTSu"
      },
      "source": [
        "Before we start visualizing the data we need to make sure that there are no NAs in any of the fields that we need in order to produce plots.\r\n",
        "\r\n",
        "The fields that we must clean are `state`, `tot_cases`, `tot_death`, and  `submission_date`.\r\n"
      ]
    },
    {
      "cell_type": "markdown",
      "metadata": {
        "id": "C9Qv3n9wPrge"
      },
      "source": [
        "#### A view of missing records\r\n",
        "Let's take a look at the number of NAs in each column. We can decide if there are any records that need to be removed."
      ]
    },
    {
      "cell_type": "code",
      "metadata": {
        "id": "fvOqNg7RP9QJ",
        "colab": {
          "base_uri": "https://localhost:8080/",
          "height": 51
        },
        "outputId": "156eddae-ff7b-49bf-b076-1e8e53934f2d"
      },
      "source": [
        "library(dplyr)\r\n",
        "colSums(is.na(df))"
      ],
      "execution_count": 247,
      "outputs": [
        {
          "output_type": "display_data",
          "data": {
            "text/plain": [
              "submission_date           state       tot_cases      conf_cases      prob_cases \n",
              "              0            3609               0           13511           13511 \n",
              "       new_case       pnew_case       tot_death      conf_death      prob_death \n",
              "              0            5076               0           13353           13353 \n",
              "      new_death      pnew_death   consent_cases  consent_deaths \n",
              "              0            5174               0               0 "
            ],
            "text/latex": "\\begin{description*}\n\\item[submission\\textbackslash{}\\_date] 0\n\\item[state] 3609\n\\item[tot\\textbackslash{}\\_cases] 0\n\\item[conf\\textbackslash{}\\_cases] 13511\n\\item[prob\\textbackslash{}\\_cases] 13511\n\\item[new\\textbackslash{}\\_case] 0\n\\item[pnew\\textbackslash{}\\_case] 5076\n\\item[tot\\textbackslash{}\\_death] 0\n\\item[conf\\textbackslash{}\\_death] 13353\n\\item[prob\\textbackslash{}\\_death] 13353\n\\item[new\\textbackslash{}\\_death] 0\n\\item[pnew\\textbackslash{}\\_death] 5174\n\\item[consent\\textbackslash{}\\_cases] 0\n\\item[consent\\textbackslash{}\\_deaths] 0\n\\end{description*}\n",
            "text/markdown": "submission_date\n:   0state\n:   3609tot_cases\n:   0conf_cases\n:   13511prob_cases\n:   13511new_case\n:   0pnew_case\n:   5076tot_death\n:   0conf_death\n:   13353prob_death\n:   13353new_death\n:   0pnew_death\n:   5174consent_cases\n:   0consent_deaths\n:   0\n\n",
            "text/html": [
              "<style>\n",
              ".dl-inline {width: auto; margin:0; padding: 0}\n",
              ".dl-inline>dt, .dl-inline>dd {float: none; width: auto; display: inline-block}\n",
              ".dl-inline>dt::after {content: \":\\0020\"; padding-right: .5ex}\n",
              ".dl-inline>dt:not(:first-of-type) {padding-left: .5ex}\n",
              "</style><dl class=dl-inline><dt>submission_date</dt><dd>0</dd><dt>state</dt><dd>3609</dd><dt>tot_cases</dt><dd>0</dd><dt>conf_cases</dt><dd>13511</dd><dt>prob_cases</dt><dd>13511</dd><dt>new_case</dt><dd>0</dd><dt>pnew_case</dt><dd>5076</dd><dt>tot_death</dt><dd>0</dd><dt>conf_death</dt><dd>13353</dd><dt>prob_death</dt><dd>13353</dd><dt>new_death</dt><dd>0</dd><dt>pnew_death</dt><dd>5174</dd><dt>consent_cases</dt><dd>0</dd><dt>consent_deaths</dt><dd>0</dd></dl>\n"
            ]
          },
          "metadata": {
            "tags": []
          }
        }
      ]
    },
    {
      "cell_type": "markdown",
      "metadata": {
        "id": "M4xltUbdSXWJ"
      },
      "source": [
        "So looking at the above we can see that the only field that we currently care about and contains NA fields is `state`.\r\n",
        "\r\n",
        "This is actually a bit of a problem. There is a large number of state names that are missing here.\r\n",
        "\r\n",
        "Unfortunately since there is no way to guess which state is which, we will after to create a dataframe with these NA records removed. This will definately cause us to lose a moderate amount of data."
      ]
    },
    {
      "cell_type": "code",
      "metadata": {
        "id": "G2CeTJlIS5D_",
        "colab": {
          "base_uri": "https://localhost:8080/"
        },
        "outputId": "60527d92-1338-4686-c6be-66f70bfca4a2"
      },
      "source": [
        "cat(\"Total number of records in dataset:\", nrow(df))"
      ],
      "execution_count": 248,
      "outputs": [
        {
          "output_type": "stream",
          "text": [
            "Total number of records in dataset: 24060"
          ],
          "name": "stdout"
        }
      ]
    },
    {
      "cell_type": "markdown",
      "metadata": {
        "id": "uDLq8FLjTIVD"
      },
      "source": [
        "Before we remove the NA records in the dataset let's take a look at the percentage of data that we will be unfortuneately losing."
      ]
    },
    {
      "cell_type": "code",
      "metadata": {
        "id": "yH2-nONcUB74",
        "colab": {
          "base_uri": "https://localhost:8080/"
        },
        "outputId": "2abfa404-6aa2-41c5-b7b9-533da00ae162"
      },
      "source": [
        "number_of_records_to_be_removed <- colSums(is.na(df))['state']\r\n",
        "total_number_of_records <- nrow(df)\r\n",
        "percentage_of_data_lost <- number_of_records_to_be_removed / total_number_of_records\r\n",
        "\r\n",
        "cat('Number of records to be removed:', number_of_records_to_be_removed, '\\n')\r\n",
        "cat('Number of records remaining after deletion:', total_number_of_records - number_of_records_to_be_removed, '\\n\\n')\r\n",
        "\r\n",
        "cat('Percentage of records lost from dataset:', percentage_of_data_lost * 100, '\\n')\r\n",
        "cat('Percentage of records remaining in dataset:', 100 - percentage_of_data_lost * 100, '\\n')"
      ],
      "execution_count": 249,
      "outputs": [
        {
          "output_type": "stream",
          "text": [
            "Number of records to be removed: 3609 \n",
            "Number of records remaining after deletion: 20451 \n",
            "\n",
            "Percentage of records lost from dataset: 15 \n",
            "Percentage of records remaining in dataset: 85 \n"
          ],
          "name": "stdout"
        }
      ]
    },
    {
      "cell_type": "markdown",
      "metadata": {
        "id": "TEGv-JqNVcc3"
      },
      "source": [
        "Darn, this is a huge amout of data that we are losing, but there isn't any way to fix this problem. The data contained in the `state` field is categorical. There is no way to tell what state should be filled in for any of the missing rows, and thus we have no choice but to remove these records.\r\n",
        "\r\n"
      ]
    },
    {
      "cell_type": "code",
      "metadata": {
        "id": "5CJXMBGflBg-"
      },
      "source": [
        "# Remove all rows that have state set to NA.\r\n",
        "df <- df[!is.na(df$state),]"
      ],
      "execution_count": 250,
      "outputs": []
    },
    {
      "cell_type": "markdown",
      "metadata": {
        "id": "zjvxkt_JLuVR"
      },
      "source": [
        "Let's take a look at the total number of cases over the course of time.\r\n",
        "\r\n",
        "For this example we will look at New York state's overall covid cases."
      ]
    },
    {
      "cell_type": "code",
      "metadata": {
        "id": "Mct9gxe6ML1m"
      },
      "source": [
        "library(ggplot2)"
      ],
      "execution_count": 251,
      "outputs": []
    },
    {
      "cell_type": "code",
      "metadata": {
        "id": "vNH-itFCMZUL",
        "colab": {
          "base_uri": "https://localhost:8080/",
          "height": 437
        },
        "outputId": "f10b2352-585a-4c9d-8c30-a3a6e9b7570a"
      },
      "source": [
        "new_york_df <- df[which(df$state == 'New York'),]\r\n",
        "ggplot(new_york_df) + geom_line(aes(x = submission_date, y = tot_cases)) +\r\n",
        "                      xlab('Time') +\r\n",
        "                      ylab('Total Cases') +\r\n",
        "                      ggtitle('Total Count of New York State Covid-19 Cases Over Time')"
      ],
      "execution_count": 272,
      "outputs": [
        {
          "output_type": "display_data",
          "data": {
            "image/png": "[encoded data removed]",
            "text/plain": [
              "plot without title"
            ]
          },
          "metadata": {
            "tags": [],
            "image/png": {
              "width": 420,
              "height": 420
            }
          }
        }
      ]
    },
    {
      "cell_type": "code",
      "metadata": {
        "id": "53lIZQQUXBoO"
      },
      "source": [
        "# TODO SHOW A BETTER GRAPH OF THIS."
      ],
      "execution_count": 253,
      "outputs": []
    },
    {
      "cell_type": "markdown",
      "metadata": {
        "id": "bLNsKAujNwbU"
      },
      "source": [
        "The above graph shows the spread of cases from the beginning entries in our dataset to the last entry in our dataset.\r\n",
        "\r\n",
        "However, the above graph is not exactly the best view of our data.\r\n",
        "\r\n",
        "Instead of looking at the range between these months, we should take a look at the graph where the X axis (submission dates) contains every month between the time period of April 2020 and Jan 2021.\r\n"
      ]
    },
    {
      "cell_type": "code",
      "metadata": {
        "id": "ykx-D04tO9B4",
        "colab": {
          "base_uri": "https://localhost:8080/",
          "height": 437
        },
        "outputId": "6f180e51-14ae-4ebc-d331-bedfe5813606"
      },
      "source": [
        "# Update later...\r\n",
        "ggplot(new_york_df) + geom_line(aes(x = submission_date, y = tot_cases)) +\r\n",
        "                      xlab('Time') +\r\n",
        "                      ylab('Total Cases')\r\n"
      ],
      "execution_count": 273,
      "outputs": [
        {
          "output_type": "display_data",
          "data": {
            "image/png": "[encoded data removed]",
            "text/plain": [
              "plot without title"
            ]
          },
          "metadata": {
            "tags": [],
            "image/png": {
              "width": 420,
              "height": 420
            }
          }
        }
      ]
    },
    {
      "cell_type": "code",
      "metadata": {
        "id": "Q2jirrLaNWaF",
        "colab": {
          "base_uri": "https://localhost:8080/",
          "height": 437
        },
        "outputId": "1ab47d84-046f-4235-8a9a-1143c036342e"
      },
      "source": [
        "ggplot(new_york_df) + geom_line(aes(x = submission_date, y = tot_death)) +\r\n",
        "                      ggtitle('New York State Covid-19 Deaths Over Time')"
      ],
      "execution_count": 274,
      "outputs": [
        {
          "output_type": "display_data",
          "data": {
            "image/png": "[encoded data removed]",
            "text/plain": [
              "plot without title"
            ]
          },
          "metadata": {
            "tags": [],
            "image/png": {
              "width": 420,
              "height": 420
            }
          }
        }
      ]
    },
    {
      "cell_type": "code",
      "metadata": {
        "id": "RdkrSAzVXlJm"
      },
      "source": [
        "# TODO BETTER VIEW OF THE ABOVE PLOT"
      ],
      "execution_count": 256,
      "outputs": []
    },
    {
      "cell_type": "markdown",
      "metadata": {
        "id": "HpwVzzdTYlUm"
      },
      "source": [
        ""
      ]
    },
    {
      "cell_type": "code",
      "metadata": {
        "id": "RsW5xEqxYmKc"
      },
      "source": [
        "# SHOW ALL STATES WITH DIFFERENT LINE GRAPHS."
      ],
      "execution_count": 257,
      "outputs": []
    },
    {
      "cell_type": "markdown",
      "metadata": {
        "id": "RnRU0ku9Yaeu"
      },
      "source": [
        ""
      ]
    },
    {
      "cell_type": "markdown",
      "metadata": {
        "id": "bBUCBhl2V1lm"
      },
      "source": [
        "### Count of cases per each state\r\n",
        "\r\n",
        "With 50 different states (including the district of columbia), it is really hard to view all of the line graphs at the same time. We could create a different line per each different state, however our data would be extremely hard to read and doing this would be rather pointless.\r\n",
        "\r\n",
        "Instead we will take a look at the count of cases each state has by using a bar plot. This will give us a good idea of which state has the most covid cases. Using this will allow us to view the max amount of cases that each state has in the same plot, allowing us to make comparisons between each distinct state.\r\n",
        "\r\n",
        "We will also add a column for the count of deaths per each state. This will come in handy to view deaths by state using a bar chart as well."
      ]
    },
    {
      "cell_type": "code",
      "metadata": {
        "id": "lIhiA8xtYa43"
      },
      "source": [
        "# Construct a new dataframe that contains 2 variables:\r\n",
        "# 1. The name of the state\r\n",
        "# 2. The max count of covid cases for that state.\r\n",
        "df_of_max_covid_cases_by_state <- data.frame(state = character(), max_cases = numeric(0), max_deaths = numeric(0))\r\n",
        "\r\n",
        "# Now we itereate through all of the states that we have in our dataframe and\r\n",
        "# append the state and the max count of covid cases for that state into the above\r\n",
        "# data frame that we created.\r\n",
        "for (state in unique(df$state)) {\r\n",
        "    # Get the df for a specific given state.\r\n",
        "    state_df <- df[which(df$state == state),]\r\n",
        "\r\n",
        "    # Sort by tot_cases to make sure that we get the largest record in the dataset.\r\n",
        "    state_df <- state_df[order(state_df$tot_cases, decreasing = TRUE),]\r\n",
        "\r\n",
        "    # The first record is going to be the largest count of covid cases, as that is how the dataset\r\n",
        "    # is setup.\r\n",
        "    max_cases_in_state <- head(state_df$tot_cases, 1)\r\n",
        "    max_deaths_in_state <- head(state_df$tot_death, 1)\r\n",
        "\r\n",
        "    # Add new record to the new dataframe that we created.\r\n",
        "    new_row <- c(state, max_cases_in_state, max_deaths_in_state)\r\n",
        "    df_of_max_covid_cases_by_state[nrow(df_of_max_covid_cases_by_state) + 1,] <- new_row\r\n",
        "}\r\n",
        "\r\n",
        "# Sort the dataframe by state name so that it reads fluidly.\r\n",
        "df_of_max_covid_cases_by_state <- df_of_max_covid_cases_by_state[order(df_of_max_covid_cases_by_state$state),]"
      ],
      "execution_count": 258,
      "outputs": []
    },
    {
      "cell_type": "code",
      "metadata": {
        "id": "9IWTCookZ8Lr",
        "colab": {
          "base_uri": "https://localhost:8080/",
          "height": 1000
        },
        "outputId": "4738b897-f50a-4c4b-bedb-a98c5a4e573b"
      },
      "source": [
        "# Confirm that the dataframe we generated looks correct.\r\n",
        "number_of_rows_in_dataframe <- nrow(df_of_max_covid_cases_by_state)\r\n",
        "cat(\"Number of entries in dataframe:\", number_of_rows_in_dataframe, \"\\n\")\r\n",
        "\r\n",
        "# Take a look at very state's max count of covid cases.\r\n",
        "head(df_of_max_covid_cases_by_state, 51)"
      ],
      "execution_count": 259,
      "outputs": [
        {
          "output_type": "stream",
          "text": [
            "Number of entries in dataframe: 51 \n"
          ],
          "name": "stdout"
        },
        {
          "output_type": "display_data",
          "data": {
            "text/plain": [
              "   state                max_cases max_deaths\n",
              "30 Alabama              491110    9831      \n",
              "12 Alaska               55886     287       \n",
              "46 Arizona              812907    15814     \n",
              "7  Arkansas             318122    5397      \n",
              "24 California           3460326   50991     \n",
              "10 Colorado             424677    5925      \n",
              "41 Connecticut          279159    7614      \n",
              "26 Delaware             85801     1406      \n",
              "20 District of Columbia 40122     1005      \n",
              "16 Florida              1857670   30478     \n",
              "6  Georgia              997388    17199     \n",
              "11 Hawaii               26529     432       \n",
              "37 Idaho                170595    1850      \n",
              "36 Illinois             1181226   22607     \n",
              "42 Indiana              659127    12494     \n",
              "8  Iowa                 334900    5438      \n",
              "19 Kansas               292837    4724      \n",
              "47 Kentucky             401750    4570      \n",
              "33 Louisiana            427689    9561      \n",
              "48 Maine                44296     701       \n",
              "43 Maryland             380436    7838      \n",
              "5  Massachusetts        555520    15865     \n",
              "44 Michigan             642868    16436     \n",
              "40 Minnesota            481831    6518      \n",
              "49 Mississippi          293542    6638      \n",
              "35 Missouri             477472    7913      \n",
              "45 Montana              99445     1350      \n",
              "23 Nebraska             200403    2078      \n",
              "34 Nevada               292630    4933      \n",
              "31 New Hampshire        74568     1163      \n",
              "22 New Jersey           778963    23147     \n",
              "13 New Mexico           184080    3671      \n",
              "4  New York             907769    17893     \n",
              "50 North Carolina       852981    11137     \n",
              "38 North Dakota         99711     1442      \n",
              "17 Ohio                 962404    17125     \n",
              "1  Oklahoma             424955    4330      \n",
              "32 Oregon               154554    2204      \n",
              "3  Pennsylvania         922990    23868     \n",
              "21 Rhode Island         125185    2496      \n",
              "51 South Carolina       510309    8445      \n",
              "2  South Dakota         111964    1872      \n",
              "18 Tennessee            770940    11321     \n",
              "9  Texas                2621181   42285     \n",
              "14 Utah                 369433    1890      \n",
              "28 Vermont              14840     203       \n",
              "25 Virginia             572639    8197      \n",
              "29 Washington           337653    4942      \n",
              "15 West Virginia        130813    2290      \n",
              "39 Wisconsin            615225    6994      \n",
              "27 Wyoming              54202     671       "
            ],
            "text/latex": "A data.frame: 51 × 3\n\\begin{tabular}{r|lll}\n  & state & max\\_cases & max\\_deaths\\\\\n  & <chr> & <chr> & <chr>\\\\\n\\hline\n\t30 & Alabama              & 491110  & 9831 \\\\\n\t12 & Alaska               & 55886   & 287  \\\\\n\t46 & Arizona              & 812907  & 15814\\\\\n\t7 & Arkansas             & 318122  & 5397 \\\\\n\t24 & California           & 3460326 & 50991\\\\\n\t10 & Colorado             & 424677  & 5925 \\\\\n\t41 & Connecticut          & 279159  & 7614 \\\\\n\t26 & Delaware             & 85801   & 1406 \\\\\n\t20 & District of Columbia & 40122   & 1005 \\\\\n\t16 & Florida              & 1857670 & 30478\\\\\n\t6 & Georgia              & 997388  & 17199\\\\\n\t11 & Hawaii               & 26529   & 432  \\\\\n\t37 & Idaho                & 170595  & 1850 \\\\\n\t36 & Illinois             & 1181226 & 22607\\\\\n\t42 & Indiana              & 659127  & 12494\\\\\n\t8 & Iowa                 & 334900  & 5438 \\\\\n\t19 & Kansas               & 292837  & 4724 \\\\\n\t47 & Kentucky             & 401750  & 4570 \\\\\n\t33 & Louisiana            & 427689  & 9561 \\\\\n\t48 & Maine                & 44296   & 701  \\\\\n\t43 & Maryland             & 380436  & 7838 \\\\\n\t5 & Massachusetts        & 555520  & 15865\\\\\n\t44 & Michigan             & 642868  & 16436\\\\\n\t40 & Minnesota            & 481831  & 6518 \\\\\n\t49 & Mississippi          & 293542  & 6638 \\\\\n\t35 & Missouri             & 477472  & 7913 \\\\\n\t45 & Montana              & 99445   & 1350 \\\\\n\t23 & Nebraska             & 200403  & 2078 \\\\\n\t34 & Nevada               & 292630  & 4933 \\\\\n\t31 & New Hampshire        & 74568   & 1163 \\\\\n\t22 & New Jersey           & 778963  & 23147\\\\\n\t13 & New Mexico           & 184080  & 3671 \\\\\n\t4 & New York             & 907769  & 17893\\\\\n\t50 & North Carolina       & 852981  & 11137\\\\\n\t38 & North Dakota         & 99711   & 1442 \\\\\n\t17 & Ohio                 & 962404  & 17125\\\\\n\t1 & Oklahoma             & 424955  & 4330 \\\\\n\t32 & Oregon               & 154554  & 2204 \\\\\n\t3 & Pennsylvania         & 922990  & 23868\\\\\n\t21 & Rhode Island         & 125185  & 2496 \\\\\n\t51 & South Carolina       & 510309  & 8445 \\\\\n\t2 & South Dakota         & 111964  & 1872 \\\\\n\t18 & Tennessee            & 770940  & 11321\\\\\n\t9 & Texas                & 2621181 & 42285\\\\\n\t14 & Utah                 & 369433  & 1890 \\\\\n\t28 & Vermont              & 14840   & 203  \\\\\n\t25 & Virginia             & 572639  & 8197 \\\\\n\t29 & Washington           & 337653  & 4942 \\\\\n\t15 & West Virginia        & 130813  & 2290 \\\\\n\t39 & Wisconsin            & 615225  & 6994 \\\\\n\t27 & Wyoming              & 54202   & 671  \\\\\n\\end{tabular}\n",
            "text/markdown": "\nA data.frame: 51 × 3\n\n| <!--/--> | state &lt;chr&gt; | max_cases &lt;chr&gt; | max_deaths &lt;chr&gt; |\n|---|---|---|---|\n| 30 | Alabama              | 491110  | 9831  |\n| 12 | Alaska               | 55886   | 287   |\n| 46 | Arizona              | 812907  | 15814 |\n| 7 | Arkansas             | 318122  | 5397  |\n| 24 | California           | 3460326 | 50991 |\n| 10 | Colorado             | 424677  | 5925  |\n| 41 | Connecticut          | 279159  | 7614  |\n| 26 | Delaware             | 85801   | 1406  |\n| 20 | District of Columbia | 40122   | 1005  |\n| 16 | Florida              | 1857670 | 30478 |\n| 6 | Georgia              | 997388  | 17199 |\n| 11 | Hawaii               | 26529   | 432   |\n| 37 | Idaho                | 170595  | 1850  |\n| 36 | Illinois             | 1181226 | 22607 |\n| 42 | Indiana              | 659127  | 12494 |\n| 8 | Iowa                 | 334900  | 5438  |\n| 19 | Kansas               | 292837  | 4724  |\n| 47 | Kentucky             | 401750  | 4570  |\n| 33 | Louisiana            | 427689  | 9561  |\n| 48 | Maine                | 44296   | 701   |\n| 43 | Maryland             | 380436  | 7838  |\n| 5 | Massachusetts        | 555520  | 15865 |\n| 44 | Michigan             | 642868  | 16436 |\n| 40 | Minnesota            | 481831  | 6518  |\n| 49 | Mississippi          | 293542  | 6638  |\n| 35 | Missouri             | 477472  | 7913  |\n| 45 | Montana              | 99445   | 1350  |\n| 23 | Nebraska             | 200403  | 2078  |\n| 34 | Nevada               | 292630  | 4933  |\n| 31 | New Hampshire        | 74568   | 1163  |\n| 22 | New Jersey           | 778963  | 23147 |\n| 13 | New Mexico           | 184080  | 3671  |\n| 4 | New York             | 907769  | 17893 |\n| 50 | North Carolina       | 852981  | 11137 |\n| 38 | North Dakota         | 99711   | 1442  |\n| 17 | Ohio                 | 962404  | 17125 |\n| 1 | Oklahoma             | 424955  | 4330  |\n| 32 | Oregon               | 154554  | 2204  |\n| 3 | Pennsylvania         | 922990  | 23868 |\n| 21 | Rhode Island         | 125185  | 2496  |\n| 51 | South Carolina       | 510309  | 8445  |\n| 2 | South Dakota         | 111964  | 1872  |\n| 18 | Tennessee            | 770940  | 11321 |\n| 9 | Texas                | 2621181 | 42285 |\n| 14 | Utah                 | 369433  | 1890  |\n| 28 | Vermont              | 14840   | 203   |\n| 25 | Virginia             | 572639  | 8197  |\n| 29 | Washington           | 337653  | 4942  |\n| 15 | West Virginia        | 130813  | 2290  |\n| 39 | Wisconsin            | 615225  | 6994  |\n| 27 | Wyoming              | 54202   | 671   |\n\n",
            "text/html": [
              "<table class=\"dataframe\">\n",
              "<caption>A data.frame: 51 × 3</caption>\n",
              "<thead>\n",
              "\t<tr><th></th><th scope=col>state</th><th scope=col>max_cases</th><th scope=col>max_deaths</th></tr>\n",
              "\t<tr><th></th><th scope=col>&lt;chr&gt;</th><th scope=col>&lt;chr&gt;</th><th scope=col>&lt;chr&gt;</th></tr>\n",
              "</thead>\n",
              "<tbody>\n",
              "\t<tr><th scope=row>30</th><td>Alabama             </td><td>491110 </td><td>9831 </td></tr>\n",
              "\t<tr><th scope=row>12</th><td>Alaska              </td><td>55886  </td><td>287  </td></tr>\n",
              "\t<tr><th scope=row>46</th><td>Arizona             </td><td>812907 </td><td>15814</td></tr>\n",
              "\t<tr><th scope=row>7</th><td>Arkansas            </td><td>318122 </td><td>5397 </td></tr>\n",
              "\t<tr><th scope=row>24</th><td>California          </td><td>3460326</td><td>50991</td></tr>\n",
              "\t<tr><th scope=row>10</th><td>Colorado            </td><td>424677 </td><td>5925 </td></tr>\n",
              "\t<tr><th scope=row>41</th><td>Connecticut         </td><td>279159 </td><td>7614 </td></tr>\n",
              "\t<tr><th scope=row>26</th><td>Delaware            </td><td>85801  </td><td>1406 </td></tr>\n",
              "\t<tr><th scope=row>20</th><td>District of Columbia</td><td>40122  </td><td>1005 </td></tr>\n",
              "\t<tr><th scope=row>16</th><td>Florida             </td><td>1857670</td><td>30478</td></tr>\n",
              "\t<tr><th scope=row>6</th><td>Georgia             </td><td>997388 </td><td>17199</td></tr>\n",
              "\t<tr><th scope=row>11</th><td>Hawaii              </td><td>26529  </td><td>432  </td></tr>\n",
              "\t<tr><th scope=row>37</th><td>Idaho               </td><td>170595 </td><td>1850 </td></tr>\n",
              "\t<tr><th scope=row>36</th><td>Illinois            </td><td>1181226</td><td>22607</td></tr>\n",
              "\t<tr><th scope=row>42</th><td>Indiana             </td><td>659127 </td><td>12494</td></tr>\n",
              "\t<tr><th scope=row>8</th><td>Iowa                </td><td>334900 </td><td>5438 </td></tr>\n",
              "\t<tr><th scope=row>19</th><td>Kansas              </td><td>292837 </td><td>4724 </td></tr>\n",
              "\t<tr><th scope=row>47</th><td>Kentucky            </td><td>401750 </td><td>4570 </td></tr>\n",
              "\t<tr><th scope=row>33</th><td>Louisiana           </td><td>427689 </td><td>9561 </td></tr>\n",
              "\t<tr><th scope=row>48</th><td>Maine               </td><td>44296  </td><td>701  </td></tr>\n",
              "\t<tr><th scope=row>43</th><td>Maryland            </td><td>380436 </td><td>7838 </td></tr>\n",
              "\t<tr><th scope=row>5</th><td>Massachusetts       </td><td>555520 </td><td>15865</td></tr>\n",
              "\t<tr><th scope=row>44</th><td>Michigan            </td><td>642868 </td><td>16436</td></tr>\n",
              "\t<tr><th scope=row>40</th><td>Minnesota           </td><td>481831 </td><td>6518 </td></tr>\n",
              "\t<tr><th scope=row>49</th><td>Mississippi         </td><td>293542 </td><td>6638 </td></tr>\n",
              "\t<tr><th scope=row>35</th><td>Missouri            </td><td>477472 </td><td>7913 </td></tr>\n",
              "\t<tr><th scope=row>45</th><td>Montana             </td><td>99445  </td><td>1350 </td></tr>\n",
              "\t<tr><th scope=row>23</th><td>Nebraska            </td><td>200403 </td><td>2078 </td></tr>\n",
              "\t<tr><th scope=row>34</th><td>Nevada              </td><td>292630 </td><td>4933 </td></tr>\n",
              "\t<tr><th scope=row>31</th><td>New Hampshire       </td><td>74568  </td><td>1163 </td></tr>\n",
              "\t<tr><th scope=row>22</th><td>New Jersey          </td><td>778963 </td><td>23147</td></tr>\n",
              "\t<tr><th scope=row>13</th><td>New Mexico          </td><td>184080 </td><td>3671 </td></tr>\n",
              "\t<tr><th scope=row>4</th><td>New York            </td><td>907769 </td><td>17893</td></tr>\n",
              "\t<tr><th scope=row>50</th><td>North Carolina      </td><td>852981 </td><td>11137</td></tr>\n",
              "\t<tr><th scope=row>38</th><td>North Dakota        </td><td>99711  </td><td>1442 </td></tr>\n",
              "\t<tr><th scope=row>17</th><td>Ohio                </td><td>962404 </td><td>17125</td></tr>\n",
              "\t<tr><th scope=row>1</th><td>Oklahoma            </td><td>424955 </td><td>4330 </td></tr>\n",
              "\t<tr><th scope=row>32</th><td>Oregon              </td><td>154554 </td><td>2204 </td></tr>\n",
              "\t<tr><th scope=row>3</th><td>Pennsylvania        </td><td>922990 </td><td>23868</td></tr>\n",
              "\t<tr><th scope=row>21</th><td>Rhode Island        </td><td>125185 </td><td>2496 </td></tr>\n",
              "\t<tr><th scope=row>51</th><td>South Carolina      </td><td>510309 </td><td>8445 </td></tr>\n",
              "\t<tr><th scope=row>2</th><td>South Dakota        </td><td>111964 </td><td>1872 </td></tr>\n",
              "\t<tr><th scope=row>18</th><td>Tennessee           </td><td>770940 </td><td>11321</td></tr>\n",
              "\t<tr><th scope=row>9</th><td>Texas               </td><td>2621181</td><td>42285</td></tr>\n",
              "\t<tr><th scope=row>14</th><td>Utah                </td><td>369433 </td><td>1890 </td></tr>\n",
              "\t<tr><th scope=row>28</th><td>Vermont             </td><td>14840  </td><td>203  </td></tr>\n",
              "\t<tr><th scope=row>25</th><td>Virginia            </td><td>572639 </td><td>8197 </td></tr>\n",
              "\t<tr><th scope=row>29</th><td>Washington          </td><td>337653 </td><td>4942 </td></tr>\n",
              "\t<tr><th scope=row>15</th><td>West Virginia       </td><td>130813 </td><td>2290 </td></tr>\n",
              "\t<tr><th scope=row>39</th><td>Wisconsin           </td><td>615225 </td><td>6994 </td></tr>\n",
              "\t<tr><th scope=row>27</th><td>Wyoming             </td><td>54202  </td><td>671  </td></tr>\n",
              "</tbody>\n",
              "</table>\n"
            ]
          },
          "metadata": {
            "tags": []
          }
        }
      ]
    },
    {
      "cell_type": "markdown",
      "metadata": {
        "id": "RTTgMtMsntVl"
      },
      "source": [
        "### Bar charts of total cases by state"
      ]
    },
    {
      "cell_type": "code",
      "metadata": {
        "id": "LgmXV2R-aIQn",
        "colab": {
          "base_uri": "https://localhost:8080/",
          "height": 437
        },
        "outputId": "1cc37a21-b785-4f6b-b0ba-04c50d878a2d"
      },
      "source": [
        "p <- ggplot(data = df_of_max_covid_cases_by_state, aes(x = state, y= max_cases)) +\r\n",
        "    geom_bar(stat='identity') +\r\n",
        "    xlab('State') +\r\n",
        "    ylab('Total Cases') +\r\n",
        "    theme(axis.text.x = element_text(angle = 90, vjust = 0.5, hjust=1)) +\r\n",
        "    ggtitle('Covid Case Count By State')\r\n",
        "\r\n",
        "show(p)"
      ],
      "execution_count": 269,
      "outputs": [
        {
          "output_type": "display_data",
          "data": {
            "image/png": "[encoded data removed]",
            "text/plain": [
              "plot without title"
            ]
          },
          "metadata": {
            "tags": [],
            "image/png": {
              "width": 420,
              "height": 420
            }
          }
        }
      ]
    },
    {
      "cell_type": "markdown",
      "metadata": {
        "id": "iKCVEITQYQ5t"
      },
      "source": [
        "Let's take a look at the data in the data in the form of a scatter plot. I don't expect us to learn anything new from using this plot, however it is always to have multiple different ways to visualize data."
      ]
    },
    {
      "cell_type": "markdown",
      "metadata": {
        "id": "U1mhgu0maIsU"
      },
      "source": [
        "### Dataset metrics\r\n",
        "\r\n",
        "Now it's time to take a look at the averages of our data.\r\n",
        "\r\n",
        "What is the mean of cases?\r\n",
        "What is the median of cases?\r\n",
        "What is the std of cases?\r\n",
        "What is the range of the set of max cases for every state?\r\n",
        "What state has the most cases?\r\n",
        "What state has the least cases?\r\n",
        "\r\n"
      ]
    },
    {
      "cell_type": "code",
      "metadata": {
        "colab": {
          "base_uri": "https://localhost:8080/"
        },
        "id": "MBQrSyyrvbnb",
        "outputId": "1da7923b-9d22-4418-bdb7-e989a808afa8"
      },
      "source": [
        "# Let's calculate some metrics...\r\n",
        "cat(\"Mean of max cases:\", mean(df_of_max_covid_cases_by_state$max_cases), '\\n')\r\n",
        "cat(\"Median of max cases:\", median(df_of_max_covid_cases_by_state$max_cases), '\\n')\r\n",
        "cat(\"Standard deviation of max cases:\", sd(df_of_max_covid_cases_by_state$max_cases), \"\\n\\n\")\r\n",
        "\r\n",
        "# Let's look at the state with the max number of cases...\r\n",
        "max_number_of_cases <- max(df_of_max_covid_cases_by_state$max_cases)\r\n",
        "state_with_most_cases <- df_of_max_covid_cases_by_state[\r\n",
        "    which(max_number_of_cases == df_of_max_covid_cases_by_state$max_cases),]$state\r\n",
        "cat(\"State with highest count of cases:\", state_with_most_cases, \"\\n\")\r\n",
        "cat('Highest amount of cases in a state:', max_number_of_cases, \"\\n\\n\")\r\n",
        "\r\n",
        "# Let's look at the state with the min number of cases...\r\n",
        "min_number_of_cases <- min(df_of_max_covid_cases_by_state$max_cases)\r\n",
        "state_with_least_cases <- df_of_max_covid_cases_by_state[\r\n",
        "    which(min_number_of_cases == df_of_max_covid_cases_by_state$max_cases),]$state\r\n",
        "cat(\"State with least count of cases:\", state_with_least_cases, \"\\n\")\r\n",
        "cat('Lowest amount of cases in a state:', min_number_of_cases, \"\\n\\n\")"
      ],
      "execution_count": 261,
      "outputs": [
        {
          "output_type": "stream",
          "text": [
            "Warning message in mean.default(df_of_max_covid_cases_by_state$max_cases):\n",
            "“argument is not numeric or logical: returning NA”\n"
          ],
          "name": "stderr"
        },
        {
          "output_type": "stream",
          "text": [
            "Mean of max cases: NA \n",
            "Median of max cases: 424955 \n",
            "Standard deviation of max cases: 630292.8 \n",
            "\n",
            "State with highest count of cases: Georgia \n",
            "Highest amount of cases in a state: 997388 \n",
            "\n",
            "State with least count of cases: South Dakota \n",
            "Lowest amount of cases in a state: 111964 \n",
            "\n"
          ],
          "name": "stdout"
        }
      ]
    },
    {
      "cell_type": "markdown",
      "metadata": {
        "id": "jwVDXb5UzovW"
      },
      "source": [
        "### Bar charts of total deaths by state"
      ]
    },
    {
      "cell_type": "markdown",
      "metadata": {
        "id": "b2nJ4UiNzvGT"
      },
      "source": [
        "Now let's take a look at the number of deaths per state.\r\n",
        "\r\n",
        "We will the calculate the same metrics as above, but for deaths per state instead of total cases."
      ]
    },
    {
      "cell_type": "code",
      "metadata": {
        "colab": {
          "base_uri": "https://localhost:8080/",
          "height": 437
        },
        "id": "fPRPGo12z7CK",
        "outputId": "7b4ae308-3290-4dab-e4fb-2cc64c1147f0"
      },
      "source": [
        "p <- ggplot(data = df_of_max_covid_cases_by_state, aes(x = state, y= max_deaths)) +\r\n",
        "    geom_bar(stat='identity') +\r\n",
        "    xlab('State') +\r\n",
        "    ylab('Total Deaths') +\r\n",
        "    theme(axis.text.x = element_text(angle = 90, vjust = 0.5, hjust=1)) +\r\n",
        "    ggtitle('Covid Death Count By State')\r\n",
        "\r\n",
        "show(p)"
      ],
      "execution_count": 270,
      "outputs": [
        {
          "output_type": "display_data",
          "data": {
            "image/png": "[encoded data removed]",
            "text/plain": [
              "plot without title"
            ]
          },
          "metadata": {
            "tags": [],
            "image/png": {
              "width": 420,
              "height": 420
            }
          }
        }
      ]
    },
    {
      "cell_type": "markdown",
      "metadata": {
        "id": "PnVcYZ_C2FJR"
      },
      "source": [
        "### Dataset Metrics"
      ]
    },
    {
      "cell_type": "code",
      "metadata": {
        "colab": {
          "base_uri": "https://localhost:8080/"
        },
        "id": "yGZli9p-2InX",
        "outputId": "94fc3110-6b78-4308-b7e3-b6e0831a493e"
      },
      "source": [
        "# Let's calculate some metrics...\r\n",
        "cat(\"Mean of max deaths:\", mean(df_of_max_covid_cases_by_state$max_deaths), '\\n')\r\n",
        "cat(\"Median of max deaths:\", median(df_of_max_covid_cases_by_state$max_deaths), '\\n')\r\n",
        "cat(\"Standard deviation of max deaths:\", sd(df_of_max_covid_cases_by_state$max_deaths), \"\\n\\n\")\r\n",
        "\r\n",
        "# Let's look at the state with the max number of cases...\r\n",
        "max_number_of_deaths <- max(df_of_max_covid_cases_by_state$max_deaths)\r\n",
        "state_with_most_deaths <- df_of_max_covid_cases_by_state[\r\n",
        "    which(max_number_of_deaths == df_of_max_covid_cases_by_state$max_deaths),]$state\r\n",
        "cat(\"State with highest count of deaths:\", state_with_most_deaths, \"\\n\")\r\n",
        "cat('Highest amount of deaths in a state:', max_number_of_deaths, \"\\n\\n\")\r\n",
        "\r\n",
        "# Let's look at the state with the min number of cases...\r\n",
        "min_number_of_deaths <- min(df_of_max_covid_cases_by_state$max_deaths)\r\n",
        "state_with_least_deaths <- df_of_max_covid_cases_by_state[\r\n",
        "    which(min_number_of_deaths == df_of_max_covid_cases_by_state$max_deaths),]$state\r\n",
        "cat(\"State with least count of deaths:\", state_with_least_deaths, \"\\n\")\r\n",
        "cat('Lowest amount of deaths in a state:', min_number_of_deaths, \"\\n\\n\")"
      ],
      "execution_count": 263,
      "outputs": [
        {
          "output_type": "stream",
          "text": [
            "Warning message in mean.default(df_of_max_covid_cases_by_state$max_deaths):\n",
            "“argument is not numeric or logical: returning NA”\n"
          ],
          "name": "stderr"
        },
        {
          "output_type": "stream",
          "text": [
            "Mean of max deaths: NA \n",
            "Median of max deaths: 287 \n",
            "Standard deviation of max deaths: 10481.17 \n",
            "\n",
            "State with highest count of deaths: Alabama \n",
            "Highest amount of deaths in a state: 9831 \n",
            "\n",
            "State with least count of deaths: District of Columbia \n",
            "Lowest amount of deaths in a state: 1005 \n",
            "\n"
          ],
          "name": "stdout"
        }
      ]
    },
    {
      "cell_type": "markdown",
      "metadata": {
        "id": "ECzf_wZB4lyf"
      },
      "source": [
        "###Results"
      ]
    },
    {
      "cell_type": "markdown",
      "metadata": {
        "id": "bdrVqQxZ4oMy"
      },
      "source": [
        "What I find to be extremely interesting is the relationship between count of covid-19 deaths and cases does not appear to be linearly dependent. In otherwords, the count of deaths does not corelate mainly to the count of cases. Most likely external factors determine the number of deaths. For example health issues, age, physical condition, etc...\r\n",
        "\r\n",
        "Furthermore, we saw above that Georgia easily had the most cases of covid, yet Georgia's overall deaths is not nearly that high compared to many of the other states. There were tons of states that had much either death rates and much smaller number of covid cases.\r\n",
        "\r\n",
        "Moreover, Georgia (for the most part) is a non-city-like state. The population should be lower than many other places, yet the number of cases that Georgia had was much higher then even NY state."
      ]
    },
    {
      "cell_type": "markdown",
      "metadata": {
        "id": "c4WvFVse8FjB"
      },
      "source": [
        "### Corelation between deaths and cases"
      ]
    },
    {
      "cell_type": "markdown",
      "metadata": {
        "id": "ZRrJPZwA8Jc6"
      },
      "source": [
        "After realizing that more cases does not (in almost all cases) imply that there will be a lot more deaths in the state.\r\n",
        "\r\n",
        "We will generate a scatter plot to look at the correlation between covid deaths and covid cases.\r\n",
        "\r\n",
        "Afterwards we will calculate some metrics with respect to deaths and cases by state."
      ]
    },
    {
      "cell_type": "markdown",
      "metadata": {
        "id": "JspLny9H8onA"
      },
      "source": [
        "#### Scatter plot"
      ]
    },
    {
      "cell_type": "code",
      "metadata": {
        "colab": {
          "base_uri": "https://localhost:8080/",
          "height": 437
        },
        "id": "0mmeYuv08sZr",
        "outputId": "21c57c81-5396-4ba3-ac75-0cfd77f2cd23"
      },
      "source": [
        "# We need to make a new df and sort these fields so that the data\r\n",
        "# is a lot easier to interpret.\r\n",
        "# corelation_df <- df_of_max_covid_cases_by_state\r\n",
        "# corelation_df$max_cases <- sort(corelation_df$max_cases)\r\n",
        "# corelation_df$max_cases <- sort(corelation_df$max_deaths)\r\n",
        "\r\n",
        "# We will make the X-axis deaths and the Y axis cases.\r\n",
        "p <- ggplot(df_of_max_covid_cases_by_state, aes(x = max_deaths, y = max_cases)) +\r\n",
        "    geom_point(size=2, color=\"black\", shape=5) +\r\n",
        "    xlab(\"Count of Deaths\") +\r\n",
        "    ylab(\"Count of Cases\") +\r\n",
        "    theme(axis.text.x = element_text(angle = 90, vjust = 0.5, hjust=1)) +\r\n",
        "    ggtitle('Correlation Between Covid Cases & Deaths')\r\n",
        "\r\n",
        "show(p)"
      ],
      "execution_count": 271,
      "outputs": [
        {
          "output_type": "display_data",
          "data": {
            "image/png": "[encoded data removed]",
            "text/plain": [
              "plot without title"
            ]
          },
          "metadata": {
            "tags": [],
            "image/png": {
              "width": 420,
              "height": 420
            }
          }
        }
      ]
    },
    {
      "cell_type": "markdown",
      "metadata": {
        "id": "W5TjAUatBj1U"
      },
      "source": [
        "#### Percentage of deaths per cases by state"
      ]
    },
    {
      "cell_type": "markdown",
      "metadata": {
        "id": "a4CpSFeqBojo"
      },
      "source": [
        "Let's ignore the form of the graph for now...\r\n",
        "\r\n",
        "To follow up with research into the correlation of these features, we will generate a new column in our data set called `percent_of_deths_by_case` and then plot it. This will effectively tell us what percentage of people who had covid-19 in a given state actually died.\r\n",
        "\r\n",
        "We will then produce a barplot to represent this. This will finalize our research into the corelation between deaths and cases."
      ]
    },
    {
      "cell_type": "code",
      "metadata": {
        "id": "7ouozmBBC5eY"
      },
      "source": [
        ""
      ],
      "execution_count": 265,
      "outputs": []
    },
    {
      "cell_type": "markdown",
      "metadata": {
        "id": "vkPVJ5eegC0r"
      },
      "source": [
        "## Clustering States"
      ]
    },
    {
      "cell_type": "markdown",
      "metadata": {
        "id": "zPDaOG1Zg7-D"
      },
      "source": [
        "## (FUTURE) Time Series Analysis\r\n",
        "\r\n",
        "The goal here is to see if we can accurately come up with a line based equation for predicting the future trend trend (number of cases) of covid-19 cases and covid-19 deaths.\r\n",
        "\r\n",
        "# We will then take the results we have created and display them over set interval of time e.g. (every month or every 2 weeks)."
      ]
    },
    {
      "cell_type": "markdown",
      "metadata": {
        "id": "O7s4FscngDES"
      },
      "source": [
        "The goal here is to cluster our data (using the Kmeans machine learning algorithm) and compare the similarties of each state using all the variables in the dataset that we have.\r\n",
        "\r\n",
        "To do this we first need to make a different column for each different state.\r\n",
        "\r\n",
        "Then we need to feed in the data to our clustering algorithm."
      ]
    },
    {
      "cell_type": "markdown",
      "metadata": {
        "id": "Tpizv2b6BmlQ"
      },
      "source": [
        ""
      ]
    }
  ]
}